{
 "cells": [
  {
   "cell_type": "code",
   "execution_count": null,
   "id": "c0d1ddda",
   "metadata": {},
   "outputs": [],
   "source": [
    "#this data was aquired using a csv file from the city of austin website "
   ]
  },
  {
   "cell_type": "markdown",
   "id": "9365a1fe",
   "metadata": {},
   "source": [
    "# Aquire the data"
   ]
  },
  {
   "cell_type": "code",
   "execution_count": 1,
   "id": "78defc98",
   "metadata": {},
   "outputs": [],
   "source": [
    "import warnings\n",
    "warnings.filterwarnings(\"ignore\")\n",
    "\n",
    "import numpy as np\n",
    "import pandas as pd\n",
    "import matplotlib.pyplot as plt\n",
    "import seaborn as sns\n",
    "from scipy import stats\n",
    "from sklearn.model_selection import train_test_split"
   ]
  },
  {
   "cell_type": "code",
   "execution_count": null,
   "id": "29b19289",
   "metadata": {},
   "outputs": [],
   "source": [
    "df = pd.read_csv('Austin_Animal_Center_Outcomes.csv')"
   ]
  },
  {
   "cell_type": "code",
   "execution_count": null,
   "id": "2f96aa81",
   "metadata": {},
   "outputs": [],
   "source": [
    "df.head()"
   ]
  },
  {
   "cell_type": "code",
   "execution_count": null,
   "id": "24c5d6c1",
   "metadata": {},
   "outputs": [],
   "source": [
    "df.Breed.value_counts()"
   ]
  },
  {
   "cell_type": "markdown",
   "id": "e8ad09e2",
   "metadata": {},
   "source": [
    "# Prepare the data / Data wrangling\n",
    "#### what i think i should start off on \n",
    "- look at nulls\n",
    "- missing values \n",
    "- rename the collumns \n",
    "-  create variables where euthanasia = 1 and non- ethanazia = 0 "
   ]
  },
  {
   "cell_type": "code",
   "execution_count": 2,
   "id": "49e23bbf",
   "metadata": {},
   "outputs": [],
   "source": [
    "from prepare import train_validate_test_split\n",
    "import prepare"
   ]
  },
  {
   "cell_type": "markdown",
   "id": "7c5ba0f6",
   "metadata": {},
   "source": [
    "## the main question:  identify diffrent attributes that can casue an animal to be euthanized \n",
    "\n",
    "- main goals to find ways to improve "
   ]
  },
  {
   "cell_type": "code",
   "execution_count": null,
   "id": "26d30410",
   "metadata": {},
   "outputs": [],
   "source": [
    "#chanign the collumn name so that it would be easier to run data \n",
    "df = df.rename(columns={'Date of Birth': 'DOB', 'Outcome Type':'outcome', 'Outcome Subtype':'subtype', 'Animal Type': 'animal_type', 'Sex upon Outcome': 'sex_upon_outcome', 'Age upon Outcome': 'age_upon_outcome'})\n"
   ]
  },
  {
   "cell_type": "code",
   "execution_count": null,
   "id": "32f61161",
   "metadata": {},
   "outputs": [],
   "source": [
    "df.head()"
   ]
  },
  {
   "cell_type": "code",
   "execution_count": null,
   "id": "e20c83f5",
   "metadata": {},
   "outputs": [],
   "source": [
    "df.outcome.value_counts()"
   ]
  },
  {
   "cell_type": "code",
   "execution_count": null,
   "id": "603b3c9c",
   "metadata": {},
   "outputs": [],
   "source": [
    "df.isnull().sum()\n",
    "\n",
    "#im thinking about "
   ]
  },
  {
   "cell_type": "code",
   "execution_count": null,
   "id": "4431ed06",
   "metadata": {},
   "outputs": [],
   "source": [
    "df['Name'] = df.Name.fillna(value='No_name')\n",
    "#just filling the names of all the no names "
   ]
  },
  {
   "cell_type": "code",
   "execution_count": null,
   "id": "eec1330e",
   "metadata": {},
   "outputs": [],
   "source": [
    "df.isnull().sum()"
   ]
  },
  {
   "cell_type": "code",
   "execution_count": null,
   "id": "0d884750",
   "metadata": {},
   "outputs": [],
   "source": [
    "df = df.drop(columns='subtype')\n",
    "\n",
    "#this has too many missing values "
   ]
  },
  {
   "cell_type": "code",
   "execution_count": null,
   "id": "0a39faea",
   "metadata": {},
   "outputs": [],
   "source": [
    "df.head()"
   ]
  },
  {
   "cell_type": "code",
   "execution_count": null,
   "id": "4e811181",
   "metadata": {},
   "outputs": [],
   "source": [
    "df.isnull().sum()"
   ]
  },
  {
   "cell_type": "code",
   "execution_count": null,
   "id": "db9783be",
   "metadata": {},
   "outputs": [],
   "source": [
    "df = df.dropna()\n",
    "\n",
    "#decided that I would still have alot of data valible so I will just drop"
   ]
  },
  {
   "cell_type": "code",
   "execution_count": null,
   "id": "5ce0c88e",
   "metadata": {},
   "outputs": [],
   "source": [
    "df.isnull().sum()"
   ]
  },
  {
   "cell_type": "code",
   "execution_count": null,
   "id": "6ac14c31",
   "metadata": {},
   "outputs": [],
   "source": [
    "df.info()"
   ]
  },
  {
   "cell_type": "code",
   "execution_count": null,
   "id": "52495a19",
   "metadata": {},
   "outputs": [],
   "source": [
    "df.shape\n",
    "\n",
    "#there is still enough data to keep going"
   ]
  },
  {
   "cell_type": "code",
   "execution_count": null,
   "id": "9af93358",
   "metadata": {
    "scrolled": true
   },
   "outputs": [],
   "source": [
    "df.head()"
   ]
  },
  {
   "cell_type": "code",
   "execution_count": null,
   "id": "4122e777",
   "metadata": {},
   "outputs": [],
   "source": [
    "## This was not nessary to do but i wanted to show my thought process as I was doing this "
   ]
  },
  {
   "cell_type": "code",
   "execution_count": null,
   "id": "21177d85",
   "metadata": {
    "scrolled": false
   },
   "outputs": [],
   "source": [
    "df.age_upon_outcome.value_counts()\n",
    "\n",
    "#those negative values are weird \n",
    "#i thhink they when making this datset they meant to make those 1 year, -1 does not make sense "
   ]
  },
  {
   "cell_type": "code",
   "execution_count": null,
   "id": "bc5e0545",
   "metadata": {},
   "outputs": [],
   "source": [
    "df = df.replace('-1 years', '1 year')\n",
    "#super weird negative years Im going to fix that and assume it was a mistake "
   ]
  },
  {
   "cell_type": "code",
   "execution_count": null,
   "id": "8bff0a5e",
   "metadata": {
    "scrolled": false
   },
   "outputs": [],
   "source": []
  },
  {
   "cell_type": "code",
   "execution_count": null,
   "id": "c58ce8e6",
   "metadata": {},
   "outputs": [],
   "source": [
    "df = df.replace('-2 years', '2 years')"
   ]
  },
  {
   "cell_type": "code",
   "execution_count": null,
   "id": "ef3f563a",
   "metadata": {
    "scrolled": true
   },
   "outputs": [],
   "source": []
  },
  {
   "cell_type": "code",
   "execution_count": null,
   "id": "75708cd0",
   "metadata": {},
   "outputs": [],
   "source": [
    "df = df.replace('-3 years', '3 years')"
   ]
  },
  {
   "cell_type": "code",
   "execution_count": null,
   "id": "065e0ae0",
   "metadata": {
    "scrolled": false
   },
   "outputs": [],
   "source": [
    "df.age_upon_outcome.value_counts()"
   ]
  },
  {
   "cell_type": "code",
   "execution_count": null,
   "id": "afa49de5",
   "metadata": {},
   "outputs": [],
   "source": [
    "df.head()"
   ]
  },
  {
   "cell_type": "code",
   "execution_count": null,
   "id": "ea19243c",
   "metadata": {
    "scrolled": true
   },
   "outputs": [],
   "source": [
    "df.animal_type.value_counts()"
   ]
  },
  {
   "cell_type": "code",
   "execution_count": null,
   "id": "e18683ba",
   "metadata": {},
   "outputs": [],
   "source": [
    "df.sex_upon_outcome.value_counts()"
   ]
  },
  {
   "cell_type": "code",
   "execution_count": null,
   "id": "862ac5f1",
   "metadata": {
    "scrolled": false
   },
   "outputs": [],
   "source": [
    "df.Color.value_counts()"
   ]
  },
  {
   "cell_type": "code",
   "execution_count": null,
   "id": "7ea58c91",
   "metadata": {},
   "outputs": [],
   "source": [
    "df.outcome.value_counts()"
   ]
  },
  {
   "cell_type": "code",
   "execution_count": null,
   "id": "00672bd3",
   "metadata": {
    "scrolled": true
   },
   "outputs": [],
   "source": [
    "df.info()"
   ]
  },
  {
   "cell_type": "code",
   "execution_count": null,
   "id": "28fa7f54",
   "metadata": {},
   "outputs": [],
   "source": [
    "# convert our date column to datetime type\n",
    "df.DOB = pd.to_datetime(df.DOB)\n",
    "df.dtypes\n"
   ]
  },
  {
   "cell_type": "code",
   "execution_count": null,
   "id": "2405d41d",
   "metadata": {},
   "outputs": [],
   "source": [
    "df['year_born'] = df.DOB.dt.year"
   ]
  },
  {
   "cell_type": "code",
   "execution_count": null,
   "id": "c7bbe3a5",
   "metadata": {},
   "outputs": [],
   "source": [
    "df.head()"
   ]
  },
  {
   "cell_type": "code",
   "execution_count": null,
   "id": "94745bfe",
   "metadata": {},
   "outputs": [],
   "source": [
    "df.info()"
   ]
  },
  {
   "cell_type": "code",
   "execution_count": null,
   "id": "16dae338",
   "metadata": {},
   "outputs": [],
   "source": [
    "df['current_age'] = 2022 - df.year_born\n",
    "\n",
    "#just addding the current age of the animal "
   ]
  },
  {
   "cell_type": "code",
   "execution_count": null,
   "id": "215d2bdc",
   "metadata": {},
   "outputs": [],
   "source": [
    "df.head()"
   ]
  },
  {
   "cell_type": "code",
   "execution_count": null,
   "id": "d0f10651",
   "metadata": {},
   "outputs": [],
   "source": [
    "df.info()"
   ]
  },
  {
   "cell_type": "code",
   "execution_count": null,
   "id": "8e29ba20",
   "metadata": {},
   "outputs": [],
   "source": [
    "#this will be age in years "
   ]
  },
  {
   "cell_type": "code",
   "execution_count": null,
   "id": "5f565f09",
   "metadata": {
    "scrolled": true
   },
   "outputs": [],
   "source": [
    "df.MonthYear = pd.to_datetime(df.MonthYear)\n",
    "df.dtypes"
   ]
  },
  {
   "cell_type": "code",
   "execution_count": null,
   "id": "f317582b",
   "metadata": {
    "scrolled": true
   },
   "outputs": [],
   "source": [
    "df.DateTime = pd.to_datetime(df.DateTime)\n",
    "df.dtypes\n"
   ]
  },
  {
   "cell_type": "code",
   "execution_count": null,
   "id": "2dc8a106",
   "metadata": {},
   "outputs": [],
   "source": [
    "df['year_released'] = df.DateTime.dt.year"
   ]
  },
  {
   "cell_type": "code",
   "execution_count": null,
   "id": "507f1c23",
   "metadata": {},
   "outputs": [],
   "source": [
    "df.head()"
   ]
  },
  {
   "cell_type": "code",
   "execution_count": null,
   "id": "6bc4bc3e",
   "metadata": {},
   "outputs": [],
   "source": [
    "df['Age_upon_out'] = df.DateTime - df.DOB"
   ]
  },
  {
   "cell_type": "code",
   "execution_count": null,
   "id": "7e88ab04",
   "metadata": {
    "scrolled": false
   },
   "outputs": [],
   "source": [
    "df.head()"
   ]
  },
  {
   "cell_type": "code",
   "execution_count": null,
   "id": "6a36aa27",
   "metadata": {},
   "outputs": [],
   "source": [
    "df['year_out'] = df.year_released - df.year_born"
   ]
  },
  {
   "cell_type": "code",
   "execution_count": null,
   "id": "ac58ee4a",
   "metadata": {},
   "outputs": [],
   "source": [
    "df.head()"
   ]
  },
  {
   "cell_type": "code",
   "execution_count": null,
   "id": "5513cbaa",
   "metadata": {
    "scrolled": false
   },
   "outputs": [],
   "source": [
    "df.year_out.value_counts()"
   ]
  },
  {
   "cell_type": "code",
   "execution_count": null,
   "id": "ed11978e",
   "metadata": {
    "scrolled": false
   },
   "outputs": [],
   "source": [
    "df.info()"
   ]
  },
  {
   "cell_type": "code",
   "execution_count": null,
   "id": "de031dc2",
   "metadata": {},
   "outputs": [],
   "source": [
    "#trying to change this "
   ]
  },
  {
   "cell_type": "code",
   "execution_count": null,
   "id": "7e801ca8",
   "metadata": {},
   "outputs": [],
   "source": [
    "#df.age_upon_outcome = "
   ]
  },
  {
   "cell_type": "code",
   "execution_count": null,
   "id": "14209b20",
   "metadata": {},
   "outputs": [],
   "source": [
    "df['days_old'] = df.Age_upon_out.dt.days"
   ]
  },
  {
   "cell_type": "code",
   "execution_count": null,
   "id": "1c2672aa",
   "metadata": {},
   "outputs": [],
   "source": [
    "df.head()"
   ]
  },
  {
   "cell_type": "code",
   "execution_count": null,
   "id": "c9d5a191",
   "metadata": {},
   "outputs": [],
   "source": [
    "df.days_old.info()"
   ]
  },
  {
   "cell_type": "code",
   "execution_count": null,
   "id": "7af855f0",
   "metadata": {},
   "outputs": [],
   "source": [
    "#df['Years_olD'] = df.days_old/365"
   ]
  },
  {
   "cell_type": "code",
   "execution_count": null,
   "id": "7e19c190",
   "metadata": {
    "scrolled": true
   },
   "outputs": [],
   "source": [
    "df.head()"
   ]
  },
  {
   "cell_type": "code",
   "execution_count": null,
   "id": "3915ce20",
   "metadata": {},
   "outputs": [],
   "source": [
    "#df['Years_olD'] = df.Years_olD.round()"
   ]
  },
  {
   "cell_type": "code",
   "execution_count": null,
   "id": "f6d62634",
   "metadata": {
    "scrolled": false
   },
   "outputs": [],
   "source": [
    "df.head()"
   ]
  },
  {
   "cell_type": "code",
   "execution_count": null,
   "id": "dbb8c7da",
   "metadata": {},
   "outputs": [],
   "source": []
  },
  {
   "cell_type": "code",
   "execution_count": null,
   "id": "9f94dd49",
   "metadata": {
    "scrolled": true
   },
   "outputs": [],
   "source": [
    "df.year_out.value_counts()"
   ]
  },
  {
   "cell_type": "code",
   "execution_count": null,
   "id": "9a1e9bde",
   "metadata": {},
   "outputs": [],
   "source": [
    "df = df.replace(-1, 1)"
   ]
  },
  {
   "cell_type": "code",
   "execution_count": null,
   "id": "d4efc138",
   "metadata": {},
   "outputs": [],
   "source": [
    "df.year_out.value_counts()"
   ]
  },
  {
   "cell_type": "code",
   "execution_count": null,
   "id": "6d67707f",
   "metadata": {
    "scrolled": false
   },
   "outputs": [],
   "source": [
    "df.Age_upon_out.value_counts()"
   ]
  },
  {
   "cell_type": "code",
   "execution_count": null,
   "id": "e8450474",
   "metadata": {
    "scrolled": true
   },
   "outputs": [],
   "source": [
    "df.Age_upon_out.info()"
   ]
  },
  {
   "cell_type": "code",
   "execution_count": null,
   "id": "9d611a90",
   "metadata": {},
   "outputs": [],
   "source": [
    "#df['Age_upon_out'] = df['Age_upon_out'].astype(int)"
   ]
  },
  {
   "cell_type": "code",
   "execution_count": null,
   "id": "f03d6c36",
   "metadata": {},
   "outputs": [],
   "source": [
    "df.head()"
   ]
  },
  {
   "cell_type": "code",
   "execution_count": null,
   "id": "7c33edec",
   "metadata": {},
   "outputs": [],
   "source": [
    "#df['year__outcome'] = df.Age_upon_out/ 365\n",
    "#this will make it into a suer weird number "
   ]
  },
  {
   "cell_type": "code",
   "execution_count": null,
   "id": "65d703de",
   "metadata": {},
   "outputs": [],
   "source": [
    "#df.head()"
   ]
  },
  {
   "cell_type": "code",
   "execution_count": null,
   "id": "8c8ac88d",
   "metadata": {},
   "outputs": [],
   "source": [
    "#df['Year_out'] = df.MonthYear.dt.year"
   ]
  },
  {
   "cell_type": "code",
   "execution_count": null,
   "id": "0bf909fd",
   "metadata": {},
   "outputs": [],
   "source": [
    "#df.head()"
   ]
  },
  {
   "cell_type": "code",
   "execution_count": null,
   "id": "0fedd6fe",
   "metadata": {},
   "outputs": [],
   "source": [
    "#df['Age_outcome'] = df.Year_out - df.year"
   ]
  },
  {
   "cell_type": "code",
   "execution_count": null,
   "id": "209eac73",
   "metadata": {},
   "outputs": [],
   "source": []
  },
  {
   "cell_type": "code",
   "execution_count": null,
   "id": "53ff87b8",
   "metadata": {},
   "outputs": [],
   "source": [
    "df.head()"
   ]
  },
  {
   "cell_type": "code",
   "execution_count": null,
   "id": "d16e078e",
   "metadata": {},
   "outputs": [],
   "source": [
    "df.Age_outcome.value_counts()"
   ]
  },
  {
   "cell_type": "code",
   "execution_count": null,
   "id": "7310cd3c",
   "metadata": {},
   "outputs": [],
   "source": [
    "df.age_upon_outcome.value_counts()"
   ]
  },
  {
   "cell_type": "code",
   "execution_count": null,
   "id": "ef4b0f8f",
   "metadata": {},
   "outputs": [],
   "source": [
    "df.age.value_counts()"
   ]
  },
  {
   "cell_type": "code",
   "execution_count": null,
   "id": "716b2d2f",
   "metadata": {},
   "outputs": [],
   "source": [
    "df['age_bin'] = pd.cut(df.age, \n",
    "                           bins = [0, 5, 10, 15, 20, 25, 30],\n",
    "                           labels = ['below 5yrs', 'over 5yrs', 'over 10yrs', 'over 15yrs', 'over 20yrs', 'over 25yrs'])"
   ]
  },
  {
   "cell_type": "code",
   "execution_count": null,
   "id": "dc4244ef",
   "metadata": {},
   "outputs": [],
   "source": [
    "df.head()"
   ]
  },
  {
   "cell_type": "code",
   "execution_count": null,
   "id": "08c92c19",
   "metadata": {},
   "outputs": [],
   "source": [
    "#dummys for outcome, sex and animal type "
   ]
  },
  {
   "cell_type": "code",
   "execution_count": null,
   "id": "7c11ec02",
   "metadata": {},
   "outputs": [],
   "source": [
    "dummies = pd.get_dummies(df['outcome'])"
   ]
  },
  {
   "cell_type": "code",
   "execution_count": null,
   "id": "382b4ca5",
   "metadata": {},
   "outputs": [],
   "source": [
    "df = pd.concat([df, dummies], axis=1)\n",
    "df.head()"
   ]
  },
  {
   "cell_type": "code",
   "execution_count": null,
   "id": "c32f5104",
   "metadata": {},
   "outputs": [],
   "source": [
    "dummies2 = pd.get_dummies(df[['animal_type','sex']])"
   ]
  },
  {
   "cell_type": "code",
   "execution_count": null,
   "id": "3c815c90",
   "metadata": {},
   "outputs": [],
   "source": [
    "df = pd.concat([df, dummies2], axis=1)\n",
    "df.head()"
   ]
  },
  {
   "cell_type": "code",
   "execution_count": null,
   "id": "cc7b56b7",
   "metadata": {
    "scrolled": true
   },
   "outputs": [],
   "source": [
    "df.Breed.info()"
   ]
  },
  {
   "cell_type": "code",
   "execution_count": null,
   "id": "2d0eab69",
   "metadata": {},
   "outputs": [],
   "source": [
    "def prep_animal_data(df):\n",
    "    df = df.rename(columns={'Date of Birth': 'DOB', 'Outcome Type':'outcome', 'Outcome Subtype':'subtype', 'Animal Type': 'animal_type', 'Sex upon Outcome': 'sex', 'Age upon Outcome': 'age'})\n",
    "    df['Name'] = df.Name.fillna(value='No_name')\n",
    "    df = df.drop(columns='subtype')\n",
    "    df = df.dropna()\n",
    "    df['age'] = 2022 - df.year\n",
    "    dummies = pd.get_dummies(df['outcome'])\n",
    "    df = pd.concat([df, dummies], axis=1)\n",
    "    \n",
    "    dummies2 = pd.get_dummies(df[['animal_type','sex']])\n",
    "    df = pd.concat([df, dummies2], axis=1)\n",
    "    return df"
   ]
  },
  {
   "cell_type": "code",
   "execution_count": 3,
   "id": "84249797",
   "metadata": {},
   "outputs": [],
   "source": [
    "df = prepare.get_animal_data()"
   ]
  },
  {
   "cell_type": "code",
   "execution_count": 4,
   "id": "752bca61",
   "metadata": {},
   "outputs": [],
   "source": [
    "df = prepare.prep_animal_data(df)"
   ]
  },
  {
   "cell_type": "code",
   "execution_count": 5,
   "id": "d08a7023",
   "metadata": {
    "scrolled": true
   },
   "outputs": [
    {
     "data": {
      "text/html": [
       "<div>\n",
       "<style scoped>\n",
       "    .dataframe tbody tr th:only-of-type {\n",
       "        vertical-align: middle;\n",
       "    }\n",
       "\n",
       "    .dataframe tbody tr th {\n",
       "        vertical-align: top;\n",
       "    }\n",
       "\n",
       "    .dataframe thead th {\n",
       "        text-align: right;\n",
       "    }\n",
       "</style>\n",
       "<table border=\"1\" class=\"dataframe\">\n",
       "  <thead>\n",
       "    <tr style=\"text-align: right;\">\n",
       "      <th></th>\n",
       "      <th>Name</th>\n",
       "      <th>DateTime</th>\n",
       "      <th>MonthYear</th>\n",
       "      <th>DOB</th>\n",
       "      <th>outcome</th>\n",
       "      <th>animal_type</th>\n",
       "      <th>sex</th>\n",
       "      <th>age_upon_outcome</th>\n",
       "      <th>Breed</th>\n",
       "      <th>Color</th>\n",
       "      <th>...</th>\n",
       "      <th>animal_type_Bird</th>\n",
       "      <th>animal_type_Cat</th>\n",
       "      <th>animal_type_Dog</th>\n",
       "      <th>animal_type_Livestock</th>\n",
       "      <th>animal_type_Other</th>\n",
       "      <th>sex_Intact Female</th>\n",
       "      <th>sex_Intact Male</th>\n",
       "      <th>sex_Neutered Male</th>\n",
       "      <th>sex_Spayed Female</th>\n",
       "      <th>sex_Unknown</th>\n",
       "    </tr>\n",
       "    <tr>\n",
       "      <th>Animal ID</th>\n",
       "      <th></th>\n",
       "      <th></th>\n",
       "      <th></th>\n",
       "      <th></th>\n",
       "      <th></th>\n",
       "      <th></th>\n",
       "      <th></th>\n",
       "      <th></th>\n",
       "      <th></th>\n",
       "      <th></th>\n",
       "      <th></th>\n",
       "      <th></th>\n",
       "      <th></th>\n",
       "      <th></th>\n",
       "      <th></th>\n",
       "      <th></th>\n",
       "      <th></th>\n",
       "      <th></th>\n",
       "      <th></th>\n",
       "      <th></th>\n",
       "      <th></th>\n",
       "    </tr>\n",
       "  </thead>\n",
       "  <tbody>\n",
       "    <tr>\n",
       "      <th>A794011</th>\n",
       "      <td>Chunk</td>\n",
       "      <td>2019-05-08 18:20:00</td>\n",
       "      <td>2019-05-01</td>\n",
       "      <td>2017-05-02</td>\n",
       "      <td>Rto-Adopt</td>\n",
       "      <td>Cat</td>\n",
       "      <td>Neutered Male</td>\n",
       "      <td>2 years</td>\n",
       "      <td>Domestic Shorthair Mix</td>\n",
       "      <td>Brown Tabby/White</td>\n",
       "      <td>...</td>\n",
       "      <td>0</td>\n",
       "      <td>1</td>\n",
       "      <td>0</td>\n",
       "      <td>0</td>\n",
       "      <td>0</td>\n",
       "      <td>0</td>\n",
       "      <td>0</td>\n",
       "      <td>1</td>\n",
       "      <td>0</td>\n",
       "      <td>0</td>\n",
       "    </tr>\n",
       "    <tr>\n",
       "      <th>A776359</th>\n",
       "      <td>Gizmo</td>\n",
       "      <td>2018-07-18 16:02:00</td>\n",
       "      <td>2018-07-01</td>\n",
       "      <td>2017-07-12</td>\n",
       "      <td>Adoption</td>\n",
       "      <td>Dog</td>\n",
       "      <td>Neutered Male</td>\n",
       "      <td>1 year</td>\n",
       "      <td>Chihuahua Shorthair Mix</td>\n",
       "      <td>White/Brown</td>\n",
       "      <td>...</td>\n",
       "      <td>0</td>\n",
       "      <td>0</td>\n",
       "      <td>1</td>\n",
       "      <td>0</td>\n",
       "      <td>0</td>\n",
       "      <td>0</td>\n",
       "      <td>0</td>\n",
       "      <td>1</td>\n",
       "      <td>0</td>\n",
       "      <td>0</td>\n",
       "    </tr>\n",
       "    <tr>\n",
       "      <th>A821648</th>\n",
       "      <td>No_name</td>\n",
       "      <td>2020-08-16 11:38:00</td>\n",
       "      <td>2020-08-01</td>\n",
       "      <td>2019-08-16</td>\n",
       "      <td>Euthanasia</td>\n",
       "      <td>Other</td>\n",
       "      <td>Unknown</td>\n",
       "      <td>1 year</td>\n",
       "      <td>Raccoon</td>\n",
       "      <td>Gray</td>\n",
       "      <td>...</td>\n",
       "      <td>0</td>\n",
       "      <td>0</td>\n",
       "      <td>0</td>\n",
       "      <td>0</td>\n",
       "      <td>1</td>\n",
       "      <td>0</td>\n",
       "      <td>0</td>\n",
       "      <td>0</td>\n",
       "      <td>0</td>\n",
       "      <td>1</td>\n",
       "    </tr>\n",
       "    <tr>\n",
       "      <th>A720371</th>\n",
       "      <td>Moose</td>\n",
       "      <td>2016-02-13 17:59:00</td>\n",
       "      <td>2016-02-01</td>\n",
       "      <td>2015-10-08</td>\n",
       "      <td>Adoption</td>\n",
       "      <td>Dog</td>\n",
       "      <td>Neutered Male</td>\n",
       "      <td>4 months</td>\n",
       "      <td>Anatol Shepherd/Labrador Retriever</td>\n",
       "      <td>Buff</td>\n",
       "      <td>...</td>\n",
       "      <td>0</td>\n",
       "      <td>0</td>\n",
       "      <td>1</td>\n",
       "      <td>0</td>\n",
       "      <td>0</td>\n",
       "      <td>0</td>\n",
       "      <td>0</td>\n",
       "      <td>1</td>\n",
       "      <td>0</td>\n",
       "      <td>0</td>\n",
       "    </tr>\n",
       "    <tr>\n",
       "      <th>A674754</th>\n",
       "      <td>No_name</td>\n",
       "      <td>2014-03-18 11:47:00</td>\n",
       "      <td>2014-03-01</td>\n",
       "      <td>2014-03-12</td>\n",
       "      <td>Transfer</td>\n",
       "      <td>Cat</td>\n",
       "      <td>Intact Male</td>\n",
       "      <td>6 days</td>\n",
       "      <td>Domestic Shorthair Mix</td>\n",
       "      <td>Orange Tabby</td>\n",
       "      <td>...</td>\n",
       "      <td>0</td>\n",
       "      <td>1</td>\n",
       "      <td>0</td>\n",
       "      <td>0</td>\n",
       "      <td>0</td>\n",
       "      <td>0</td>\n",
       "      <td>1</td>\n",
       "      <td>0</td>\n",
       "      <td>0</td>\n",
       "      <td>0</td>\n",
       "    </tr>\n",
       "  </tbody>\n",
       "</table>\n",
       "<p>5 rows × 38 columns</p>\n",
       "</div>"
      ],
      "text/plain": [
       "              Name            DateTime  MonthYear        DOB     outcome  \\\n",
       "Animal ID                                                                  \n",
       "A794011      Chunk 2019-05-08 18:20:00 2019-05-01 2017-05-02   Rto-Adopt   \n",
       "A776359      Gizmo 2018-07-18 16:02:00 2018-07-01 2017-07-12    Adoption   \n",
       "A821648    No_name 2020-08-16 11:38:00 2020-08-01 2019-08-16  Euthanasia   \n",
       "A720371      Moose 2016-02-13 17:59:00 2016-02-01 2015-10-08    Adoption   \n",
       "A674754    No_name 2014-03-18 11:47:00 2014-03-01 2014-03-12    Transfer   \n",
       "\n",
       "          animal_type            sex age_upon_outcome  \\\n",
       "Animal ID                                               \n",
       "A794011           Cat  Neutered Male          2 years   \n",
       "A776359           Dog  Neutered Male           1 year   \n",
       "A821648         Other        Unknown           1 year   \n",
       "A720371           Dog  Neutered Male         4 months   \n",
       "A674754           Cat    Intact Male           6 days   \n",
       "\n",
       "                                        Breed              Color  ...  \\\n",
       "Animal ID                                                         ...   \n",
       "A794011                Domestic Shorthair Mix  Brown Tabby/White  ...   \n",
       "A776359               Chihuahua Shorthair Mix        White/Brown  ...   \n",
       "A821648                               Raccoon               Gray  ...   \n",
       "A720371    Anatol Shepherd/Labrador Retriever               Buff  ...   \n",
       "A674754                Domestic Shorthair Mix       Orange Tabby  ...   \n",
       "\n",
       "           animal_type_Bird  animal_type_Cat animal_type_Dog  \\\n",
       "Animal ID                                                      \n",
       "A794011                   0                1               0   \n",
       "A776359                   0                0               1   \n",
       "A821648                   0                0               0   \n",
       "A720371                   0                0               1   \n",
       "A674754                   0                1               0   \n",
       "\n",
       "           animal_type_Livestock  animal_type_Other sex_Intact Female  \\\n",
       "Animal ID                                                               \n",
       "A794011                        0                  0                 0   \n",
       "A776359                        0                  0                 0   \n",
       "A821648                        0                  1                 0   \n",
       "A720371                        0                  0                 0   \n",
       "A674754                        0                  0                 0   \n",
       "\n",
       "           sex_Intact Male  sex_Neutered Male  sex_Spayed Female  sex_Unknown  \n",
       "Animal ID                                                                      \n",
       "A794011                  0                  1                  0            0  \n",
       "A776359                  0                  1                  0            0  \n",
       "A821648                  0                  0                  0            1  \n",
       "A720371                  0                  1                  0            0  \n",
       "A674754                  1                  0                  0            0  \n",
       "\n",
       "[5 rows x 38 columns]"
      ]
     },
     "execution_count": 5,
     "metadata": {},
     "output_type": "execute_result"
    }
   ],
   "source": [
    "df.head()"
   ]
  },
  {
   "cell_type": "code",
   "execution_count": 6,
   "id": "2b0e6e46",
   "metadata": {},
   "outputs": [
    {
     "name": "stdout",
     "output_type": "stream",
     "text": [
      "<class 'pandas.core.frame.DataFrame'>\n",
      "Index: 142750 entries, A794011 to A857750\n",
      "Data columns (total 38 columns):\n",
      " #   Column                 Non-Null Count   Dtype          \n",
      "---  ------                 --------------   -----          \n",
      " 0   Name                   142750 non-null  object         \n",
      " 1   DateTime               142750 non-null  datetime64[ns] \n",
      " 2   MonthYear              142750 non-null  datetime64[ns] \n",
      " 3   DOB                    142750 non-null  datetime64[ns] \n",
      " 4   outcome                142750 non-null  object         \n",
      " 5   animal_type            142750 non-null  object         \n",
      " 6   sex                    142750 non-null  object         \n",
      " 7   age_upon_outcome       142750 non-null  object         \n",
      " 8   Breed                  142750 non-null  object         \n",
      " 9   Color                  142750 non-null  object         \n",
      " 10  year_born              142750 non-null  int64          \n",
      " 11  current_age            142750 non-null  int64          \n",
      " 12  age_bin                140392 non-null  category       \n",
      " 13  year_released          142750 non-null  int64          \n",
      " 14  age_out_years          142750 non-null  int64          \n",
      " 15  Age_upon_out           142750 non-null  timedelta64[ns]\n",
      " 16  days_old               142750 non-null  int64          \n",
      " 17  Adoption               142750 non-null  uint8          \n",
      " 18  Died                   142750 non-null  uint8          \n",
      " 19  Disposal               142750 non-null  uint8          \n",
      " 20  Euthanasia             142750 non-null  uint8          \n",
      " 21  Lost                   142750 non-null  uint8          \n",
      " 22  Missing                142750 non-null  uint8          \n",
      " 23  Relocate               142750 non-null  uint8          \n",
      " 24  Return to Owner        142750 non-null  uint8          \n",
      " 25  Rto-Adopt              142750 non-null  uint8          \n",
      " 26  Stolen                 142750 non-null  uint8          \n",
      " 27  Transfer               142750 non-null  uint8          \n",
      " 28  animal_type_Bird       142750 non-null  uint8          \n",
      " 29  animal_type_Cat        142750 non-null  uint8          \n",
      " 30  animal_type_Dog        142750 non-null  uint8          \n",
      " 31  animal_type_Livestock  142750 non-null  uint8          \n",
      " 32  animal_type_Other      142750 non-null  uint8          \n",
      " 33  sex_Intact Female      142750 non-null  uint8          \n",
      " 34  sex_Intact Male        142750 non-null  uint8          \n",
      " 35  sex_Neutered Male      142750 non-null  uint8          \n",
      " 36  sex_Spayed Female      142750 non-null  uint8          \n",
      " 37  sex_Unknown            142750 non-null  uint8          \n",
      "dtypes: category(1), datetime64[ns](3), int64(5), object(7), timedelta64[ns](1), uint8(21)\n",
      "memory usage: 21.5+ MB\n"
     ]
    }
   ],
   "source": [
    "df.info()"
   ]
  },
  {
   "cell_type": "markdown",
   "id": "423e2b81",
   "metadata": {},
   "source": [
    "# Exploration "
   ]
  },
  {
   "cell_type": "markdown",
   "id": "8b0ef71f",
   "metadata": {},
   "source": [
    "###  Cleaner exploration on explore an modeling rough draft "
   ]
  },
  {
   "cell_type": "code",
   "execution_count": null,
   "id": "e65d7f9c",
   "metadata": {
    "scrolled": true
   },
   "outputs": [],
   "source": [
    "df.info()"
   ]
  },
  {
   "cell_type": "code",
   "execution_count": null,
   "id": "4adab1ca",
   "metadata": {},
   "outputs": [],
   "source": [
    "def train_validate_test_split(df, target, seed=123):\n",
    "    '''\n",
    "    This function takes in a dataframe, the name of the target variable\n",
    "    (for stratification purposes), and an integer for a setting a seed\n",
    "    and splits the data into train, validate and test. \n",
    "    Test is 20% of the original dataset, validate is .30*.80= 24% of the \n",
    "    original dataset, and train is .70*.80= 56% of the original dataset. \n",
    "    The function returns, in this order, train, validate and test dataframes. \n",
    "    '''\n",
    "    train_validate, test = train_test_split(df, test_size=0.2, \n",
    "                                            random_state=seed, \n",
    "                                            stratify=df[target])\n",
    "    train, validate = train_test_split(train_validate, test_size=0.3, \n",
    "                                       random_state=seed,\n",
    "                                       stratify=train_validate[target])\n",
    "    return train, validate, test"
   ]
  },
  {
   "cell_type": "code",
   "execution_count": null,
   "id": "8207fdc4",
   "metadata": {},
   "outputs": [],
   "source": [
    "# Stratify with categorical target variables\n",
    "train, validate, test = train_validate_test_split(df, target='Euthanasia')\n",
    "train.shape, validate.shape, test.shape\n"
   ]
  },
  {
   "cell_type": "markdown",
   "id": "efee1edf",
   "metadata": {},
   "source": [
    "Initial questions \n",
    "\n",
    "- what sex of animals is more likely to get euthi\n",
    "\n",
    "- what animal type is more lkely to get euthi\n",
    "\n",
    "- Does the age of the animal determine the euthinization\n",
    "\n",
    "- what age are animals more likly to get adopted?\n",
    "\n",
    "- what Breed is more likly to get adopted "
   ]
  },
  {
   "cell_type": "code",
   "execution_count": null,
   "id": "0f17275e",
   "metadata": {},
   "outputs": [],
   "source": [
    "#only using train "
   ]
  },
  {
   "cell_type": "markdown",
   "id": "655227d5",
   "metadata": {},
   "source": [
    "## Question 1 what animal type of animals is more likely to get euthi"
   ]
  },
  {
   "cell_type": "code",
   "execution_count": null,
   "id": "7ff09ccc",
   "metadata": {},
   "outputs": [],
   "source": [
    "sns.catplot(x=\"animal_type\",hue = 'Euthanasia', data=train, kind='count')"
   ]
  },
  {
   "cell_type": "code",
   "execution_count": null,
   "id": "f2b819ba",
   "metadata": {},
   "outputs": [],
   "source": [
    "#looks like other is more likely to get euthinized "
   ]
  },
  {
   "cell_type": "code",
   "execution_count": null,
   "id": "839a80cd",
   "metadata": {},
   "outputs": [],
   "source": []
  },
  {
   "cell_type": "markdown",
   "id": "9f4a3a22",
   "metadata": {},
   "source": [
    "## Question 1.2 what animal type of animals is more likely to get adopted"
   ]
  },
  {
   "cell_type": "code",
   "execution_count": null,
   "id": "6402149b",
   "metadata": {},
   "outputs": [],
   "source": [
    "sns.catplot(x=\"animal_type\",hue = 'Adoption', data=train, kind='count')"
   ]
  },
  {
   "cell_type": "code",
   "execution_count": null,
   "id": "3e2d2363",
   "metadata": {
    "scrolled": false
   },
   "outputs": [],
   "source": [
    "plt.figure(figsize=(12,9))\n",
    "sns.catplot(x=\"animal_type\",hue = 'outcome', data=train, kind='count')"
   ]
  },
  {
   "cell_type": "markdown",
   "id": "3d667e3e",
   "metadata": {},
   "source": [
    "### Exploring the euthanized breeds "
   ]
  },
  {
   "cell_type": "code",
   "execution_count": null,
   "id": "f99787b5",
   "metadata": {},
   "outputs": [],
   "source": [
    " df4 = df[['animal_type','outcome','Breed']]\n",
    "    \n",
    "df4"
   ]
  },
  {
   "cell_type": "code",
   "execution_count": null,
   "id": "4a2115ef",
   "metadata": {
    "scrolled": true
   },
   "outputs": [],
   "source": [
    " df4 = df4.loc[df4['animal_type'] == 'Other']"
   ]
  },
  {
   "cell_type": "code",
   "execution_count": null,
   "id": "b8eeef1d",
   "metadata": {
    "scrolled": true
   },
   "outputs": [],
   "source": [
    "df4.head()"
   ]
  },
  {
   "cell_type": "code",
   "execution_count": null,
   "id": "ebd9fcf3",
   "metadata": {},
   "outputs": [],
   "source": []
  },
  {
   "cell_type": "code",
   "execution_count": null,
   "id": "f0ddc27a",
   "metadata": {
    "scrolled": false
   },
   "outputs": [],
   "source": [
    "df4.Breed.value_counts()"
   ]
  },
  {
   "cell_type": "code",
   "execution_count": null,
   "id": "d5123f72",
   "metadata": {},
   "outputs": [],
   "source": [
    "#other consists of diffrent animanls "
   ]
  },
  {
   "cell_type": "code",
   "execution_count": null,
   "id": "eb081b2e",
   "metadata": {},
   "outputs": [],
   "source": [
    "df5 = df[['animal_type','outcome','Breed']]\n",
    "    \n",
    "df5.head()"
   ]
  },
  {
   "cell_type": "code",
   "execution_count": null,
   "id": "8344493b",
   "metadata": {},
   "outputs": [],
   "source": [
    " df5 = df5.loc[df5['outcome'] == 'Euthanasia']"
   ]
  },
  {
   "cell_type": "code",
   "execution_count": null,
   "id": "59637ff6",
   "metadata": {
    "scrolled": true
   },
   "outputs": [],
   "source": [
    "df5"
   ]
  },
  {
   "cell_type": "code",
   "execution_count": null,
   "id": "e3a4666c",
   "metadata": {},
   "outputs": [],
   "source": []
  },
  {
   "cell_type": "code",
   "execution_count": null,
   "id": "799a20fb",
   "metadata": {
    "scrolled": true
   },
   "outputs": [],
   "source": [
    "df5.value_counts()"
   ]
  },
  {
   "cell_type": "code",
   "execution_count": null,
   "id": "8145d852",
   "metadata": {},
   "outputs": [],
   "source": [
    "df.head()"
   ]
  },
  {
   "cell_type": "markdown",
   "id": "b84433f2",
   "metadata": {},
   "source": [
    "## QUESTION 2 what sex of animals is more likely to get euthi"
   ]
  },
  {
   "cell_type": "code",
   "execution_count": null,
   "id": "0cddb7a3",
   "metadata": {},
   "outputs": [],
   "source": [
    "plt.figure(figsize=(15,10))\n",
    "c = sns.countplot(train['sex'],hue=train['Euthanasia'])\n",
    "\n",
    "for p in c.patches:\n",
    "    c.annotate(p.get_height(), \n",
    "                (p.get_x() + p.get_width() / 2.0, \n",
    "                 p.get_height()), \n",
    "                 ha = 'center', \n",
    "                 va = 'center', \n",
    "                 xytext = (2, 10),\n",
    "                 textcoords = 'offset points')"
   ]
  },
  {
   "cell_type": "code",
   "execution_count": null,
   "id": "27fea2da",
   "metadata": {},
   "outputs": [],
   "source": [
    "# ax = sns.countplot(x=train['sex'],\n",
    "#                    hue=train['Euthanasia'].value_counts(ascending=False).index);\n",
    "\n",
    "# abs_values = train['Euthanasia'].value_counts(ascending=False).values\n",
    "\n",
    "# ax.bar_label(container=ax.containers[0], labels=abs_values)"
   ]
  },
  {
   "cell_type": "markdown",
   "id": "5aa28036",
   "metadata": {},
   "source": [
    "##  Question 3 - Does the age of the animal determine the euthinization"
   ]
  },
  {
   "cell_type": "code",
   "execution_count": null,
   "id": "b05d8ded",
   "metadata": {},
   "outputs": [],
   "source": [
    "plt.figure(figsize=(12,9))\n",
    "sns.set_style(\"dark\")\n",
    "sns.set_context(\"notebook\", font_scale=1.5, rc={\"lines.linewidth\": .5})\n",
    "sns.set(context='notebook', style='dark', font='Helvetica', font_scale=1, color_codes=True, rc=None)\n",
    "#sns.histplot(x = train['age'] ,hue=train['Euthanasia'], data ='train', multiple=\"stack\")\n"
   ]
  },
  {
   "cell_type": "code",
   "execution_count": null,
   "id": "262abe4e",
   "metadata": {},
   "outputs": [],
   "source": [
    "plt.figure(figsize=(12,9))\n",
    "sns.countplot(x = train['age'] ,hue=train['Euthanasia'])"
   ]
  },
  {
   "cell_type": "code",
   "execution_count": null,
   "id": "152ff6a3",
   "metadata": {},
   "outputs": [],
   "source": [
    "# looks like animals around the age of 7-9 are more likely to get euthanized "
   ]
  },
  {
   "cell_type": "markdown",
   "id": "322298fb",
   "metadata": {},
   "source": [
    "# question 4 - what are the diffrent outcomes for certain animal types"
   ]
  },
  {
   "cell_type": "code",
   "execution_count": null,
   "id": "e83eee87",
   "metadata": {},
   "outputs": [],
   "source": [
    "train.head()"
   ]
  },
  {
   "cell_type": "code",
   "execution_count": null,
   "id": "29c4d8bf",
   "metadata": {},
   "outputs": [],
   "source": [
    "plt.figure(figsize=(14,10))\n",
    "sns.countplot(x = train['outcome'] ,hue=train['animal_type'])"
   ]
  },
  {
   "cell_type": "code",
   "execution_count": null,
   "id": "eb031664",
   "metadata": {},
   "outputs": [],
   "source": [
    "df.info()"
   ]
  },
  {
   "cell_type": "code",
   "execution_count": null,
   "id": "ce3921ea",
   "metadata": {},
   "outputs": [],
   "source": []
  }
 ],
 "metadata": {
  "kernelspec": {
   "display_name": "Python 3 (ipykernel)",
   "language": "python",
   "name": "python3"
  },
  "language_info": {
   "codemirror_mode": {
    "name": "ipython",
    "version": 3
   },
   "file_extension": ".py",
   "mimetype": "text/x-python",
   "name": "python",
   "nbconvert_exporter": "python",
   "pygments_lexer": "ipython3",
   "version": "3.9.12"
  }
 },
 "nbformat": 4,
 "nbformat_minor": 5
}
