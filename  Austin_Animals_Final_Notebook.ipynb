{
 "cells": [
  {
   "cell_type": "markdown",
   "id": "fa2daffe",
   "metadata": {},
   "source": [
    "# Saving our Austin Animals "
   ]
  },
  {
   "cell_type": "markdown",
   "id": "9c9101ad",
   "metadata": {},
   "source": [
    "By Glady Barrios\n",
    "\n",
    "August, 17, 2022"
   ]
  },
  {
   "cell_type": "markdown",
   "id": "735bc99a",
   "metadata": {},
   "source": [
    "# Project Goals"
   ]
  },
  {
   "cell_type": "markdown",
   "id": "7efb459b",
   "metadata": {},
   "source": [
    "Although being 90% \"no kill\" and being the the largest no kill city in the country, there is still some ammount of animals that are undergoing euthanization.\n",
    "The goal is to use machine learning models to accuratly predcict weather an animal in the shelter would lead to euthanasia. With this information we can even increcrease that 90% \"no kill\" and reduce the ammount of animals getting euthanized!"
   ]
  },
  {
   "cell_type": "code",
   "execution_count": null,
   "id": "667bdfbf",
   "metadata": {},
   "outputs": [],
   "source": []
  },
  {
   "cell_type": "markdown",
   "id": "c971c4c7",
   "metadata": {},
   "source": [
    "# Project Description"
   ]
  },
  {
   "cell_type": "markdown",
   "id": "b59dd139",
   "metadata": {},
   "source": [
    "There are sevral diffrent attributes as to why our animals get euthanized, using this dataset from the City or austin website we will explore the diffrent attributes and use our best model to predict weather an animals certain characteristics will lead them to be euthanized. The attributes we will be exploring are the animals, age, sex, type and year the animal was released."
   ]
  },
  {
   "cell_type": "code",
   "execution_count": null,
   "id": "28266ece",
   "metadata": {},
   "outputs": [],
   "source": []
  },
  {
   "cell_type": "markdown",
   "id": "cf052f87",
   "metadata": {},
   "source": [
    "# Mini - Data dictionary"
   ]
  },
  {
   "cell_type": "code",
   "execution_count": null,
   "id": "fb7a7d06",
   "metadata": {},
   "outputs": [],
   "source": []
  },
  {
   "cell_type": "code",
   "execution_count": null,
   "id": "9c0ee957",
   "metadata": {},
   "outputs": [],
   "source": []
  },
  {
   "cell_type": "code",
   "execution_count": null,
   "id": "1466ca42",
   "metadata": {},
   "outputs": [],
   "source": []
  },
  {
   "cell_type": "markdown",
   "id": "71931032",
   "metadata": {},
   "source": [
    "# Important Librarys"
   ]
  },
  {
   "cell_type": "code",
   "execution_count": 1,
   "id": "6e6069a7",
   "metadata": {},
   "outputs": [],
   "source": [
    "#these are all the importan libraries used to run the data \n",
    "import warnings\n",
    "warnings.filterwarnings(\"ignore\")\n",
    "\n",
    "import numpy as np\n",
    "import pandas as pd\n",
    "import matplotlib.pyplot as plt\n",
    "import seaborn as sns\n",
    "from scipy import stats\n",
    "from sklearn.model_selection import train_test_split\n",
    "\n",
    "from prepare import train_validate_test_split\n",
    "import prepare\n",
    "#these will be used for modeling \n",
    "from sklearn.model_selection import train_test_split\n",
    "from sklearn.tree import DecisionTreeClassifier, plot_tree\n",
    "from sklearn.metrics import classification_report\n",
    "from sklearn.metrics import confusion_matrix\n",
    "from sklearn.metrics import classification_report, confusion_matrix, plot_confusion_matrix\n",
    "from sklearn.ensemble import RandomForestClassifier\n",
    "from sklearn.neighbors import KNeighborsClassifier\n",
    "from sklearn.linear_model import LogisticRegression\n",
    "from sklearn.feature_selection import SelectKBest, RFE, f_regression, SequentialFeatureSelector\n"
   ]
  },
  {
   "cell_type": "markdown",
   "id": "f4a9d61a",
   "metadata": {},
   "source": [
    "# Aquire "
   ]
  },
  {
   "cell_type": "markdown",
   "id": "3d6dc868",
   "metadata": {},
   "source": [
    "I aquired the data from the city of austin open database portal (put website here)\n",
    "\n",
    "- using a downloadable csv file "
   ]
  },
  {
   "cell_type": "code",
   "execution_count": 2,
   "id": "1643282e",
   "metadata": {},
   "outputs": [],
   "source": [
    "df = prepare.get_animal_data()"
   ]
  },
  {
   "cell_type": "code",
   "execution_count": 3,
   "id": "3e8f2fdb",
   "metadata": {
    "scrolled": false
   },
   "outputs": [
    {
     "data": {
      "text/html": [
       "<div>\n",
       "<style scoped>\n",
       "    .dataframe tbody tr th:only-of-type {\n",
       "        vertical-align: middle;\n",
       "    }\n",
       "\n",
       "    .dataframe tbody tr th {\n",
       "        vertical-align: top;\n",
       "    }\n",
       "\n",
       "    .dataframe thead th {\n",
       "        text-align: right;\n",
       "    }\n",
       "</style>\n",
       "<table border=\"1\" class=\"dataframe\">\n",
       "  <thead>\n",
       "    <tr style=\"text-align: right;\">\n",
       "      <th></th>\n",
       "      <th>Name</th>\n",
       "      <th>DateTime</th>\n",
       "      <th>MonthYear</th>\n",
       "      <th>Date of Birth</th>\n",
       "      <th>Outcome Type</th>\n",
       "      <th>Outcome Subtype</th>\n",
       "      <th>Animal Type</th>\n",
       "      <th>Sex upon Outcome</th>\n",
       "      <th>Age upon Outcome</th>\n",
       "      <th>Breed</th>\n",
       "      <th>Color</th>\n",
       "    </tr>\n",
       "    <tr>\n",
       "      <th>Animal ID</th>\n",
       "      <th></th>\n",
       "      <th></th>\n",
       "      <th></th>\n",
       "      <th></th>\n",
       "      <th></th>\n",
       "      <th></th>\n",
       "      <th></th>\n",
       "      <th></th>\n",
       "      <th></th>\n",
       "      <th></th>\n",
       "      <th></th>\n",
       "    </tr>\n",
       "  </thead>\n",
       "  <tbody>\n",
       "    <tr>\n",
       "      <th>A794011</th>\n",
       "      <td>Chunk</td>\n",
       "      <td>05/08/2019 06:20:00 PM</td>\n",
       "      <td>May 2019</td>\n",
       "      <td>05/02/2017</td>\n",
       "      <td>Rto-Adopt</td>\n",
       "      <td>NaN</td>\n",
       "      <td>Cat</td>\n",
       "      <td>Neutered Male</td>\n",
       "      <td>2 years</td>\n",
       "      <td>Domestic Shorthair Mix</td>\n",
       "      <td>Brown Tabby/White</td>\n",
       "    </tr>\n",
       "    <tr>\n",
       "      <th>A776359</th>\n",
       "      <td>Gizmo</td>\n",
       "      <td>07/18/2018 04:02:00 PM</td>\n",
       "      <td>Jul 2018</td>\n",
       "      <td>07/12/2017</td>\n",
       "      <td>Adoption</td>\n",
       "      <td>NaN</td>\n",
       "      <td>Dog</td>\n",
       "      <td>Neutered Male</td>\n",
       "      <td>1 year</td>\n",
       "      <td>Chihuahua Shorthair Mix</td>\n",
       "      <td>White/Brown</td>\n",
       "    </tr>\n",
       "    <tr>\n",
       "      <th>A821648</th>\n",
       "      <td>NaN</td>\n",
       "      <td>08/16/2020 11:38:00 AM</td>\n",
       "      <td>Aug 2020</td>\n",
       "      <td>08/16/2019</td>\n",
       "      <td>Euthanasia</td>\n",
       "      <td>NaN</td>\n",
       "      <td>Other</td>\n",
       "      <td>Unknown</td>\n",
       "      <td>1 year</td>\n",
       "      <td>Raccoon</td>\n",
       "      <td>Gray</td>\n",
       "    </tr>\n",
       "    <tr>\n",
       "      <th>A720371</th>\n",
       "      <td>Moose</td>\n",
       "      <td>02/13/2016 05:59:00 PM</td>\n",
       "      <td>Feb 2016</td>\n",
       "      <td>10/08/2015</td>\n",
       "      <td>Adoption</td>\n",
       "      <td>NaN</td>\n",
       "      <td>Dog</td>\n",
       "      <td>Neutered Male</td>\n",
       "      <td>4 months</td>\n",
       "      <td>Anatol Shepherd/Labrador Retriever</td>\n",
       "      <td>Buff</td>\n",
       "    </tr>\n",
       "    <tr>\n",
       "      <th>A674754</th>\n",
       "      <td>NaN</td>\n",
       "      <td>03/18/2014 11:47:00 AM</td>\n",
       "      <td>Mar 2014</td>\n",
       "      <td>03/12/2014</td>\n",
       "      <td>Transfer</td>\n",
       "      <td>Partner</td>\n",
       "      <td>Cat</td>\n",
       "      <td>Intact Male</td>\n",
       "      <td>6 days</td>\n",
       "      <td>Domestic Shorthair Mix</td>\n",
       "      <td>Orange Tabby</td>\n",
       "    </tr>\n",
       "  </tbody>\n",
       "</table>\n",
       "</div>"
      ],
      "text/plain": [
       "            Name                DateTime MonthYear Date of Birth Outcome Type  \\\n",
       "Animal ID                                                                       \n",
       "A794011    Chunk  05/08/2019 06:20:00 PM  May 2019    05/02/2017    Rto-Adopt   \n",
       "A776359    Gizmo  07/18/2018 04:02:00 PM  Jul 2018    07/12/2017     Adoption   \n",
       "A821648      NaN  08/16/2020 11:38:00 AM  Aug 2020    08/16/2019   Euthanasia   \n",
       "A720371    Moose  02/13/2016 05:59:00 PM  Feb 2016    10/08/2015     Adoption   \n",
       "A674754      NaN  03/18/2014 11:47:00 AM  Mar 2014    03/12/2014     Transfer   \n",
       "\n",
       "          Outcome Subtype Animal Type Sex upon Outcome Age upon Outcome  \\\n",
       "Animal ID                                                                 \n",
       "A794011               NaN         Cat    Neutered Male          2 years   \n",
       "A776359               NaN         Dog    Neutered Male           1 year   \n",
       "A821648               NaN       Other          Unknown           1 year   \n",
       "A720371               NaN         Dog    Neutered Male         4 months   \n",
       "A674754           Partner         Cat      Intact Male           6 days   \n",
       "\n",
       "                                        Breed              Color  \n",
       "Animal ID                                                         \n",
       "A794011                Domestic Shorthair Mix  Brown Tabby/White  \n",
       "A776359               Chihuahua Shorthair Mix        White/Brown  \n",
       "A821648                               Raccoon               Gray  \n",
       "A720371    Anatol Shepherd/Labrador Retriever               Buff  \n",
       "A674754                Domestic Shorthair Mix       Orange Tabby  "
      ]
     },
     "execution_count": 3,
     "metadata": {},
     "output_type": "execute_result"
    }
   ],
   "source": [
    "# this is what is inittaly in the dataset from the portal\n",
    "df.head()"
   ]
  },
  {
   "cell_type": "markdown",
   "id": "f852c4b9",
   "metadata": {},
   "source": [
    "# Prepare"
   ]
  },
  {
   "cell_type": "code",
   "execution_count": 4,
   "id": "9eddffb6",
   "metadata": {},
   "outputs": [],
   "source": [
    "df = prepare.prep_animal_data(df)"
   ]
  },
  {
   "cell_type": "code",
   "execution_count": 5,
   "id": "31765c8f",
   "metadata": {
    "scrolled": true
   },
   "outputs": [
    {
     "data": {
      "text/html": [
       "<div>\n",
       "<style scoped>\n",
       "    .dataframe tbody tr th:only-of-type {\n",
       "        vertical-align: middle;\n",
       "    }\n",
       "\n",
       "    .dataframe tbody tr th {\n",
       "        vertical-align: top;\n",
       "    }\n",
       "\n",
       "    .dataframe thead th {\n",
       "        text-align: right;\n",
       "    }\n",
       "</style>\n",
       "<table border=\"1\" class=\"dataframe\">\n",
       "  <thead>\n",
       "    <tr style=\"text-align: right;\">\n",
       "      <th></th>\n",
       "      <th>Name</th>\n",
       "      <th>DateTime</th>\n",
       "      <th>MonthYear</th>\n",
       "      <th>DOB</th>\n",
       "      <th>outcome</th>\n",
       "      <th>animal_type</th>\n",
       "      <th>sex</th>\n",
       "      <th>age_upon_outcome</th>\n",
       "      <th>Breed</th>\n",
       "      <th>Color</th>\n",
       "      <th>...</th>\n",
       "      <th>animal_type_Bird</th>\n",
       "      <th>animal_type_Cat</th>\n",
       "      <th>animal_type_Dog</th>\n",
       "      <th>animal_type_Livestock</th>\n",
       "      <th>animal_type_Other</th>\n",
       "      <th>sex_Intact Female</th>\n",
       "      <th>sex_Intact Male</th>\n",
       "      <th>sex_Neutered Male</th>\n",
       "      <th>sex_Spayed Female</th>\n",
       "      <th>sex_Unknown</th>\n",
       "    </tr>\n",
       "    <tr>\n",
       "      <th>Animal ID</th>\n",
       "      <th></th>\n",
       "      <th></th>\n",
       "      <th></th>\n",
       "      <th></th>\n",
       "      <th></th>\n",
       "      <th></th>\n",
       "      <th></th>\n",
       "      <th></th>\n",
       "      <th></th>\n",
       "      <th></th>\n",
       "      <th></th>\n",
       "      <th></th>\n",
       "      <th></th>\n",
       "      <th></th>\n",
       "      <th></th>\n",
       "      <th></th>\n",
       "      <th></th>\n",
       "      <th></th>\n",
       "      <th></th>\n",
       "      <th></th>\n",
       "      <th></th>\n",
       "    </tr>\n",
       "  </thead>\n",
       "  <tbody>\n",
       "    <tr>\n",
       "      <th>A794011</th>\n",
       "      <td>Chunk</td>\n",
       "      <td>2019-05-08 18:20:00</td>\n",
       "      <td>2019-05-01</td>\n",
       "      <td>2017-05-02</td>\n",
       "      <td>Rto-Adopt</td>\n",
       "      <td>Cat</td>\n",
       "      <td>Neutered Male</td>\n",
       "      <td>2 years</td>\n",
       "      <td>Domestic Shorthair Mix</td>\n",
       "      <td>Brown Tabby/White</td>\n",
       "      <td>...</td>\n",
       "      <td>0</td>\n",
       "      <td>1</td>\n",
       "      <td>0</td>\n",
       "      <td>0</td>\n",
       "      <td>0</td>\n",
       "      <td>0</td>\n",
       "      <td>0</td>\n",
       "      <td>1</td>\n",
       "      <td>0</td>\n",
       "      <td>0</td>\n",
       "    </tr>\n",
       "    <tr>\n",
       "      <th>A776359</th>\n",
       "      <td>Gizmo</td>\n",
       "      <td>2018-07-18 16:02:00</td>\n",
       "      <td>2018-07-01</td>\n",
       "      <td>2017-07-12</td>\n",
       "      <td>Adoption</td>\n",
       "      <td>Dog</td>\n",
       "      <td>Neutered Male</td>\n",
       "      <td>1 year</td>\n",
       "      <td>Chihuahua Shorthair Mix</td>\n",
       "      <td>White/Brown</td>\n",
       "      <td>...</td>\n",
       "      <td>0</td>\n",
       "      <td>0</td>\n",
       "      <td>1</td>\n",
       "      <td>0</td>\n",
       "      <td>0</td>\n",
       "      <td>0</td>\n",
       "      <td>0</td>\n",
       "      <td>1</td>\n",
       "      <td>0</td>\n",
       "      <td>0</td>\n",
       "    </tr>\n",
       "    <tr>\n",
       "      <th>A821648</th>\n",
       "      <td>No_name</td>\n",
       "      <td>2020-08-16 11:38:00</td>\n",
       "      <td>2020-08-01</td>\n",
       "      <td>2019-08-16</td>\n",
       "      <td>Euthanasia</td>\n",
       "      <td>Other</td>\n",
       "      <td>Unknown</td>\n",
       "      <td>1 year</td>\n",
       "      <td>Raccoon</td>\n",
       "      <td>Gray</td>\n",
       "      <td>...</td>\n",
       "      <td>0</td>\n",
       "      <td>0</td>\n",
       "      <td>0</td>\n",
       "      <td>0</td>\n",
       "      <td>1</td>\n",
       "      <td>0</td>\n",
       "      <td>0</td>\n",
       "      <td>0</td>\n",
       "      <td>0</td>\n",
       "      <td>1</td>\n",
       "    </tr>\n",
       "    <tr>\n",
       "      <th>A720371</th>\n",
       "      <td>Moose</td>\n",
       "      <td>2016-02-13 17:59:00</td>\n",
       "      <td>2016-02-01</td>\n",
       "      <td>2015-10-08</td>\n",
       "      <td>Adoption</td>\n",
       "      <td>Dog</td>\n",
       "      <td>Neutered Male</td>\n",
       "      <td>4 months</td>\n",
       "      <td>Anatol Shepherd/Labrador Retriever</td>\n",
       "      <td>Buff</td>\n",
       "      <td>...</td>\n",
       "      <td>0</td>\n",
       "      <td>0</td>\n",
       "      <td>1</td>\n",
       "      <td>0</td>\n",
       "      <td>0</td>\n",
       "      <td>0</td>\n",
       "      <td>0</td>\n",
       "      <td>1</td>\n",
       "      <td>0</td>\n",
       "      <td>0</td>\n",
       "    </tr>\n",
       "    <tr>\n",
       "      <th>A674754</th>\n",
       "      <td>No_name</td>\n",
       "      <td>2014-03-18 11:47:00</td>\n",
       "      <td>2014-03-01</td>\n",
       "      <td>2014-03-12</td>\n",
       "      <td>Transfer</td>\n",
       "      <td>Cat</td>\n",
       "      <td>Intact Male</td>\n",
       "      <td>6 days</td>\n",
       "      <td>Domestic Shorthair Mix</td>\n",
       "      <td>Orange Tabby</td>\n",
       "      <td>...</td>\n",
       "      <td>0</td>\n",
       "      <td>1</td>\n",
       "      <td>0</td>\n",
       "      <td>0</td>\n",
       "      <td>0</td>\n",
       "      <td>0</td>\n",
       "      <td>1</td>\n",
       "      <td>0</td>\n",
       "      <td>0</td>\n",
       "      <td>0</td>\n",
       "    </tr>\n",
       "  </tbody>\n",
       "</table>\n",
       "<p>5 rows × 38 columns</p>\n",
       "</div>"
      ],
      "text/plain": [
       "              Name            DateTime  MonthYear        DOB     outcome  \\\n",
       "Animal ID                                                                  \n",
       "A794011      Chunk 2019-05-08 18:20:00 2019-05-01 2017-05-02   Rto-Adopt   \n",
       "A776359      Gizmo 2018-07-18 16:02:00 2018-07-01 2017-07-12    Adoption   \n",
       "A821648    No_name 2020-08-16 11:38:00 2020-08-01 2019-08-16  Euthanasia   \n",
       "A720371      Moose 2016-02-13 17:59:00 2016-02-01 2015-10-08    Adoption   \n",
       "A674754    No_name 2014-03-18 11:47:00 2014-03-01 2014-03-12    Transfer   \n",
       "\n",
       "          animal_type            sex age_upon_outcome  \\\n",
       "Animal ID                                               \n",
       "A794011           Cat  Neutered Male          2 years   \n",
       "A776359           Dog  Neutered Male           1 year   \n",
       "A821648         Other        Unknown           1 year   \n",
       "A720371           Dog  Neutered Male         4 months   \n",
       "A674754           Cat    Intact Male           6 days   \n",
       "\n",
       "                                        Breed              Color  ...  \\\n",
       "Animal ID                                                         ...   \n",
       "A794011                Domestic Shorthair Mix  Brown Tabby/White  ...   \n",
       "A776359               Chihuahua Shorthair Mix        White/Brown  ...   \n",
       "A821648                               Raccoon               Gray  ...   \n",
       "A720371    Anatol Shepherd/Labrador Retriever               Buff  ...   \n",
       "A674754                Domestic Shorthair Mix       Orange Tabby  ...   \n",
       "\n",
       "           animal_type_Bird  animal_type_Cat animal_type_Dog  \\\n",
       "Animal ID                                                      \n",
       "A794011                   0                1               0   \n",
       "A776359                   0                0               1   \n",
       "A821648                   0                0               0   \n",
       "A720371                   0                0               1   \n",
       "A674754                   0                1               0   \n",
       "\n",
       "           animal_type_Livestock  animal_type_Other sex_Intact Female  \\\n",
       "Animal ID                                                               \n",
       "A794011                        0                  0                 0   \n",
       "A776359                        0                  0                 0   \n",
       "A821648                        0                  1                 0   \n",
       "A720371                        0                  0                 0   \n",
       "A674754                        0                  0                 0   \n",
       "\n",
       "           sex_Intact Male  sex_Neutered Male  sex_Spayed Female  sex_Unknown  \n",
       "Animal ID                                                                      \n",
       "A794011                  0                  1                  0            0  \n",
       "A776359                  0                  1                  0            0  \n",
       "A821648                  0                  0                  0            1  \n",
       "A720371                  0                  1                  0            0  \n",
       "A674754                  1                  0                  0            0  \n",
       "\n",
       "[5 rows x 38 columns]"
      ]
     },
     "execution_count": 5,
     "metadata": {},
     "output_type": "execute_result"
    }
   ],
   "source": [
    "#Here is the prepared data \n",
    "\n",
    "df.head()"
   ]
  },
  {
   "cell_type": "markdown",
   "id": "f11dce66",
   "metadata": {},
   "source": [
    "### How the data was prepared \n",
    "\n"
   ]
  },
  {
   "cell_type": "code",
   "execution_count": null,
   "id": "9666a069",
   "metadata": {
    "scrolled": true
   },
   "outputs": [],
   "source": [
    "#df.info()"
   ]
  },
  {
   "cell_type": "code",
   "execution_count": null,
   "id": "63032b3b",
   "metadata": {},
   "outputs": [],
   "source": [
    "#prepare.prep_animal_data(df)"
   ]
  },
  {
   "cell_type": "markdown",
   "id": "c4a90fb5",
   "metadata": {},
   "source": [
    "## Splitting the Data"
   ]
  },
  {
   "cell_type": "code",
   "execution_count": 6,
   "id": "f4d2d8d1",
   "metadata": {
    "scrolled": true
   },
   "outputs": [
    {
     "data": {
      "text/plain": [
       "((79940, 38), (34260, 38), (28550, 38))"
      ]
     },
     "execution_count": 6,
     "metadata": {},
     "output_type": "execute_result"
    }
   ],
   "source": [
    "train, validate, test = train_validate_test_split(df, target='Euthanasia')\n",
    "train.shape, validate.shape, test.shape"
   ]
  },
  {
   "cell_type": "markdown",
   "id": "8e39d7e1",
   "metadata": {},
   "source": [
    "# Exploration"
   ]
  },
  {
   "cell_type": "markdown",
   "id": "258e722d",
   "metadata": {},
   "source": [
    " My initial questions \n",
    "\n",
    "- what sex of animals is more likely to get euthi\n",
    "\n",
    "- what animal type is more lkely to get euthi\n",
    "\n",
    "- Does the age of the animal determine the euthinization\n",
    "\n",
    "- what age are animals more likly to get adopted?\n",
    "\n",
    "- what Breed is more likly to get adopted \n"
   ]
  },
  {
   "cell_type": "markdown",
   "id": "d930857e",
   "metadata": {},
   "source": [
    "## Question 1- Is there a relationship between animal_type and Euthanization "
   ]
  },
  {
   "cell_type": "code",
   "execution_count": 10,
   "id": "041c9653",
   "metadata": {
    "scrolled": false
   },
   "outputs": [
    {
     "data": {
      "image/png": "[encoded data removed]",
      "text/plain": [
       "<Figure size 1080x720 with 1 Axes>"
      ]
     },
     "metadata": {
      "needs_background": "light"
     },
     "output_type": "display_data"
    }
   ],
   "source": [
    "plt.figure(figsize=(15,10))\n",
    "c = sns.countplot(train['animal_type'],hue=train['Euthanasia'])\n",
    "\n",
    "for p in c.patches:\n",
    "    c.annotate(p.get_height(), \n",
    "                (p.get_x() + p.get_width() / 2.0, \n",
    "                 p.get_height()), \n",
    "                 ha = 'center', \n",
    "                 va = 'center', \n",
    "                 xytext = (5, 10),\n",
    "                 textcoords = 'offset points')"
   ]
  },
  {
   "cell_type": "markdown",
   "id": "903352cc",
   "metadata": {},
   "source": [
    "### what we see "
   ]
  },
  {
   "cell_type": "code",
   "execution_count": null,
   "id": "5417b015",
   "metadata": {},
   "outputs": [],
   "source": []
  },
  {
   "cell_type": "markdown",
   "id": "d5433b9e",
   "metadata": {},
   "source": [
    "### Lets run a test"
   ]
  },
  {
   "cell_type": "markdown",
   "id": "e4b1a568",
   "metadata": {},
   "source": [
    "$H_o$ : Animal_type and Euthanasia are independant\n",
    "\n",
    "$H_a$ : There is a relationship between the animal type and Euthinasia"
   ]
  },
  {
   "cell_type": "code",
   "execution_count": 11,
   "id": "084710fe",
   "metadata": {},
   "outputs": [
    {
     "name": "stdout",
     "output_type": "stream",
     "text": [
      "Reject the null hypothesis\n"
     ]
    }
   ],
   "source": [
    "# Chi sQARED TEST \n",
    "\n",
    "# Let's run a chi squared to compare proportions, to have more confidence\n",
    "alpha = 0.05\n",
    "# Setup a crosstab of observed churn and payment_type \n",
    "#This is the best statistical test becasue we are looking at two categorical variables \n",
    "observed = pd.crosstab(train.animal_type, train.Euthanasia)\n",
    "\n",
    "chi2, p, degf, expected = stats.chi2_contingency(observed)\n",
    "\n",
    "if p < alpha:\n",
    "    print(\"Reject the null hypothesis\")\n",
    "else:\n",
    "    print(\"Fail to reject the null\")\n",
    "   "
   ]
  },
  {
   "cell_type": "markdown",
   "id": "39c3a959",
   "metadata": {},
   "source": [
    "## Question 1.2 What animal type is more likely to get adopted?"
   ]
  },
  {
   "cell_type": "code",
   "execution_count": 18,
   "id": "08993c29",
   "metadata": {
    "scrolled": false
   },
   "outputs": [
    {
     "data": {
      "image/png": "[encoded data removed]",
      "text/plain": [
       "<Figure size 1080x720 with 1 Axes>"
      ]
     },
     "metadata": {
      "needs_background": "light"
     },
     "output_type": "display_data"
    }
   ],
   "source": [
    "plt.figure(figsize=(15,10))\n",
    "c = sns.countplot(train['animal_type'],hue=train['Adoption'])\n",
    "\n",
    "for p in c.patches:\n",
    "    c.annotate(p.get_height(), \n",
    "                (p.get_x() + p.get_width() / 2.0, \n",
    "                 p.get_height()), \n",
    "                 ha = 'center', \n",
    "                 va = 'center', \n",
    "                 xytext = (5, 10),\n",
    "                 textcoords = 'offset points')"
   ]
  },
  {
   "cell_type": "code",
   "execution_count": null,
   "id": "52fba4bf",
   "metadata": {},
   "outputs": [],
   "source": [
    "\n"
   ]
  },
  {
   "cell_type": "markdown",
   "id": "8ec61fa1",
   "metadata": {},
   "source": [
    "## QUESTION 2 what sex of animals is more likely to get euthi"
   ]
  },
  {
   "cell_type": "code",
   "execution_count": 19,
   "id": "92ddc278",
   "metadata": {
    "scrolled": false
   },
   "outputs": [
    {
     "data": {
      "image/png": "[encoded data removed]",
      "text/plain": [
       "<Figure size 1080x720 with 1 Axes>"
      ]
     },
     "metadata": {
      "needs_background": "light"
     },
     "output_type": "display_data"
    }
   ],
   "source": [
    "plt.figure(figsize=(15,10))\n",
    "c = sns.countplot(train['sex'],hue=train['Euthanasia'])\n",
    "\n",
    "for p in c.patches:\n",
    "    c.annotate(p.get_height(), \n",
    "                (p.get_x() + p.get_width() / 2.0, \n",
    "                 p.get_height()), \n",
    "                 ha = 'center', \n",
    "                 va = 'center', \n",
    "                 xytext = (2, 10),\n",
    "                 textcoords = 'offset points')"
   ]
  },
  {
   "cell_type": "markdown",
   "id": "4fe29e30",
   "metadata": {},
   "source": [
    "$H_o$ : Sex and Euthanasia are independant\n",
    "\n",
    "$H_a$ : There is a relationship between the animal sex and Euthinasia"
   ]
  },
  {
   "cell_type": "code",
   "execution_count": 20,
   "id": "e09dc44e",
   "metadata": {},
   "outputs": [
    {
     "name": "stdout",
     "output_type": "stream",
     "text": [
      "Reject the null hypothesis\n"
     ]
    }
   ],
   "source": [
    "# Chi sQARED TEST \n",
    "\n",
    "# Let's run a chi squared to compare proportions, to have more confidence\n",
    "alpha = 0.05\n",
    "# Setup a crosstab of observed churn and payment_type \n",
    "#This is the best statistical test becasue we are looking at two categorical variables \n",
    "observed = pd.crosstab(train.sex, train.Euthanasia)\n",
    "\n",
    "chi2, p, degf, expected = stats.chi2_contingency(observed)\n",
    "\n",
    "if p < alpha:\n",
    "    print(\"Reject the null hypothesis\")\n",
    "else:\n",
    "    print(\"Fail to reject the null\")\n",
    "   "
   ]
  },
  {
   "cell_type": "markdown",
   "id": "21cccdab",
   "metadata": {},
   "source": [
    "##  Question 3 - At what age are animals more likely to get euthanized ?"
   ]
  },
  {
   "cell_type": "code",
   "execution_count": 21,
   "id": "3a55a796",
   "metadata": {
    "scrolled": false
   },
   "outputs": [
    {
     "data": {
      "text/plain": [
       "<AxesSubplot:xlabel='age_out_years', ylabel='count'>"
      ]
     },
     "execution_count": 21,
     "metadata": {},
     "output_type": "execute_result"
    },
    {
     "data": {
      "image/png": "[encoded data removed]",
      "text/plain": [
       "<Figure size 864x648 with 1 Axes>"
      ]
     },
     "metadata": {
      "needs_background": "light"
     },
     "output_type": "display_data"
    }
   ],
   "source": [
    "plt.figure(figsize=(12,9))\n",
    "sns.countplot(x = train['age_out_years'] ,hue=train['Euthanasia'])"
   ]
  },
  {
   "cell_type": "markdown",
   "id": "4bb0c348",
   "metadata": {},
   "source": [
    "$H_o$ : the ages of the animals who are euthanized are equal to the ages of the animals that are not euthanized \n",
    "\n",
    "$H_a$ : the ages of the animals who are euthanized are not equal to the ages of the animals that are not euthanized"
   ]
  },
  {
   "cell_type": "code",
   "execution_count": null,
   "id": "b54c9a1d",
   "metadata": {},
   "outputs": [],
   "source": [
    "Euthanasia_sample = train[train.Euthanasia == 1 ].age\n",
    "No_Euthanasia_sample = train[train.Euthanasia == 0 ].age"
   ]
  },
  {
   "cell_type": "code",
   "execution_count": null,
   "id": "f8cc857b",
   "metadata": {},
   "outputs": [],
   "source": [
    "alpha = 0.05\n",
    "#For this I did a T-statistical test becasue we are working with a categorical variable and a quatative variable \n",
    "\n",
    "t, p = stats.ttest_ind(Euthanasia_sample,No_Euthanasia_sample, equal_var=False)\n",
    "\n",
    "if p < alpha:\n",
    "    print(\"We reject the null hypothesis\")\n",
    "\n",
    "else:\n",
    "    print(\"We fail to reject the null hypothesis\")"
   ]
  },
  {
   "cell_type": "markdown",
   "id": "432f2d9e",
   "metadata": {},
   "source": [
    "## Question 4 - Is there some sort of relationship between color and Euthinization "
   ]
  },
  {
   "cell_type": "markdown",
   "id": "53f04269",
   "metadata": {},
   "source": [
    "$H_o$ : animal type and outcome are independant\n",
    "\n",
    "$H_a$ : There is a relationship between the animal type and independntn"
   ]
  },
  {
   "cell_type": "code",
   "execution_count": 44,
   "id": "6d823d49",
   "metadata": {},
   "outputs": [
    {
     "name": "stdout",
     "output_type": "stream",
     "text": [
      "Reject the null hypothesis\n"
     ]
    }
   ],
   "source": [
    "# Chi sQARED TEST \n",
    "\n",
    "# Let's run a chi squared to compare proportions, to have more confidence\n",
    "alpha = 0.05\n",
    "# Setup a crosstab of observed churn and payment_type \n",
    "#This is the best statistical test becasue we are looking at two categorical variables \n",
    "observed = pd.crosstab(train.Color, train.Euthanasia)\n",
    "\n",
    "chi2, p, degf, expected = stats.chi2_contingency(observed)\n",
    "\n",
    "if p < alpha:\n",
    "    print(\"Reject the null hypothesis\")\n",
    "else:\n",
    "    print(\"Fail to reject the null\")"
   ]
  },
  {
   "cell_type": "markdown",
   "id": "a4fbda47",
   "metadata": {},
   "source": [
    "## Question 5 - Is there some sort of relationship between Breed and Euthinization "
   ]
  },
  {
   "cell_type": "code",
   "execution_count": null,
   "id": "43d20673",
   "metadata": {},
   "outputs": [],
   "source": [
    "𝐻𝑜  : Breed and ethi are independant\n",
    "\n",
    "𝐻𝑎  : There is a relationship between the breed and euthi"
   ]
  },
  {
   "cell_type": "code",
   "execution_count": 45,
   "id": "5a566a47",
   "metadata": {},
   "outputs": [
    {
     "name": "stdout",
     "output_type": "stream",
     "text": [
      "Reject the null hypothesis\n"
     ]
    }
   ],
   "source": [
    "# Chi sQARED TEST \n",
    "\n",
    "# Let's run a chi squared to compare proportions, to have more confidence\n",
    "alpha = 0.05\n",
    "# Setup a crosstab of observed churn and payment_type \n",
    "#This is the best statistical test becasue we are looking at two categorical variables \n",
    "observed = pd.crosstab(train.Breed, train.Euthanasia)\n",
    "\n",
    "chi2, p, degf, expected = stats.chi2_contingency(observed)\n",
    "\n",
    "if p < alpha:\n",
    "    print(\"Reject the null hypothesis\")\n",
    "else:\n",
    "    print(\"Fail to reject the null\")"
   ]
  },
  {
   "cell_type": "markdown",
   "id": "ec9851fc",
   "metadata": {},
   "source": [
    "# Modeling"
   ]
  },
  {
   "cell_type": "code",
   "execution_count": null,
   "id": "377208f8",
   "metadata": {},
   "outputs": [],
   "source": []
  },
  {
   "cell_type": "code",
   "execution_count": null,
   "id": "aad08fb2",
   "metadata": {},
   "outputs": [],
   "source": [
    "#choosing our features "
   ]
  },
  {
   "cell_type": "code",
   "execution_count": 22,
   "id": "ccb442a4",
   "metadata": {},
   "outputs": [],
   "source": [
    "X_train = train.drop(columns=['Name','DateTime','MonthYear','age_upon_outcome','DOB', 'age_bin', 'outcome','animal_type','sex','Euthanasia', 'Adoption', 'Died', 'Disposal', 'Lost', 'Missing', 'Relocate', 'Return to Owner', 'Rto-Adopt','Stolen','Transfer','age_out_years','current_age','Age_upon_out','Breed','Color'])\n",
    "y_train = train[['Euthanasia']]\n",
    "\n",
    "X_validate = validate.drop(columns=['Name','DateTime','MonthYear','DOB', 'age_bin','outcome','animal_type','sex','Euthanasia', 'Adoption', 'Died', 'Disposal', 'Lost', 'Missing', 'Relocate', 'Return to Owner', 'Rto-Adopt','Stolen','Transfer','age_out_years','current_age','age_upon_outcome','Age_upon_out','Breed','Color'])\n",
    "y_validate = validate[['Euthanasia']]\n",
    "\n",
    "X_test = test.drop(columns=['Name','DateTime','MonthYear','DOB', 'age_bin','outcome','animal_type','sex','Euthanasia', 'Adoption', 'Died', 'Disposal', 'Lost', 'Missing', 'Relocate', 'Return to Owner', 'Rto-Adopt','Stolen', 'Transfer','age_out_years','current_age','age_upon_outcome','Breed','Color','Age_upon_out'])\n",
    "y_test = test[['Euthanasia']]"
   ]
  },
  {
   "cell_type": "markdown",
   "id": "9a47390a",
   "metadata": {},
   "source": [
    "Notes from the rubrick \n",
    "\n",
    "\n",
    "- You clearly communicate how you evaluated and compared models. What metric(s) did you use and why? For example, in one case, you may decide to use precision over accuracy."
   ]
  },
  {
   "cell_type": "markdown",
   "id": "3499c667",
   "metadata": {},
   "source": [
    "## Creating a baseline"
   ]
  },
  {
   "cell_type": "code",
   "execution_count": null,
   "id": "21f9d3af",
   "metadata": {},
   "outputs": [],
   "source": [
    "To create this baseline I set the mean of the animals who have not been euthanized "
   ]
  },
  {
   "cell_type": "code",
   "execution_count": 23,
   "id": "afec2fdb",
   "metadata": {
    "scrolled": true
   },
   "outputs": [
    {
     "name": "stdout",
     "output_type": "stream",
     "text": [
      "baseline_accuracy: 0.93\n"
     ]
    }
   ],
   "source": [
    "baseline_accuracy = (train.Euthanasia == 0).mean()\n",
    "print(f\"baseline_accuracy: {round(baseline_accuracy, 2)}\")"
   ]
  },
  {
   "cell_type": "code",
   "execution_count": 24,
   "id": "c2ea8a59",
   "metadata": {
    "scrolled": true
   },
   "outputs": [
    {
     "data": {
      "text/plain": [
       "0    74716\n",
       "1     5224\n",
       "Name: Euthanasia, dtype: int64"
      ]
     },
     "execution_count": 24,
     "metadata": {},
     "output_type": "execute_result"
    }
   ],
   "source": [
    "#as we can see many animals dont get euthanized \n",
    "train.Euthanasia.value_counts()"
   ]
  },
  {
   "cell_type": "markdown",
   "id": "36d42316",
   "metadata": {},
   "source": [
    "## The models I used and their outcomes in predicting Euthinization \n",
    "\n",
    "- Decision Tree | train: 96% |Validate: 96%\n",
    "- Random forest | train: 96% |Validate: 96%\n",
    "- KNN modeling  | train: 96% |Validate: 96%\n",
    "- Logistic Regression model | train: 96%  |Validate: 96%\n",
    "\n",
    "All of the Models performed similrly"
   ]
  },
  {
   "cell_type": "code",
   "execution_count": null,
   "id": "dae7f0fd",
   "metadata": {},
   "outputs": [],
   "source": []
  },
  {
   "cell_type": "code",
   "execution_count": null,
   "id": "63c5958d",
   "metadata": {},
   "outputs": [],
   "source": []
  },
  {
   "cell_type": "markdown",
   "id": "a28ca5b8",
   "metadata": {},
   "source": [
    "## Decision Tree "
   ]
  },
  {
   "cell_type": "code",
   "execution_count": 25,
   "id": "e59d8811",
   "metadata": {},
   "outputs": [
    {
     "data": {
      "text/html": [
       "<div>\n",
       "<style scoped>\n",
       "    .dataframe tbody tr th:only-of-type {\n",
       "        vertical-align: middle;\n",
       "    }\n",
       "\n",
       "    .dataframe tbody tr th {\n",
       "        vertical-align: top;\n",
       "    }\n",
       "\n",
       "    .dataframe thead th {\n",
       "        text-align: right;\n",
       "    }\n",
       "</style>\n",
       "<table border=\"1\" class=\"dataframe\">\n",
       "  <thead>\n",
       "    <tr style=\"text-align: right;\">\n",
       "      <th></th>\n",
       "      <th>year_born</th>\n",
       "      <th>year_released</th>\n",
       "      <th>days_old</th>\n",
       "      <th>animal_type_Bird</th>\n",
       "      <th>animal_type_Cat</th>\n",
       "      <th>animal_type_Dog</th>\n",
       "      <th>animal_type_Livestock</th>\n",
       "      <th>animal_type_Other</th>\n",
       "      <th>sex_Intact Female</th>\n",
       "      <th>sex_Intact Male</th>\n",
       "      <th>sex_Neutered Male</th>\n",
       "      <th>sex_Spayed Female</th>\n",
       "      <th>sex_Unknown</th>\n",
       "    </tr>\n",
       "    <tr>\n",
       "      <th>Animal ID</th>\n",
       "      <th></th>\n",
       "      <th></th>\n",
       "      <th></th>\n",
       "      <th></th>\n",
       "      <th></th>\n",
       "      <th></th>\n",
       "      <th></th>\n",
       "      <th></th>\n",
       "      <th></th>\n",
       "      <th></th>\n",
       "      <th></th>\n",
       "      <th></th>\n",
       "      <th></th>\n",
       "    </tr>\n",
       "  </thead>\n",
       "  <tbody>\n",
       "    <tr>\n",
       "      <th>A731965</th>\n",
       "      <td>2013</td>\n",
       "      <td>2016</td>\n",
       "      <td>1184</td>\n",
       "      <td>0</td>\n",
       "      <td>0</td>\n",
       "      <td>1</td>\n",
       "      <td>0</td>\n",
       "      <td>0</td>\n",
       "      <td>0</td>\n",
       "      <td>0</td>\n",
       "      <td>1</td>\n",
       "      <td>0</td>\n",
       "      <td>0</td>\n",
       "    </tr>\n",
       "    <tr>\n",
       "      <th>A817802</th>\n",
       "      <td>2019</td>\n",
       "      <td>2020</td>\n",
       "      <td>372</td>\n",
       "      <td>0</td>\n",
       "      <td>0</td>\n",
       "      <td>1</td>\n",
       "      <td>0</td>\n",
       "      <td>0</td>\n",
       "      <td>0</td>\n",
       "      <td>0</td>\n",
       "      <td>1</td>\n",
       "      <td>0</td>\n",
       "      <td>0</td>\n",
       "    </tr>\n",
       "    <tr>\n",
       "      <th>A811391</th>\n",
       "      <td>2011</td>\n",
       "      <td>2020</td>\n",
       "      <td>3287</td>\n",
       "      <td>0</td>\n",
       "      <td>0</td>\n",
       "      <td>1</td>\n",
       "      <td>0</td>\n",
       "      <td>0</td>\n",
       "      <td>1</td>\n",
       "      <td>0</td>\n",
       "      <td>0</td>\n",
       "      <td>0</td>\n",
       "      <td>0</td>\n",
       "    </tr>\n",
       "    <tr>\n",
       "      <th>A692819</th>\n",
       "      <td>2012</td>\n",
       "      <td>2016</td>\n",
       "      <td>1212</td>\n",
       "      <td>0</td>\n",
       "      <td>0</td>\n",
       "      <td>1</td>\n",
       "      <td>0</td>\n",
       "      <td>0</td>\n",
       "      <td>0</td>\n",
       "      <td>0</td>\n",
       "      <td>1</td>\n",
       "      <td>0</td>\n",
       "      <td>0</td>\n",
       "    </tr>\n",
       "    <tr>\n",
       "      <th>A704896</th>\n",
       "      <td>2013</td>\n",
       "      <td>2015</td>\n",
       "      <td>736</td>\n",
       "      <td>0</td>\n",
       "      <td>0</td>\n",
       "      <td>1</td>\n",
       "      <td>0</td>\n",
       "      <td>0</td>\n",
       "      <td>0</td>\n",
       "      <td>0</td>\n",
       "      <td>1</td>\n",
       "      <td>0</td>\n",
       "      <td>0</td>\n",
       "    </tr>\n",
       "  </tbody>\n",
       "</table>\n",
       "</div>"
      ],
      "text/plain": [
       "           year_born  year_released  days_old  animal_type_Bird  \\\n",
       "Animal ID                                                         \n",
       "A731965         2013           2016      1184                 0   \n",
       "A817802         2019           2020       372                 0   \n",
       "A811391         2011           2020      3287                 0   \n",
       "A692819         2012           2016      1212                 0   \n",
       "A704896         2013           2015       736                 0   \n",
       "\n",
       "           animal_type_Cat  animal_type_Dog  animal_type_Livestock  \\\n",
       "Animal ID                                                            \n",
       "A731965                  0                1                      0   \n",
       "A817802                  0                1                      0   \n",
       "A811391                  0                1                      0   \n",
       "A692819                  0                1                      0   \n",
       "A704896                  0                1                      0   \n",
       "\n",
       "           animal_type_Other  sex_Intact Female  sex_Intact Male  \\\n",
       "Animal ID                                                          \n",
       "A731965                    0                  0                0   \n",
       "A817802                    0                  0                0   \n",
       "A811391                    0                  1                0   \n",
       "A692819                    0                  0                0   \n",
       "A704896                    0                  0                0   \n",
       "\n",
       "           sex_Neutered Male  sex_Spayed Female  sex_Unknown  \n",
       "Animal ID                                                     \n",
       "A731965                    1                  0            0  \n",
       "A817802                    1                  0            0  \n",
       "A811391                    0                  0            0  \n",
       "A692819                    1                  0            0  \n",
       "A704896                    1                  0            0  "
      ]
     },
     "execution_count": 25,
     "metadata": {},
     "output_type": "execute_result"
    }
   ],
   "source": [
    "X_train.head()\n"
   ]
  },
  {
   "cell_type": "code",
   "execution_count": 46,
   "id": "c56bde4b",
   "metadata": {},
   "outputs": [],
   "source": [
    "# Make the model\n",
    "tree1 = DecisionTreeClassifier(max_depth=3, random_state=123)\n",
    "\n",
    "# Fit the model (on train and only train)\n",
    "tree2 = tree1.fit(X_train, y_train)\n",
    "\n",
    "# Use the model\n",
    "# We'll evaluate the model's performance on train to begin with \n",
    "y_predictions = tree2.predict(X_train)"
   ]
  },
  {
   "cell_type": "code",
   "execution_count": 47,
   "id": "aa0023e4",
   "metadata": {
    "scrolled": false
   },
   "outputs": [
    {
     "data": {
      "image/png": "[encoded data removed]",
      "text/plain": [
       "<Figure size 864x504 with 1 Axes>"
      ]
     },
     "metadata": {
      "needs_background": "light"
     },
     "output_type": "display_data"
    }
   ],
   "source": [
    "plt.figure(figsize=(12, 7))\n",
    "plot_tree(tree1, feature_names=X_train.columns, class_names=['0','1'])\n",
    "plt.show()"
   ]
  },
  {
   "cell_type": "code",
   "execution_count": null,
   "id": "8996f57a",
   "metadata": {},
   "outputs": [],
   "source": [
    "### tested on train"
   ]
  },
  {
   "cell_type": "code",
   "execution_count": 48,
   "id": "cff1d05e",
   "metadata": {
    "scrolled": true
   },
   "outputs": [
    {
     "name": "stdout",
     "output_type": "stream",
     "text": [
      "Accuracy of Decision Tree classifier on training set: 0.96\n"
     ]
    }
   ],
   "source": [
    "print('Accuracy of Decision Tree classifier on training set: {:.2f}'\n",
    "      .format(tree1.score(X_train, y_train)))"
   ]
  },
  {
   "cell_type": "code",
   "execution_count": 49,
   "id": "593b986c",
   "metadata": {
    "scrolled": false
   },
   "outputs": [
    {
     "name": "stdout",
     "output_type": "stream",
     "text": [
      "              precision    recall  f1-score   support\n",
      "\n",
      "           0       0.97      0.99      0.98     74716\n",
      "           1       0.82      0.51      0.63      5224\n",
      "\n",
      "    accuracy                           0.96     79940\n",
      "   macro avg       0.89      0.75      0.80     79940\n",
      "weighted avg       0.96      0.96      0.96     79940\n",
      "\n"
     ]
    }
   ],
   "source": [
    "print(classification_report(y_train, y_predictions))"
   ]
  },
  {
   "cell_type": "code",
   "execution_count": null,
   "id": "58932d9a",
   "metadata": {},
   "outputs": [],
   "source": [
    "### tested on Validate "
   ]
  },
  {
   "cell_type": "code",
   "execution_count": 50,
   "id": "26f8fe68",
   "metadata": {
    "scrolled": true
   },
   "outputs": [
    {
     "name": "stdout",
     "output_type": "stream",
     "text": [
      "Accuracy of Decision Tree classifier on training set: 0.96\n"
     ]
    }
   ],
   "source": [
    "print('Accuracy of Decision Tree classifier on training set: {:.2f}'\n",
    "      .format(tree1.score(X_validate, y_validate)))"
   ]
  },
  {
   "cell_type": "code",
   "execution_count": null,
   "id": "1aba50dc",
   "metadata": {},
   "outputs": [],
   "source": [
    "### tested on Test"
   ]
  },
  {
   "cell_type": "code",
   "execution_count": 51,
   "id": "908d0d31",
   "metadata": {
    "scrolled": false
   },
   "outputs": [
    {
     "name": "stdout",
     "output_type": "stream",
     "text": [
      "Accuracy of Decision Tree classifier on training set: 0.96\n"
     ]
    }
   ],
   "source": [
    "print('Accuracy of Decision Tree classifier on training set: {:.2f}'\n",
    "      .format(tree1.score(X_test, y_test)))"
   ]
  },
  {
   "cell_type": "markdown",
   "id": "003777ef",
   "metadata": {},
   "source": [
    " This is the best model with a max depth of 3 -anymore are we are prone to overfittig the model "
   ]
  },
  {
   "cell_type": "code",
   "execution_count": null,
   "id": "3a78823f",
   "metadata": {},
   "outputs": [],
   "source": [
    "## overall Modeling \n",
    "\n",
    "- all of the models used they where all around the same range in "
   ]
  },
  {
   "cell_type": "markdown",
   "id": "9726dcff",
   "metadata": {},
   "source": [
    "# Conclusion "
   ]
  },
  {
   "cell_type": "code",
   "execution_count": null,
   "id": "795f29fd",
   "metadata": {},
   "outputs": [],
   "source": []
  },
  {
   "cell_type": "markdown",
   "id": "f84c50e2",
   "metadata": {},
   "source": [
    "## Recomendations "
   ]
  },
  {
   "cell_type": "code",
   "execution_count": null,
   "id": "e18a47bd",
   "metadata": {},
   "outputs": [],
   "source": []
  },
  {
   "cell_type": "markdown",
   "id": "2a1ffe21",
   "metadata": {},
   "source": [
    "## Next steps "
   ]
  },
  {
   "cell_type": "code",
   "execution_count": null,
   "id": "41d805a3",
   "metadata": {},
   "outputs": [],
   "source": []
  }
 ],
 "metadata": {
  "kernelspec": {
   "display_name": "Python 3 (ipykernel)",
   "language": "python",
   "name": "python3"
  },
  "language_info": {
   "codemirror_mode": {
    "name": "ipython",
    "version": 3
   },
   "file_extension": ".py",
   "mimetype": "text/x-python",
   "name": "python",
   "nbconvert_exporter": "python",
   "pygments_lexer": "ipython3",
   "version": "3.9.12"
  }
 },
 "nbformat": 4,
 "nbformat_minor": 5
}
