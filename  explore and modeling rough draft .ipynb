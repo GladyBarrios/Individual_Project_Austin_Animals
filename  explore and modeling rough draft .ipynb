{
 "cells": [
  {
   "cell_type": "code",
   "execution_count": 60,
   "id": "a28c3f70",
   "metadata": {},
   "outputs": [],
   "source": [
    "import warnings\n",
    "warnings.filterwarnings(\"ignore\")\n",
    "\n",
    "import numpy as np\n",
    "import pandas as pd\n",
    "import matplotlib.pyplot as plt\n",
    "import seaborn as sns\n",
    "from scipy import stats\n",
    "from sklearn.model_selection import train_test_split\n",
    "\n",
    "from prepare import train_validate_test_split\n",
    "import prepare\n",
    "\n",
    "from sklearn.model_selection import train_test_split\n",
    "from sklearn.tree import DecisionTreeClassifier, plot_tree\n",
    "from sklearn.metrics import classification_report\n",
    "from sklearn.metrics import confusion_matrix\n",
    "from sklearn.metrics import classification_report, confusion_matrix, plot_confusion_matrix\n"
   ]
  },
  {
   "cell_type": "code",
   "execution_count": 2,
   "id": "1ad8e10b",
   "metadata": {},
   "outputs": [],
   "source": [
    "df = prepare.get_animal_data()"
   ]
  },
  {
   "cell_type": "code",
   "execution_count": 3,
   "id": "a0d638fd",
   "metadata": {
    "scrolled": true
   },
   "outputs": [
    {
     "data": {
      "text/html": [
       "<div>\n",
       "<style scoped>\n",
       "    .dataframe tbody tr th:only-of-type {\n",
       "        vertical-align: middle;\n",
       "    }\n",
       "\n",
       "    .dataframe tbody tr th {\n",
       "        vertical-align: top;\n",
       "    }\n",
       "\n",
       "    .dataframe thead th {\n",
       "        text-align: right;\n",
       "    }\n",
       "</style>\n",
       "<table border=\"1\" class=\"dataframe\">\n",
       "  <thead>\n",
       "    <tr style=\"text-align: right;\">\n",
       "      <th></th>\n",
       "      <th>Name</th>\n",
       "      <th>DateTime</th>\n",
       "      <th>MonthYear</th>\n",
       "      <th>Date of Birth</th>\n",
       "      <th>Outcome Type</th>\n",
       "      <th>Outcome Subtype</th>\n",
       "      <th>Animal Type</th>\n",
       "      <th>Sex upon Outcome</th>\n",
       "      <th>Age upon Outcome</th>\n",
       "      <th>Breed</th>\n",
       "      <th>Color</th>\n",
       "    </tr>\n",
       "    <tr>\n",
       "      <th>Animal ID</th>\n",
       "      <th></th>\n",
       "      <th></th>\n",
       "      <th></th>\n",
       "      <th></th>\n",
       "      <th></th>\n",
       "      <th></th>\n",
       "      <th></th>\n",
       "      <th></th>\n",
       "      <th></th>\n",
       "      <th></th>\n",
       "      <th></th>\n",
       "    </tr>\n",
       "  </thead>\n",
       "  <tbody>\n",
       "    <tr>\n",
       "      <th>A794011</th>\n",
       "      <td>Chunk</td>\n",
       "      <td>05/08/2019 06:20:00 PM</td>\n",
       "      <td>May 2019</td>\n",
       "      <td>05/02/2017</td>\n",
       "      <td>Rto-Adopt</td>\n",
       "      <td>NaN</td>\n",
       "      <td>Cat</td>\n",
       "      <td>Neutered Male</td>\n",
       "      <td>2 years</td>\n",
       "      <td>Domestic Shorthair Mix</td>\n",
       "      <td>Brown Tabby/White</td>\n",
       "    </tr>\n",
       "    <tr>\n",
       "      <th>A776359</th>\n",
       "      <td>Gizmo</td>\n",
       "      <td>07/18/2018 04:02:00 PM</td>\n",
       "      <td>Jul 2018</td>\n",
       "      <td>07/12/2017</td>\n",
       "      <td>Adoption</td>\n",
       "      <td>NaN</td>\n",
       "      <td>Dog</td>\n",
       "      <td>Neutered Male</td>\n",
       "      <td>1 year</td>\n",
       "      <td>Chihuahua Shorthair Mix</td>\n",
       "      <td>White/Brown</td>\n",
       "    </tr>\n",
       "    <tr>\n",
       "      <th>A821648</th>\n",
       "      <td>NaN</td>\n",
       "      <td>08/16/2020 11:38:00 AM</td>\n",
       "      <td>Aug 2020</td>\n",
       "      <td>08/16/2019</td>\n",
       "      <td>Euthanasia</td>\n",
       "      <td>NaN</td>\n",
       "      <td>Other</td>\n",
       "      <td>Unknown</td>\n",
       "      <td>1 year</td>\n",
       "      <td>Raccoon</td>\n",
       "      <td>Gray</td>\n",
       "    </tr>\n",
       "    <tr>\n",
       "      <th>A720371</th>\n",
       "      <td>Moose</td>\n",
       "      <td>02/13/2016 05:59:00 PM</td>\n",
       "      <td>Feb 2016</td>\n",
       "      <td>10/08/2015</td>\n",
       "      <td>Adoption</td>\n",
       "      <td>NaN</td>\n",
       "      <td>Dog</td>\n",
       "      <td>Neutered Male</td>\n",
       "      <td>4 months</td>\n",
       "      <td>Anatol Shepherd/Labrador Retriever</td>\n",
       "      <td>Buff</td>\n",
       "    </tr>\n",
       "    <tr>\n",
       "      <th>A674754</th>\n",
       "      <td>NaN</td>\n",
       "      <td>03/18/2014 11:47:00 AM</td>\n",
       "      <td>Mar 2014</td>\n",
       "      <td>03/12/2014</td>\n",
       "      <td>Transfer</td>\n",
       "      <td>Partner</td>\n",
       "      <td>Cat</td>\n",
       "      <td>Intact Male</td>\n",
       "      <td>6 days</td>\n",
       "      <td>Domestic Shorthair Mix</td>\n",
       "      <td>Orange Tabby</td>\n",
       "    </tr>\n",
       "  </tbody>\n",
       "</table>\n",
       "</div>"
      ],
      "text/plain": [
       "            Name                DateTime MonthYear Date of Birth Outcome Type  \\\n",
       "Animal ID                                                                       \n",
       "A794011    Chunk  05/08/2019 06:20:00 PM  May 2019    05/02/2017    Rto-Adopt   \n",
       "A776359    Gizmo  07/18/2018 04:02:00 PM  Jul 2018    07/12/2017     Adoption   \n",
       "A821648      NaN  08/16/2020 11:38:00 AM  Aug 2020    08/16/2019   Euthanasia   \n",
       "A720371    Moose  02/13/2016 05:59:00 PM  Feb 2016    10/08/2015     Adoption   \n",
       "A674754      NaN  03/18/2014 11:47:00 AM  Mar 2014    03/12/2014     Transfer   \n",
       "\n",
       "          Outcome Subtype Animal Type Sex upon Outcome Age upon Outcome  \\\n",
       "Animal ID                                                                 \n",
       "A794011               NaN         Cat    Neutered Male          2 years   \n",
       "A776359               NaN         Dog    Neutered Male           1 year   \n",
       "A821648               NaN       Other          Unknown           1 year   \n",
       "A720371               NaN         Dog    Neutered Male         4 months   \n",
       "A674754           Partner         Cat      Intact Male           6 days   \n",
       "\n",
       "                                        Breed              Color  \n",
       "Animal ID                                                         \n",
       "A794011                Domestic Shorthair Mix  Brown Tabby/White  \n",
       "A776359               Chihuahua Shorthair Mix        White/Brown  \n",
       "A821648                               Raccoon               Gray  \n",
       "A720371    Anatol Shepherd/Labrador Retriever               Buff  \n",
       "A674754                Domestic Shorthair Mix       Orange Tabby  "
      ]
     },
     "execution_count": 3,
     "metadata": {},
     "output_type": "execute_result"
    }
   ],
   "source": [
    "df.head()"
   ]
  },
  {
   "cell_type": "code",
   "execution_count": 34,
   "id": "24c19f6e",
   "metadata": {},
   "outputs": [
    {
     "data": {
      "text/plain": [
       "Black/White                14895\n",
       "Black                      11958\n",
       "Brown Tabby                 8258\n",
       "Brown                       6056\n",
       "White                       5014\n",
       "                           ...  \n",
       "Chocolate/Gold                 1\n",
       "Torbie/Calico                  1\n",
       "Orange/Gray                    1\n",
       "Cream Tabby/Cream Tabby        1\n",
       "Black Tabby/Brown              1\n",
       "Name: Color, Length: 621, dtype: int64"
      ]
     },
     "execution_count": 34,
     "metadata": {},
     "output_type": "execute_result"
    }
   ],
   "source": [
    "df.Color.value_counts()"
   ]
  },
  {
   "cell_type": "code",
   "execution_count": 4,
   "id": "3d6705d1",
   "metadata": {},
   "outputs": [],
   "source": [
    "df = prepare.prep_animal_data(df)"
   ]
  },
  {
   "cell_type": "code",
   "execution_count": 5,
   "id": "a9946b13",
   "metadata": {},
   "outputs": [
    {
     "data": {
      "text/html": [
       "<div>\n",
       "<style scoped>\n",
       "    .dataframe tbody tr th:only-of-type {\n",
       "        vertical-align: middle;\n",
       "    }\n",
       "\n",
       "    .dataframe tbody tr th {\n",
       "        vertical-align: top;\n",
       "    }\n",
       "\n",
       "    .dataframe thead th {\n",
       "        text-align: right;\n",
       "    }\n",
       "</style>\n",
       "<table border=\"1\" class=\"dataframe\">\n",
       "  <thead>\n",
       "    <tr style=\"text-align: right;\">\n",
       "      <th></th>\n",
       "      <th>Name</th>\n",
       "      <th>DateTime</th>\n",
       "      <th>MonthYear</th>\n",
       "      <th>DOB</th>\n",
       "      <th>outcome</th>\n",
       "      <th>animal_type</th>\n",
       "      <th>sex</th>\n",
       "      <th>age</th>\n",
       "      <th>Breed</th>\n",
       "      <th>Color</th>\n",
       "      <th>...</th>\n",
       "      <th>animal_type_Bird</th>\n",
       "      <th>animal_type_Cat</th>\n",
       "      <th>animal_type_Dog</th>\n",
       "      <th>animal_type_Livestock</th>\n",
       "      <th>animal_type_Other</th>\n",
       "      <th>sex_Intact Female</th>\n",
       "      <th>sex_Intact Male</th>\n",
       "      <th>sex_Neutered Male</th>\n",
       "      <th>sex_Spayed Female</th>\n",
       "      <th>sex_Unknown</th>\n",
       "    </tr>\n",
       "    <tr>\n",
       "      <th>Animal ID</th>\n",
       "      <th></th>\n",
       "      <th></th>\n",
       "      <th></th>\n",
       "      <th></th>\n",
       "      <th></th>\n",
       "      <th></th>\n",
       "      <th></th>\n",
       "      <th></th>\n",
       "      <th></th>\n",
       "      <th></th>\n",
       "      <th></th>\n",
       "      <th></th>\n",
       "      <th></th>\n",
       "      <th></th>\n",
       "      <th></th>\n",
       "      <th></th>\n",
       "      <th></th>\n",
       "      <th></th>\n",
       "      <th></th>\n",
       "      <th></th>\n",
       "      <th></th>\n",
       "    </tr>\n",
       "  </thead>\n",
       "  <tbody>\n",
       "    <tr>\n",
       "      <th>A794011</th>\n",
       "      <td>Chunk</td>\n",
       "      <td>05/08/2019 06:20:00 PM</td>\n",
       "      <td>May 2019</td>\n",
       "      <td>2017-05-02</td>\n",
       "      <td>Rto-Adopt</td>\n",
       "      <td>Cat</td>\n",
       "      <td>Neutered Male</td>\n",
       "      <td>5</td>\n",
       "      <td>Domestic Shorthair Mix</td>\n",
       "      <td>Brown Tabby/White</td>\n",
       "      <td>...</td>\n",
       "      <td>0</td>\n",
       "      <td>1</td>\n",
       "      <td>0</td>\n",
       "      <td>0</td>\n",
       "      <td>0</td>\n",
       "      <td>0</td>\n",
       "      <td>0</td>\n",
       "      <td>1</td>\n",
       "      <td>0</td>\n",
       "      <td>0</td>\n",
       "    </tr>\n",
       "    <tr>\n",
       "      <th>A776359</th>\n",
       "      <td>Gizmo</td>\n",
       "      <td>07/18/2018 04:02:00 PM</td>\n",
       "      <td>Jul 2018</td>\n",
       "      <td>2017-07-12</td>\n",
       "      <td>Adoption</td>\n",
       "      <td>Dog</td>\n",
       "      <td>Neutered Male</td>\n",
       "      <td>5</td>\n",
       "      <td>Chihuahua Shorthair Mix</td>\n",
       "      <td>White/Brown</td>\n",
       "      <td>...</td>\n",
       "      <td>0</td>\n",
       "      <td>0</td>\n",
       "      <td>1</td>\n",
       "      <td>0</td>\n",
       "      <td>0</td>\n",
       "      <td>0</td>\n",
       "      <td>0</td>\n",
       "      <td>1</td>\n",
       "      <td>0</td>\n",
       "      <td>0</td>\n",
       "    </tr>\n",
       "    <tr>\n",
       "      <th>A821648</th>\n",
       "      <td>No_name</td>\n",
       "      <td>08/16/2020 11:38:00 AM</td>\n",
       "      <td>Aug 2020</td>\n",
       "      <td>2019-08-16</td>\n",
       "      <td>Euthanasia</td>\n",
       "      <td>Other</td>\n",
       "      <td>Unknown</td>\n",
       "      <td>3</td>\n",
       "      <td>Raccoon</td>\n",
       "      <td>Gray</td>\n",
       "      <td>...</td>\n",
       "      <td>0</td>\n",
       "      <td>0</td>\n",
       "      <td>0</td>\n",
       "      <td>0</td>\n",
       "      <td>1</td>\n",
       "      <td>0</td>\n",
       "      <td>0</td>\n",
       "      <td>0</td>\n",
       "      <td>0</td>\n",
       "      <td>1</td>\n",
       "    </tr>\n",
       "    <tr>\n",
       "      <th>A720371</th>\n",
       "      <td>Moose</td>\n",
       "      <td>02/13/2016 05:59:00 PM</td>\n",
       "      <td>Feb 2016</td>\n",
       "      <td>2015-10-08</td>\n",
       "      <td>Adoption</td>\n",
       "      <td>Dog</td>\n",
       "      <td>Neutered Male</td>\n",
       "      <td>7</td>\n",
       "      <td>Anatol Shepherd/Labrador Retriever</td>\n",
       "      <td>Buff</td>\n",
       "      <td>...</td>\n",
       "      <td>0</td>\n",
       "      <td>0</td>\n",
       "      <td>1</td>\n",
       "      <td>0</td>\n",
       "      <td>0</td>\n",
       "      <td>0</td>\n",
       "      <td>0</td>\n",
       "      <td>1</td>\n",
       "      <td>0</td>\n",
       "      <td>0</td>\n",
       "    </tr>\n",
       "    <tr>\n",
       "      <th>A674754</th>\n",
       "      <td>No_name</td>\n",
       "      <td>03/18/2014 11:47:00 AM</td>\n",
       "      <td>Mar 2014</td>\n",
       "      <td>2014-03-12</td>\n",
       "      <td>Transfer</td>\n",
       "      <td>Cat</td>\n",
       "      <td>Intact Male</td>\n",
       "      <td>8</td>\n",
       "      <td>Domestic Shorthair Mix</td>\n",
       "      <td>Orange Tabby</td>\n",
       "      <td>...</td>\n",
       "      <td>0</td>\n",
       "      <td>1</td>\n",
       "      <td>0</td>\n",
       "      <td>0</td>\n",
       "      <td>0</td>\n",
       "      <td>0</td>\n",
       "      <td>1</td>\n",
       "      <td>0</td>\n",
       "      <td>0</td>\n",
       "      <td>0</td>\n",
       "    </tr>\n",
       "  </tbody>\n",
       "</table>\n",
       "<p>5 rows × 33 columns</p>\n",
       "</div>"
      ],
      "text/plain": [
       "              Name                DateTime MonthYear        DOB     outcome  \\\n",
       "Animal ID                                                                     \n",
       "A794011      Chunk  05/08/2019 06:20:00 PM  May 2019 2017-05-02   Rto-Adopt   \n",
       "A776359      Gizmo  07/18/2018 04:02:00 PM  Jul 2018 2017-07-12    Adoption   \n",
       "A821648    No_name  08/16/2020 11:38:00 AM  Aug 2020 2019-08-16  Euthanasia   \n",
       "A720371      Moose  02/13/2016 05:59:00 PM  Feb 2016 2015-10-08    Adoption   \n",
       "A674754    No_name  03/18/2014 11:47:00 AM  Mar 2014 2014-03-12    Transfer   \n",
       "\n",
       "          animal_type            sex  age                               Breed  \\\n",
       "Animal ID                                                                       \n",
       "A794011           Cat  Neutered Male    5              Domestic Shorthair Mix   \n",
       "A776359           Dog  Neutered Male    5             Chihuahua Shorthair Mix   \n",
       "A821648         Other        Unknown    3                             Raccoon   \n",
       "A720371           Dog  Neutered Male    7  Anatol Shepherd/Labrador Retriever   \n",
       "A674754           Cat    Intact Male    8              Domestic Shorthair Mix   \n",
       "\n",
       "                       Color  ...  animal_type_Bird animal_type_Cat  \\\n",
       "Animal ID                     ...                                     \n",
       "A794011    Brown Tabby/White  ...                 0               1   \n",
       "A776359          White/Brown  ...                 0               0   \n",
       "A821648                 Gray  ...                 0               0   \n",
       "A720371                 Buff  ...                 0               0   \n",
       "A674754         Orange Tabby  ...                 0               1   \n",
       "\n",
       "           animal_type_Dog  animal_type_Livestock  animal_type_Other  \\\n",
       "Animal ID                                                              \n",
       "A794011                  0                      0                  0   \n",
       "A776359                  1                      0                  0   \n",
       "A821648                  0                      0                  1   \n",
       "A720371                  1                      0                  0   \n",
       "A674754                  0                      0                  0   \n",
       "\n",
       "           sex_Intact Female  sex_Intact Male  sex_Neutered Male  \\\n",
       "Animal ID                                                          \n",
       "A794011                    0                0                  1   \n",
       "A776359                    0                0                  1   \n",
       "A821648                    0                0                  0   \n",
       "A720371                    0                0                  1   \n",
       "A674754                    0                1                  0   \n",
       "\n",
       "           sex_Spayed Female  sex_Unknown  \n",
       "Animal ID                                  \n",
       "A794011                    0            0  \n",
       "A776359                    0            0  \n",
       "A821648                    0            1  \n",
       "A720371                    0            0  \n",
       "A674754                    0            0  \n",
       "\n",
       "[5 rows x 33 columns]"
      ]
     },
     "execution_count": 5,
     "metadata": {},
     "output_type": "execute_result"
    }
   ],
   "source": [
    "df.head()"
   ]
  },
  {
   "cell_type": "code",
   "execution_count": 6,
   "id": "9e24b0f8",
   "metadata": {
    "scrolled": true
   },
   "outputs": [
    {
     "name": "stdout",
     "output_type": "stream",
     "text": [
      "<class 'pandas.core.frame.DataFrame'>\n",
      "Index: 142750 entries, A794011 to A857750\n",
      "Data columns (total 33 columns):\n",
      " #   Column                 Non-Null Count   Dtype         \n",
      "---  ------                 --------------   -----         \n",
      " 0   Name                   142750 non-null  object        \n",
      " 1   DateTime               142750 non-null  object        \n",
      " 2   MonthYear              142750 non-null  object        \n",
      " 3   DOB                    142750 non-null  datetime64[ns]\n",
      " 4   outcome                142750 non-null  object        \n",
      " 5   animal_type            142750 non-null  object        \n",
      " 6   sex                    142750 non-null  object        \n",
      " 7   age                    142750 non-null  int64         \n",
      " 8   Breed                  142750 non-null  object        \n",
      " 9   Color                  142750 non-null  object        \n",
      " 10  year                   142750 non-null  int64         \n",
      " 11  age_bin                140392 non-null  category      \n",
      " 12  Adoption               142750 non-null  uint8         \n",
      " 13  Died                   142750 non-null  uint8         \n",
      " 14  Disposal               142750 non-null  uint8         \n",
      " 15  Euthanasia             142750 non-null  uint8         \n",
      " 16  Lost                   142750 non-null  uint8         \n",
      " 17  Missing                142750 non-null  uint8         \n",
      " 18  Relocate               142750 non-null  uint8         \n",
      " 19  Return to Owner        142750 non-null  uint8         \n",
      " 20  Rto-Adopt              142750 non-null  uint8         \n",
      " 21  Stolen                 142750 non-null  uint8         \n",
      " 22  Transfer               142750 non-null  uint8         \n",
      " 23  animal_type_Bird       142750 non-null  uint8         \n",
      " 24  animal_type_Cat        142750 non-null  uint8         \n",
      " 25  animal_type_Dog        142750 non-null  uint8         \n",
      " 26  animal_type_Livestock  142750 non-null  uint8         \n",
      " 27  animal_type_Other      142750 non-null  uint8         \n",
      " 28  sex_Intact Female      142750 non-null  uint8         \n",
      " 29  sex_Intact Male        142750 non-null  uint8         \n",
      " 30  sex_Neutered Male      142750 non-null  uint8         \n",
      " 31  sex_Spayed Female      142750 non-null  uint8         \n",
      " 32  sex_Unknown            142750 non-null  uint8         \n",
      "dtypes: category(1), datetime64[ns](1), int64(2), object(8), uint8(21)\n",
      "memory usage: 16.1+ MB\n"
     ]
    }
   ],
   "source": [
    "df.info()"
   ]
  },
  {
   "cell_type": "code",
   "execution_count": null,
   "id": "71e1c41a",
   "metadata": {},
   "outputs": [],
   "source": [
    "prepare.prep_animal_data(df)"
   ]
  },
  {
   "cell_type": "code",
   "execution_count": 9,
   "id": "eee6eaa1",
   "metadata": {},
   "outputs": [
    {
     "data": {
      "text/plain": [
       "((79940, 33), (34260, 33), (28550, 33))"
      ]
     },
     "execution_count": 9,
     "metadata": {},
     "output_type": "execute_result"
    }
   ],
   "source": [
    "train, validate, test = train_validate_test_split(df, target='Euthanasia')\n",
    "train.shape, validate.shape, test.shape"
   ]
  },
  {
   "cell_type": "markdown",
   "id": "da909da0",
   "metadata": {},
   "source": [
    "Initial questions \n",
    "\n",
    "- what sex of animals is more likely to get euthi\n",
    "\n",
    "- what animal type is more lkely to get euthi\n",
    "\n",
    "- Does the age of the animal determine the euthinization\n",
    "\n",
    "- what age are animals more likly to get adopted?\n",
    "\n",
    "- what Breed is more likly to get adopted \n",
    "\n",
    "\n",
    "\n",
    "-  Some notes from the rubric :\n",
    "You should ask questions of the data using natural language that speaks to the business stakeholders in markdown cells, ideally a header prior to the visualization or statistical test, that you then explore. \n",
    "\n",
    "3+ Statistical tests are utilized correctly (correct variables, conclusions drawn, no assumptions violated, and proper conclusions reached)\n",
    "\n",
    "You may only call out a few of these features in the presentation, but having that there for reference is important in a report. A group of features may have the same reason why, and those can be mentioned together."
   ]
  },
  {
   "cell_type": "markdown",
   "id": "edc390d9",
   "metadata": {},
   "source": [
    "## Question 1 what animal type of animals is more likely to get euthi"
   ]
  },
  {
   "cell_type": "code",
   "execution_count": 12,
   "id": "17895b0a",
   "metadata": {
    "scrolled": true
   },
   "outputs": [
    {
     "data": {
      "text/plain": [
       "<seaborn.axisgrid.FacetGrid at 0x14f2d6100>"
      ]
     },
     "execution_count": 12,
     "metadata": {},
     "output_type": "execute_result"
    },
    {
     "data": {
      "text/plain": [
       "<Figure size 1080x720 with 0 Axes>"
      ]
     },
     "metadata": {},
     "output_type": "display_data"
    },
    {
     "data": {
      "image/png": "[encoded data removed]",
      "text/plain": [
       "<Figure size 423.75x360 with 1 Axes>"
      ]
     },
     "metadata": {
      "needs_background": "light"
     },
     "output_type": "display_data"
    }
   ],
   "source": [
    "plt.figure(figsize=(15,10))\n",
    "sns.catplot(x=\"animal_type\",hue = 'Euthanasia', data=train, kind='count')"
   ]
  },
  {
   "cell_type": "markdown",
   "id": "c885307e",
   "metadata": {},
   "source": [
    "$H_o$ : Animal_type and Euthanasia are independant\n",
    "\n",
    "$H_a$ : There is a relationship between the animal type and Euthinasia"
   ]
  },
  {
   "cell_type": "code",
   "execution_count": 16,
   "id": "25cfa590",
   "metadata": {},
   "outputs": [
    {
     "name": "stdout",
     "output_type": "stream",
     "text": [
      "Reject the null hypothesis\n"
     ]
    }
   ],
   "source": [
    "# Chi sQARED TEST \n",
    "\n",
    "# Let's run a chi squared to compare proportions, to have more confidence\n",
    "alpha = 0.05\n",
    "# Setup a crosstab of observed churn and payment_type \n",
    "#This is the best statistical test becasue we are looking at two categorical variables \n",
    "observed = pd.crosstab(train.animal_type, train.Euthanasia)\n",
    "\n",
    "chi2, p, degf, expected = stats.chi2_contingency(observed)\n",
    "\n",
    "if p < alpha:\n",
    "    print(\"Reject the null hypothesis\")\n",
    "else:\n",
    "    print(\"Fail to reject the null\")\n",
    "   "
   ]
  },
  {
   "cell_type": "markdown",
   "id": "296dd01b",
   "metadata": {},
   "source": [
    "## Question 1.2 What animal type is more likely to get adopted?"
   ]
  },
  {
   "cell_type": "code",
   "execution_count": null,
   "id": "e2cc1366",
   "metadata": {},
   "outputs": [],
   "source": []
  },
  {
   "cell_type": "code",
   "execution_count": 14,
   "id": "40d593e2",
   "metadata": {
    "scrolled": false
   },
   "outputs": [
    {
     "data": {
      "text/plain": [
       "<seaborn.axisgrid.FacetGrid at 0x14f147550>"
      ]
     },
     "execution_count": 14,
     "metadata": {},
     "output_type": "execute_result"
    },
    {
     "data": {
      "image/png": "[encoded data removed]",
      "text/plain": [
       "<Figure size 360x360 with 1 Axes>"
      ]
     },
     "metadata": {
      "needs_background": "light"
     },
     "output_type": "display_data"
    }
   ],
   "source": [
    "sns.catplot(x=\"animal_type\", data=train, kind='count')"
   ]
  },
  {
   "cell_type": "code",
   "execution_count": 15,
   "id": "524c9fc8",
   "metadata": {},
   "outputs": [
    {
     "data": {
      "text/plain": [
       "Dog          80072\n",
       "Cat          54430\n",
       "Other         7542\n",
       "Bird           680\n",
       "Livestock       26\n",
       "Name: animal_type, dtype: int64"
      ]
     },
     "execution_count": 15,
     "metadata": {},
     "output_type": "execute_result"
    }
   ],
   "source": [
    "df.animal_type.value_counts()"
   ]
  },
  {
   "cell_type": "code",
   "execution_count": 13,
   "id": "671dcd95",
   "metadata": {
    "scrolled": false
   },
   "outputs": [
    {
     "data": {
      "text/plain": [
       "<seaborn.axisgrid.FacetGrid at 0x14eff1160>"
      ]
     },
     "execution_count": 13,
     "metadata": {},
     "output_type": "execute_result"
    },
    {
     "data": {
      "image/png": "[encoded data removed]",
      "text/plain": [
       "<Figure size 412.5x360 with 1 Axes>"
      ]
     },
     "metadata": {
      "needs_background": "light"
     },
     "output_type": "display_data"
    }
   ],
   "source": [
    "sns.catplot(x=\"animal_type\",hue = 'Adoption', data=train, kind='count')"
   ]
  },
  {
   "cell_type": "code",
   "execution_count": 17,
   "id": "01762e9d",
   "metadata": {},
   "outputs": [
    {
     "data": {
      "text/plain": [
       "<seaborn.axisgrid.FacetGrid at 0x14fc9e970>"
      ]
     },
     "execution_count": 17,
     "metadata": {},
     "output_type": "execute_result"
    },
    {
     "data": {
      "text/plain": [
       "<Figure size 864x648 with 0 Axes>"
      ]
     },
     "metadata": {},
     "output_type": "display_data"
    },
    {
     "data": {
      "image/png": "[encoded data removed]",
      "text/plain": [
       "<Figure size 477.75x360 with 1 Axes>"
      ]
     },
     "metadata": {
      "needs_background": "light"
     },
     "output_type": "display_data"
    }
   ],
   "source": [
    "plt.figure(figsize=(12,9))\n",
    "sns.catplot(x=\"animal_type\",hue = 'outcome', data=train, kind='count')"
   ]
  },
  {
   "cell_type": "markdown",
   "id": "cfe7905d",
   "metadata": {},
   "source": [
    "## QUESTION 2 what sex of animals is more likely to get euthi"
   ]
  },
  {
   "cell_type": "code",
   "execution_count": 18,
   "id": "f6c001a5",
   "metadata": {
    "scrolled": false
   },
   "outputs": [
    {
     "data": {
      "image/png": "[encoded data removed]",
      "text/plain": [
       "<Figure size 1080x720 with 1 Axes>"
      ]
     },
     "metadata": {
      "needs_background": "light"
     },
     "output_type": "display_data"
    }
   ],
   "source": [
    "plt.figure(figsize=(15,10))\n",
    "c = sns.countplot(train['sex'],hue=train['Euthanasia'])\n",
    "\n",
    "for p in c.patches:\n",
    "    c.annotate(p.get_height(), \n",
    "                (p.get_x() + p.get_width() / 2.0, \n",
    "                 p.get_height()), \n",
    "                 ha = 'center', \n",
    "                 va = 'center', \n",
    "                 xytext = (2, 10),\n",
    "                 textcoords = 'offset points')"
   ]
  },
  {
   "cell_type": "markdown",
   "id": "7410e23d",
   "metadata": {},
   "source": [
    "$H_o$ : Sex and Euthanasia are independant\n",
    "\n",
    "$H_a$ : There is a relationship between the animal sex and Euthinasia"
   ]
  },
  {
   "cell_type": "code",
   "execution_count": 23,
   "id": "283e8b51",
   "metadata": {},
   "outputs": [
    {
     "name": "stdout",
     "output_type": "stream",
     "text": [
      "Reject the null hypothesis\n"
     ]
    }
   ],
   "source": [
    "# Chi sQARED TEST \n",
    "\n",
    "# Let's run a chi squared to compare proportions, to have more confidence\n",
    "alpha = 0.05\n",
    "# Setup a crosstab of observed churn and payment_type \n",
    "#This is the best statistical test becasue we are looking at two categorical variables \n",
    "observed = pd.crosstab(train.sex, train.Euthanasia)\n",
    "\n",
    "chi2, p, degf, expected = stats.chi2_contingency(observed)\n",
    "\n",
    "if p < alpha:\n",
    "    print(\"Reject the null hypothesis\")\n",
    "else:\n",
    "    print(\"Fail to reject the null\")\n",
    "   "
   ]
  },
  {
   "cell_type": "markdown",
   "id": "a0fb13d9",
   "metadata": {},
   "source": [
    "##  Question 3 - are the ages of the animals who are euthanized than those animals who are not euthanized "
   ]
  },
  {
   "cell_type": "code",
   "execution_count": 19,
   "id": "6e35d9e0",
   "metadata": {
    "scrolled": false
   },
   "outputs": [
    {
     "data": {
      "text/plain": [
       "<AxesSubplot:xlabel='age', ylabel='count'>"
      ]
     },
     "execution_count": 19,
     "metadata": {},
     "output_type": "execute_result"
    },
    {
     "data": {
      "image/png": "[encoded data removed]",
      "text/plain": [
       "<Figure size 864x648 with 1 Axes>"
      ]
     },
     "metadata": {
      "needs_background": "light"
     },
     "output_type": "display_data"
    }
   ],
   "source": [
    "plt.figure(figsize=(12,9))\n",
    "sns.countplot(x = train['age'] ,hue=train['Euthanasia'])"
   ]
  },
  {
   "cell_type": "markdown",
   "id": "47790a45",
   "metadata": {},
   "source": [
    "$H_o$ : the ages of the animals who are euthanized are equal to the ages of the animals that are not euthanized \n",
    "\n",
    "$H_a$ : the ages of the animals who are euthanized are not equal to the ages of the animals that are not euthanized"
   ]
  },
  {
   "cell_type": "code",
   "execution_count": 26,
   "id": "4e223026",
   "metadata": {},
   "outputs": [],
   "source": [
    "Euthanasia_sample = train[train.Euthanasia == 1 ].age\n",
    "No_Euthanasia_sample = train[train.Euthanasia == 0 ].age"
   ]
  },
  {
   "cell_type": "code",
   "execution_count": 27,
   "id": "26ae942c",
   "metadata": {},
   "outputs": [
    {
     "name": "stdout",
     "output_type": "stream",
     "text": [
      "We reject the null hypothesis\n"
     ]
    }
   ],
   "source": [
    "alpha = 0.05\n",
    "#For this I did a T-statistical test becasue we are working with a categorical variable and a quatative variable \n",
    "\n",
    "t, p = stats.ttest_ind(Euthanasia_sample,No_Euthanasia_sample, equal_var=False)\n",
    "\n",
    "if p < alpha:\n",
    "    print(\"We reject the null hypothesis\")\n",
    "\n",
    "else:\n",
    "    print(\"We fail to reject the null hypothesis\")"
   ]
  },
  {
   "cell_type": "markdown",
   "id": "14ccacf8",
   "metadata": {},
   "source": [
    "# question 4 - what are the diffrent outcomes for certain animal types"
   ]
  },
  {
   "cell_type": "code",
   "execution_count": 20,
   "id": "4da5ac4a",
   "metadata": {},
   "outputs": [
    {
     "data": {
      "text/plain": [
       "<AxesSubplot:xlabel='outcome', ylabel='count'>"
      ]
     },
     "execution_count": 20,
     "metadata": {},
     "output_type": "execute_result"
    },
    {
     "data": {
      "image/png": "[encoded data removed]",
      "text/plain": [
       "<Figure size 1008x720 with 1 Axes>"
      ]
     },
     "metadata": {
      "needs_background": "light"
     },
     "output_type": "display_data"
    }
   ],
   "source": [
    "plt.figure(figsize=(14,10))\n",
    "sns.countplot(x = train['outcome'] ,hue=train['animal_type'])"
   ]
  },
  {
   "cell_type": "markdown",
   "id": "0517ec54",
   "metadata": {},
   "source": [
    "$H_o$ : animal type and outcome are independant\n",
    "\n",
    "$H_a$ : There is a relationship between the animal type and independntn"
   ]
  },
  {
   "cell_type": "code",
   "execution_count": 30,
   "id": "c86b9a48",
   "metadata": {},
   "outputs": [
    {
     "name": "stdout",
     "output_type": "stream",
     "text": [
      "Reject the null hypothesis\n"
     ]
    }
   ],
   "source": [
    "# Chi sQARED TEST \n",
    "\n",
    "# Let's run a chi squared to compare proportions, to have more confidence\n",
    "alpha = 0.05\n",
    "# Setup a crosstab of observed churn and payment_type \n",
    "#This is the best statistical test becasue we are looking at two categorical variables \n",
    "observed = pd.crosstab(train.outcome, train.animal_type)\n",
    "\n",
    "chi2, p, degf, expected = stats.chi2_contingency(observed)\n",
    "\n",
    "if p < alpha:\n",
    "    print(\"Reject the null hypothesis\")\n",
    "else:\n",
    "    print(\"Fail to reject the null\")\n",
    "   "
   ]
  },
  {
   "cell_type": "markdown",
   "id": "759c4136",
   "metadata": {},
   "source": [
    "# Modeling"
   ]
  },
  {
   "cell_type": "markdown",
   "id": "58506401",
   "metadata": {},
   "source": [
    "Notes from the rubrick \n",
    "\n",
    "\n",
    "- You clearly communicate how you evaluated and compared models. What metric(s) did you use and why? For example, in one case, you may decide to use precision over accuracy."
   ]
  },
  {
   "cell_type": "markdown",
   "id": "8a6dc708",
   "metadata": {},
   "source": [
    "## creating a baseline"
   ]
  },
  {
   "cell_type": "code",
   "execution_count": 32,
   "id": "702c9b20",
   "metadata": {},
   "outputs": [
    {
     "name": "stdout",
     "output_type": "stream",
     "text": [
      "baseline_accuracy: 0.93\n"
     ]
    }
   ],
   "source": [
    "baseline_accuracy = (train.Euthanasia == 0).mean()\n",
    "print(f\"baseline_accuracy: {round(baseline_accuracy, 2)}\")"
   ]
  },
  {
   "cell_type": "code",
   "execution_count": 33,
   "id": "61d5a037",
   "metadata": {
    "scrolled": true
   },
   "outputs": [
    {
     "data": {
      "text/html": [
       "<div>\n",
       "<style scoped>\n",
       "    .dataframe tbody tr th:only-of-type {\n",
       "        vertical-align: middle;\n",
       "    }\n",
       "\n",
       "    .dataframe tbody tr th {\n",
       "        vertical-align: top;\n",
       "    }\n",
       "\n",
       "    .dataframe thead th {\n",
       "        text-align: right;\n",
       "    }\n",
       "</style>\n",
       "<table border=\"1\" class=\"dataframe\">\n",
       "  <thead>\n",
       "    <tr style=\"text-align: right;\">\n",
       "      <th></th>\n",
       "      <th>Name</th>\n",
       "      <th>DateTime</th>\n",
       "      <th>MonthYear</th>\n",
       "      <th>DOB</th>\n",
       "      <th>outcome</th>\n",
       "      <th>animal_type</th>\n",
       "      <th>sex</th>\n",
       "      <th>age</th>\n",
       "      <th>Breed</th>\n",
       "      <th>Color</th>\n",
       "      <th>...</th>\n",
       "      <th>animal_type_Bird</th>\n",
       "      <th>animal_type_Cat</th>\n",
       "      <th>animal_type_Dog</th>\n",
       "      <th>animal_type_Livestock</th>\n",
       "      <th>animal_type_Other</th>\n",
       "      <th>sex_Intact Female</th>\n",
       "      <th>sex_Intact Male</th>\n",
       "      <th>sex_Neutered Male</th>\n",
       "      <th>sex_Spayed Female</th>\n",
       "      <th>sex_Unknown</th>\n",
       "    </tr>\n",
       "    <tr>\n",
       "      <th>Animal ID</th>\n",
       "      <th></th>\n",
       "      <th></th>\n",
       "      <th></th>\n",
       "      <th></th>\n",
       "      <th></th>\n",
       "      <th></th>\n",
       "      <th></th>\n",
       "      <th></th>\n",
       "      <th></th>\n",
       "      <th></th>\n",
       "      <th></th>\n",
       "      <th></th>\n",
       "      <th></th>\n",
       "      <th></th>\n",
       "      <th></th>\n",
       "      <th></th>\n",
       "      <th></th>\n",
       "      <th></th>\n",
       "      <th></th>\n",
       "      <th></th>\n",
       "      <th></th>\n",
       "    </tr>\n",
       "  </thead>\n",
       "  <tbody>\n",
       "    <tr>\n",
       "      <th>A731965</th>\n",
       "      <td>*Elmer</td>\n",
       "      <td>10/26/2016 12:00:00 AM</td>\n",
       "      <td>Oct 2016</td>\n",
       "      <td>2013-07-30</td>\n",
       "      <td>Adoption</td>\n",
       "      <td>Dog</td>\n",
       "      <td>Neutered Male</td>\n",
       "      <td>9</td>\n",
       "      <td>Pit Bull Mix</td>\n",
       "      <td>Blue/White</td>\n",
       "      <td>...</td>\n",
       "      <td>0</td>\n",
       "      <td>0</td>\n",
       "      <td>1</td>\n",
       "      <td>0</td>\n",
       "      <td>0</td>\n",
       "      <td>0</td>\n",
       "      <td>0</td>\n",
       "      <td>1</td>\n",
       "      <td>0</td>\n",
       "      <td>0</td>\n",
       "    </tr>\n",
       "    <tr>\n",
       "      <th>A817802</th>\n",
       "      <td>No_name</td>\n",
       "      <td>06/01/2020 03:26:00 PM</td>\n",
       "      <td>Jun 2020</td>\n",
       "      <td>2019-05-26</td>\n",
       "      <td>Transfer</td>\n",
       "      <td>Dog</td>\n",
       "      <td>Neutered Male</td>\n",
       "      <td>3</td>\n",
       "      <td>Dachshund/Chihuahua Shorthair</td>\n",
       "      <td>Black</td>\n",
       "      <td>...</td>\n",
       "      <td>0</td>\n",
       "      <td>0</td>\n",
       "      <td>1</td>\n",
       "      <td>0</td>\n",
       "      <td>0</td>\n",
       "      <td>0</td>\n",
       "      <td>0</td>\n",
       "      <td>1</td>\n",
       "      <td>0</td>\n",
       "      <td>0</td>\n",
       "    </tr>\n",
       "    <tr>\n",
       "      <th>A811391</th>\n",
       "      <td>Holly</td>\n",
       "      <td>01/03/2020 01:08:00 PM</td>\n",
       "      <td>Jan 2020</td>\n",
       "      <td>2011-01-03</td>\n",
       "      <td>Return to Owner</td>\n",
       "      <td>Dog</td>\n",
       "      <td>Intact Female</td>\n",
       "      <td>11</td>\n",
       "      <td>Boxer</td>\n",
       "      <td>White</td>\n",
       "      <td>...</td>\n",
       "      <td>0</td>\n",
       "      <td>0</td>\n",
       "      <td>1</td>\n",
       "      <td>0</td>\n",
       "      <td>0</td>\n",
       "      <td>1</td>\n",
       "      <td>0</td>\n",
       "      <td>0</td>\n",
       "      <td>0</td>\n",
       "      <td>0</td>\n",
       "    </tr>\n",
       "    <tr>\n",
       "      <th>A692819</th>\n",
       "      <td>Spider</td>\n",
       "      <td>03/22/2016 12:56:00 PM</td>\n",
       "      <td>Mar 2016</td>\n",
       "      <td>2012-11-26</td>\n",
       "      <td>Euthanasia</td>\n",
       "      <td>Dog</td>\n",
       "      <td>Neutered Male</td>\n",
       "      <td>10</td>\n",
       "      <td>American Staffordshire Terrier Mix</td>\n",
       "      <td>Black/White</td>\n",
       "      <td>...</td>\n",
       "      <td>0</td>\n",
       "      <td>0</td>\n",
       "      <td>1</td>\n",
       "      <td>0</td>\n",
       "      <td>0</td>\n",
       "      <td>0</td>\n",
       "      <td>0</td>\n",
       "      <td>1</td>\n",
       "      <td>0</td>\n",
       "      <td>0</td>\n",
       "    </tr>\n",
       "    <tr>\n",
       "      <th>A704896</th>\n",
       "      <td>Drogo</td>\n",
       "      <td>06/16/2015 04:59:00 PM</td>\n",
       "      <td>Jun 2015</td>\n",
       "      <td>2013-06-10</td>\n",
       "      <td>Adoption</td>\n",
       "      <td>Dog</td>\n",
       "      <td>Neutered Male</td>\n",
       "      <td>9</td>\n",
       "      <td>Chihuahua Shorthair Mix</td>\n",
       "      <td>Brown/White</td>\n",
       "      <td>...</td>\n",
       "      <td>0</td>\n",
       "      <td>0</td>\n",
       "      <td>1</td>\n",
       "      <td>0</td>\n",
       "      <td>0</td>\n",
       "      <td>0</td>\n",
       "      <td>0</td>\n",
       "      <td>1</td>\n",
       "      <td>0</td>\n",
       "      <td>0</td>\n",
       "    </tr>\n",
       "  </tbody>\n",
       "</table>\n",
       "<p>5 rows × 33 columns</p>\n",
       "</div>"
      ],
      "text/plain": [
       "              Name                DateTime MonthYear        DOB  \\\n",
       "Animal ID                                                         \n",
       "A731965     *Elmer  10/26/2016 12:00:00 AM  Oct 2016 2013-07-30   \n",
       "A817802    No_name  06/01/2020 03:26:00 PM  Jun 2020 2019-05-26   \n",
       "A811391      Holly  01/03/2020 01:08:00 PM  Jan 2020 2011-01-03   \n",
       "A692819     Spider  03/22/2016 12:56:00 PM  Mar 2016 2012-11-26   \n",
       "A704896      Drogo  06/16/2015 04:59:00 PM  Jun 2015 2013-06-10   \n",
       "\n",
       "                   outcome animal_type            sex  age  \\\n",
       "Animal ID                                                    \n",
       "A731965           Adoption         Dog  Neutered Male    9   \n",
       "A817802           Transfer         Dog  Neutered Male    3   \n",
       "A811391    Return to Owner         Dog  Intact Female   11   \n",
       "A692819         Euthanasia         Dog  Neutered Male   10   \n",
       "A704896           Adoption         Dog  Neutered Male    9   \n",
       "\n",
       "                                        Breed        Color  ...  \\\n",
       "Animal ID                                                   ...   \n",
       "A731965                          Pit Bull Mix   Blue/White  ...   \n",
       "A817802         Dachshund/Chihuahua Shorthair        Black  ...   \n",
       "A811391                                 Boxer        White  ...   \n",
       "A692819    American Staffordshire Terrier Mix  Black/White  ...   \n",
       "A704896               Chihuahua Shorthair Mix  Brown/White  ...   \n",
       "\n",
       "           animal_type_Bird animal_type_Cat  animal_type_Dog  \\\n",
       "Animal ID                                                      \n",
       "A731965                   0               0                1   \n",
       "A817802                   0               0                1   \n",
       "A811391                   0               0                1   \n",
       "A692819                   0               0                1   \n",
       "A704896                   0               0                1   \n",
       "\n",
       "           animal_type_Livestock  animal_type_Other  sex_Intact Female  \\\n",
       "Animal ID                                                                \n",
       "A731965                        0                  0                  0   \n",
       "A817802                        0                  0                  0   \n",
       "A811391                        0                  0                  1   \n",
       "A692819                        0                  0                  0   \n",
       "A704896                        0                  0                  0   \n",
       "\n",
       "           sex_Intact Male  sex_Neutered Male  sex_Spayed Female  sex_Unknown  \n",
       "Animal ID                                                                      \n",
       "A731965                  0                  1                  0            0  \n",
       "A817802                  0                  1                  0            0  \n",
       "A811391                  0                  0                  0            0  \n",
       "A692819                  0                  1                  0            0  \n",
       "A704896                  0                  1                  0            0  \n",
       "\n",
       "[5 rows x 33 columns]"
      ]
     },
     "execution_count": 33,
     "metadata": {},
     "output_type": "execute_result"
    }
   ],
   "source": [
    "train.head()"
   ]
  },
  {
   "cell_type": "code",
   "execution_count": 35,
   "id": "3bbccea7",
   "metadata": {
    "scrolled": false
   },
   "outputs": [
    {
     "name": "stdout",
     "output_type": "stream",
     "text": [
      "<class 'pandas.core.frame.DataFrame'>\n",
      "Index: 142750 entries, A794011 to A857750\n",
      "Data columns (total 33 columns):\n",
      " #   Column                 Non-Null Count   Dtype         \n",
      "---  ------                 --------------   -----         \n",
      " 0   Name                   142750 non-null  object        \n",
      " 1   DateTime               142750 non-null  object        \n",
      " 2   MonthYear              142750 non-null  object        \n",
      " 3   DOB                    142750 non-null  datetime64[ns]\n",
      " 4   outcome                142750 non-null  object        \n",
      " 5   animal_type            142750 non-null  object        \n",
      " 6   sex                    142750 non-null  object        \n",
      " 7   age                    142750 non-null  int64         \n",
      " 8   Breed                  142750 non-null  object        \n",
      " 9   Color                  142750 non-null  object        \n",
      " 10  year                   142750 non-null  int64         \n",
      " 11  age_bin                140392 non-null  category      \n",
      " 12  Adoption               142750 non-null  uint8         \n",
      " 13  Died                   142750 non-null  uint8         \n",
      " 14  Disposal               142750 non-null  uint8         \n",
      " 15  Euthanasia             142750 non-null  uint8         \n",
      " 16  Lost                   142750 non-null  uint8         \n",
      " 17  Missing                142750 non-null  uint8         \n",
      " 18  Relocate               142750 non-null  uint8         \n",
      " 19  Return to Owner        142750 non-null  uint8         \n",
      " 20  Rto-Adopt              142750 non-null  uint8         \n",
      " 21  Stolen                 142750 non-null  uint8         \n",
      " 22  Transfer               142750 non-null  uint8         \n",
      " 23  animal_type_Bird       142750 non-null  uint8         \n",
      " 24  animal_type_Cat        142750 non-null  uint8         \n",
      " 25  animal_type_Dog        142750 non-null  uint8         \n",
      " 26  animal_type_Livestock  142750 non-null  uint8         \n",
      " 27  animal_type_Other      142750 non-null  uint8         \n",
      " 28  sex_Intact Female      142750 non-null  uint8         \n",
      " 29  sex_Intact Male        142750 non-null  uint8         \n",
      " 30  sex_Neutered Male      142750 non-null  uint8         \n",
      " 31  sex_Spayed Female      142750 non-null  uint8         \n",
      " 32  sex_Unknown            142750 non-null  uint8         \n",
      "dtypes: category(1), datetime64[ns](1), int64(2), object(8), uint8(21)\n",
      "memory usage: 16.1+ MB\n"
     ]
    }
   ],
   "source": [
    "df.info()"
   ]
  },
  {
   "cell_type": "markdown",
   "id": "fc5b9619",
   "metadata": {},
   "source": [
    "## Decision Tree "
   ]
  },
  {
   "cell_type": "code",
   "execution_count": 68,
   "id": "78470b20",
   "metadata": {},
   "outputs": [],
   "source": [
    "X_train = train.drop(columns=['Name','DateTime','MonthYear','DOB', 'Color','Breed', 'age_bin', 'outcome','animal_type','sex','Euthanasia', 'Adoption', 'Died', 'Disposal', 'Lost', 'Missing', 'Relocate', 'Return to Owner', 'Rto-Adopt','Stolen','Transfer'])\n",
    "y_train = train[['Euthanasia']]\n",
    "\n",
    "X_validate = validate.drop(columns=['Name','DateTime','MonthYear','DOB', 'Color','Breed', 'age_bin','outcome','animal_type','sex','Euthanasia', 'Adoption', 'Died', 'Disposal', 'Lost', 'Missing', 'Relocate', 'Return to Owner', 'Rto-Adopt','Stolen','Transfer'])\n",
    "y_validate = validate[['Euthanasia']]\n",
    "\n",
    "X_test = test.drop(columns=['Name','DateTime','MonthYear','DOB', 'Color','Breed', 'age_bin','outcome','animal_type','sex','Euthanasia', 'Adoption', 'Died', 'Disposal', 'Lost', 'Missing', 'Relocate', 'Return to Owner', 'Rto-Adopt','Stolen', 'Transfer'])\n",
    "y_test = test[['Euthanasia']]"
   ]
  },
  {
   "cell_type": "code",
   "execution_count": 69,
   "id": "585663ad",
   "metadata": {},
   "outputs": [
    {
     "data": {
      "text/html": [
       "<div>\n",
       "<style scoped>\n",
       "    .dataframe tbody tr th:only-of-type {\n",
       "        vertical-align: middle;\n",
       "    }\n",
       "\n",
       "    .dataframe tbody tr th {\n",
       "        vertical-align: top;\n",
       "    }\n",
       "\n",
       "    .dataframe thead th {\n",
       "        text-align: right;\n",
       "    }\n",
       "</style>\n",
       "<table border=\"1\" class=\"dataframe\">\n",
       "  <thead>\n",
       "    <tr style=\"text-align: right;\">\n",
       "      <th></th>\n",
       "      <th>age</th>\n",
       "      <th>year</th>\n",
       "      <th>animal_type_Bird</th>\n",
       "      <th>animal_type_Cat</th>\n",
       "      <th>animal_type_Dog</th>\n",
       "      <th>animal_type_Livestock</th>\n",
       "      <th>animal_type_Other</th>\n",
       "      <th>sex_Intact Female</th>\n",
       "      <th>sex_Intact Male</th>\n",
       "      <th>sex_Neutered Male</th>\n",
       "      <th>sex_Spayed Female</th>\n",
       "      <th>sex_Unknown</th>\n",
       "    </tr>\n",
       "    <tr>\n",
       "      <th>Animal ID</th>\n",
       "      <th></th>\n",
       "      <th></th>\n",
       "      <th></th>\n",
       "      <th></th>\n",
       "      <th></th>\n",
       "      <th></th>\n",
       "      <th></th>\n",
       "      <th></th>\n",
       "      <th></th>\n",
       "      <th></th>\n",
       "      <th></th>\n",
       "      <th></th>\n",
       "    </tr>\n",
       "  </thead>\n",
       "  <tbody>\n",
       "    <tr>\n",
       "      <th>A731965</th>\n",
       "      <td>9</td>\n",
       "      <td>2013</td>\n",
       "      <td>0</td>\n",
       "      <td>0</td>\n",
       "      <td>1</td>\n",
       "      <td>0</td>\n",
       "      <td>0</td>\n",
       "      <td>0</td>\n",
       "      <td>0</td>\n",
       "      <td>1</td>\n",
       "      <td>0</td>\n",
       "      <td>0</td>\n",
       "    </tr>\n",
       "    <tr>\n",
       "      <th>A817802</th>\n",
       "      <td>3</td>\n",
       "      <td>2019</td>\n",
       "      <td>0</td>\n",
       "      <td>0</td>\n",
       "      <td>1</td>\n",
       "      <td>0</td>\n",
       "      <td>0</td>\n",
       "      <td>0</td>\n",
       "      <td>0</td>\n",
       "      <td>1</td>\n",
       "      <td>0</td>\n",
       "      <td>0</td>\n",
       "    </tr>\n",
       "    <tr>\n",
       "      <th>A811391</th>\n",
       "      <td>11</td>\n",
       "      <td>2011</td>\n",
       "      <td>0</td>\n",
       "      <td>0</td>\n",
       "      <td>1</td>\n",
       "      <td>0</td>\n",
       "      <td>0</td>\n",
       "      <td>1</td>\n",
       "      <td>0</td>\n",
       "      <td>0</td>\n",
       "      <td>0</td>\n",
       "      <td>0</td>\n",
       "    </tr>\n",
       "    <tr>\n",
       "      <th>A692819</th>\n",
       "      <td>10</td>\n",
       "      <td>2012</td>\n",
       "      <td>0</td>\n",
       "      <td>0</td>\n",
       "      <td>1</td>\n",
       "      <td>0</td>\n",
       "      <td>0</td>\n",
       "      <td>0</td>\n",
       "      <td>0</td>\n",
       "      <td>1</td>\n",
       "      <td>0</td>\n",
       "      <td>0</td>\n",
       "    </tr>\n",
       "    <tr>\n",
       "      <th>A704896</th>\n",
       "      <td>9</td>\n",
       "      <td>2013</td>\n",
       "      <td>0</td>\n",
       "      <td>0</td>\n",
       "      <td>1</td>\n",
       "      <td>0</td>\n",
       "      <td>0</td>\n",
       "      <td>0</td>\n",
       "      <td>0</td>\n",
       "      <td>1</td>\n",
       "      <td>0</td>\n",
       "      <td>0</td>\n",
       "    </tr>\n",
       "  </tbody>\n",
       "</table>\n",
       "</div>"
      ],
      "text/plain": [
       "           age  year  animal_type_Bird  animal_type_Cat  animal_type_Dog  \\\n",
       "Animal ID                                                                  \n",
       "A731965      9  2013                 0                0                1   \n",
       "A817802      3  2019                 0                0                1   \n",
       "A811391     11  2011                 0                0                1   \n",
       "A692819     10  2012                 0                0                1   \n",
       "A704896      9  2013                 0                0                1   \n",
       "\n",
       "           animal_type_Livestock  animal_type_Other  sex_Intact Female  \\\n",
       "Animal ID                                                                \n",
       "A731965                        0                  0                  0   \n",
       "A817802                        0                  0                  0   \n",
       "A811391                        0                  0                  1   \n",
       "A692819                        0                  0                  0   \n",
       "A704896                        0                  0                  0   \n",
       "\n",
       "           sex_Intact Male  sex_Neutered Male  sex_Spayed Female  sex_Unknown  \n",
       "Animal ID                                                                      \n",
       "A731965                  0                  1                  0            0  \n",
       "A817802                  0                  1                  0            0  \n",
       "A811391                  0                  0                  0            0  \n",
       "A692819                  0                  1                  0            0  \n",
       "A704896                  0                  1                  0            0  "
      ]
     },
     "execution_count": 69,
     "metadata": {},
     "output_type": "execute_result"
    }
   ],
   "source": [
    "X_train.head()"
   ]
  },
  {
   "cell_type": "code",
   "execution_count": 70,
   "id": "db59df06",
   "metadata": {},
   "outputs": [],
   "source": [
    "tree1 = DecisionTreeClassifier(max_depth=3, random_state=123)"
   ]
  },
  {
   "cell_type": "code",
   "execution_count": 71,
   "id": "1137b44a",
   "metadata": {},
   "outputs": [],
   "source": [
    "tree1 = tree1.fit(X_train, y_train)\n",
    "\n",
    "# Use the model\n",
    "# We'll evaluate the model's performance on train, first\n",
    "y_predictions = tree1.predict(X_train)"
   ]
  },
  {
   "cell_type": "code",
   "execution_count": 72,
   "id": "dea81dcb",
   "metadata": {},
   "outputs": [
    {
     "data": {
      "image/png": "[encoded data removed]",
      "text/plain": [
       "<Figure size 864x504 with 1 Axes>"
      ]
     },
     "metadata": {
      "needs_background": "light"
     },
     "output_type": "display_data"
    }
   ],
   "source": [
    "plt.figure(figsize=(12, 7))\n",
    "plot_tree(tree1, feature_names=X_train.columns, class_names=['0','1'])\n",
    "plt.show()"
   ]
  },
  {
   "cell_type": "code",
   "execution_count": 73,
   "id": "034994c4",
   "metadata": {},
   "outputs": [
    {
     "name": "stdout",
     "output_type": "stream",
     "text": [
      "Accuracy of Decision Tree classifier on training set: 0.96\n"
     ]
    }
   ],
   "source": [
    "print('Accuracy of Decision Tree classifier on training set: {:.2f}'\n",
    "      .format(tree1.score(X_train, y_train)))"
   ]
  },
  {
   "cell_type": "code",
   "execution_count": 74,
   "id": "bf75b183",
   "metadata": {},
   "outputs": [
    {
     "data": {
      "text/plain": [
       "<sklearn.metrics._plot.confusion_matrix.ConfusionMatrixDisplay at 0x1636eda90>"
      ]
     },
     "execution_count": 74,
     "metadata": {},
     "output_type": "execute_result"
    },
    {
     "data": {
      "image/png": "[encoded data removed]",
      "text/plain": [
       "<Figure size 432x288 with 2 Axes>"
      ]
     },
     "metadata": {
      "needs_background": "light"
     },
     "output_type": "display_data"
    }
   ],
   "source": [
    "plot_confusion_matrix(tree1, X_train, y_train)"
   ]
  },
  {
   "cell_type": "code",
   "execution_count": 75,
   "id": "abb6922f",
   "metadata": {},
   "outputs": [
    {
     "name": "stdout",
     "output_type": "stream",
     "text": [
      "              precision    recall  f1-score   support\n",
      "\n",
      "           0       0.97      0.99      0.98     74716\n",
      "           1       0.80      0.52      0.63      5224\n",
      "\n",
      "    accuracy                           0.96     79940\n",
      "   macro avg       0.88      0.76      0.81     79940\n",
      "weighted avg       0.96      0.96      0.96     79940\n",
      "\n"
     ]
    }
   ],
   "source": [
    "print(classification_report(y_train, y_predictions))"
   ]
  },
  {
   "cell_type": "code",
   "execution_count": 64,
   "id": "ac4e8527",
   "metadata": {
    "scrolled": false
   },
   "outputs": [
    {
     "name": "stdout",
     "output_type": "stream",
     "text": [
      "Tree with max depth of 1\n",
      "                      0            1  accuracy     macro avg  weighted avg\n",
      "precision      0.968317     0.669273  0.952527      0.818795      0.948775\n",
      "recall         0.981316     0.540773  0.952527      0.761045      0.952527\n",
      "f1-score       0.974773     0.598200  0.952527      0.786487      0.950164\n",
      "support    74716.000000  5224.000000  0.952527  79940.000000  79940.000000\n",
      "\n",
      "Tree with max depth of 2\n",
      "                      0            1  accuracy     macro avg  weighted avg\n",
      "precision      0.967493     0.797030   0.96017      0.882261      0.956353\n",
      "recall         0.990671     0.523928   0.96017      0.757300      0.960170\n",
      "f1-score       0.978945     0.632248   0.96017      0.805596      0.956289\n",
      "support    74716.000000  5224.000000   0.96017  79940.000000  79940.000000\n",
      "\n",
      "Tree with max depth of 3\n",
      "                      0            1  accuracy     macro avg  weighted avg\n",
      "precision      0.967614     0.869441  0.963748      0.918527      0.961198\n",
      "recall         0.994499     0.523928  0.963748      0.759214      0.963748\n",
      "f1-score       0.980872     0.653846  0.963748      0.817359      0.959501\n",
      "support    74716.000000  5224.000000  0.963748  79940.000000  79940.000000\n",
      "\n",
      "Tree with max depth of 4\n",
      "                      0            1  accuracy     macro avg  weighted avg\n",
      "precision      1.000000     0.775765  0.981111      0.887882      0.985346\n",
      "recall         0.979790     1.000000  0.981111      0.989895      0.981111\n",
      "f1-score       0.989792     0.873725  0.981111      0.931758      0.982207\n",
      "support    74716.000000  5224.000000  0.981111  79940.000000  79940.000000\n",
      "\n",
      "Tree with max depth of 5\n",
      "                      0            1  accuracy     macro avg  weighted avg\n",
      "precision      1.000000     0.875775  0.990731      0.937888      0.991882\n",
      "recall         0.990082     1.000000  0.990731      0.995041      0.990731\n",
      "f1-score       0.995017     0.933774  0.990731      0.964395      0.991014\n",
      "support    74716.000000  5224.000000  0.990731  79940.000000  79940.000000\n",
      "\n",
      "Tree with max depth of 6\n",
      "                      0            1  accuracy     macro avg  weighted avg\n",
      "precision      1.000000     0.965441  0.997661      0.982720      0.997742\n",
      "recall         0.997497     1.000000  0.997661      0.998749      0.997661\n",
      "f1-score       0.998747     0.982417  0.997661      0.990582      0.997680\n",
      "support    74716.000000  5224.000000  0.997661  79940.000000  79940.000000\n",
      "\n",
      "Tree with max depth of 7\n",
      "                      0            1  accuracy     macro avg  weighted avg\n",
      "precision      1.000000     0.988084  0.999212      0.994042      0.999221\n",
      "recall         0.999157     1.000000  0.999212      0.999578      0.999212\n",
      "f1-score       0.999578     0.994006  0.999212      0.996792      0.999214\n",
      "support    74716.000000  5224.000000  0.999212  79940.000000  79940.000000\n",
      "\n",
      "Tree with max depth of 8\n",
      "                      0            1  accuracy     macro avg  weighted avg\n",
      "precision      1.000000     0.997327  0.999825      0.998664      0.999825\n",
      "recall         0.999813     1.000000  0.999825      0.999906      0.999825\n",
      "f1-score       0.999906     0.998662  0.999825      0.999284      0.999825\n",
      "support    74716.000000  5224.000000  0.999825  79940.000000  79940.000000\n",
      "\n",
      "Tree with max depth of 9\n",
      "                      0            1  accuracy     macro avg  weighted avg\n",
      "precision      1.000000     0.999617  0.999975      0.999809      0.999975\n",
      "recall         0.999973     1.000000  0.999975      0.999987      0.999975\n",
      "f1-score       0.999987     0.999809  0.999975      0.999898      0.999975\n",
      "support    74716.000000  5224.000000  0.999975  79940.000000  79940.000000\n",
      "\n",
      "Tree with max depth of 10\n",
      "                      0            1  accuracy     macro avg  weighted avg\n",
      "precision      1.000000     0.999809  0.999987      0.999904      0.999987\n",
      "recall         0.999987     1.000000  0.999987      0.999993      0.999987\n",
      "f1-score       0.999993     0.999904  0.999987      0.999949      0.999987\n",
      "support    74716.000000  5224.000000  0.999987  79940.000000  79940.000000\n",
      "\n",
      "Tree with max depth of 11\n",
      "                 0       1  accuracy  macro avg  weighted avg\n",
      "precision      1.0     1.0       1.0        1.0           1.0\n",
      "recall         1.0     1.0       1.0        1.0           1.0\n",
      "f1-score       1.0     1.0       1.0        1.0           1.0\n",
      "support    74716.0  5224.0       1.0    79940.0       79940.0\n",
      "\n",
      "Tree with max depth of 12\n",
      "                 0       1  accuracy  macro avg  weighted avg\n",
      "precision      1.0     1.0       1.0        1.0           1.0\n",
      "recall         1.0     1.0       1.0        1.0           1.0\n",
      "f1-score       1.0     1.0       1.0        1.0           1.0\n",
      "support    74716.0  5224.0       1.0    79940.0       79940.0\n",
      "\n",
      "Tree with max depth of 13\n",
      "                 0       1  accuracy  macro avg  weighted avg\n",
      "precision      1.0     1.0       1.0        1.0           1.0\n",
      "recall         1.0     1.0       1.0        1.0           1.0\n",
      "f1-score       1.0     1.0       1.0        1.0           1.0\n",
      "support    74716.0  5224.0       1.0    79940.0       79940.0\n",
      "\n",
      "Tree with max depth of 14\n",
      "                 0       1  accuracy  macro avg  weighted avg\n",
      "precision      1.0     1.0       1.0        1.0           1.0\n",
      "recall         1.0     1.0       1.0        1.0           1.0\n",
      "f1-score       1.0     1.0       1.0        1.0           1.0\n",
      "support    74716.0  5224.0       1.0    79940.0       79940.0\n",
      "\n",
      "Tree with max depth of 15\n",
      "                 0       1  accuracy  macro avg  weighted avg\n",
      "precision      1.0     1.0       1.0        1.0           1.0\n",
      "recall         1.0     1.0       1.0        1.0           1.0\n",
      "f1-score       1.0     1.0       1.0        1.0           1.0\n",
      "support    74716.0  5224.0       1.0    79940.0       79940.0\n",
      "\n",
      "Tree with max depth of 16\n",
      "                 0       1  accuracy  macro avg  weighted avg\n",
      "precision      1.0     1.0       1.0        1.0           1.0\n",
      "recall         1.0     1.0       1.0        1.0           1.0\n",
      "f1-score       1.0     1.0       1.0        1.0           1.0\n",
      "support    74716.0  5224.0       1.0    79940.0       79940.0\n",
      "\n",
      "Tree with max depth of 17\n",
      "                 0       1  accuracy  macro avg  weighted avg\n",
      "precision      1.0     1.0       1.0        1.0           1.0\n",
      "recall         1.0     1.0       1.0        1.0           1.0\n",
      "f1-score       1.0     1.0       1.0        1.0           1.0\n",
      "support    74716.0  5224.0       1.0    79940.0       79940.0\n",
      "\n",
      "Tree with max depth of 18\n",
      "                 0       1  accuracy  macro avg  weighted avg\n",
      "precision      1.0     1.0       1.0        1.0           1.0\n",
      "recall         1.0     1.0       1.0        1.0           1.0\n",
      "f1-score       1.0     1.0       1.0        1.0           1.0\n",
      "support    74716.0  5224.0       1.0    79940.0       79940.0\n",
      "\n",
      "Tree with max depth of 19\n",
      "                 0       1  accuracy  macro avg  weighted avg\n",
      "precision      1.0     1.0       1.0        1.0           1.0\n",
      "recall         1.0     1.0       1.0        1.0           1.0\n",
      "f1-score       1.0     1.0       1.0        1.0           1.0\n",
      "support    74716.0  5224.0       1.0    79940.0       79940.0\n",
      "\n",
      "Tree with max depth of 20\n",
      "                 0       1  accuracy  macro avg  weighted avg\n",
      "precision      1.0     1.0       1.0        1.0           1.0\n",
      "recall         1.0     1.0       1.0        1.0           1.0\n",
      "f1-score       1.0     1.0       1.0        1.0           1.0\n",
      "support    74716.0  5224.0       1.0    79940.0       79940.0\n",
      "\n"
     ]
    }
   ],
   "source": [
    "# Let's get loopy\n",
    "for i in range(1, 21):\n",
    "    # Make the model\n",
    "    tree = DecisionTreeClassifier(max_depth=i, random_state=123)\n",
    "\n",
    "    # Fit the model (on train and only train)\n",
    "    tree = tree.fit(X_train, y_train)\n",
    "\n",
    "    # Use the model\n",
    "    # We'll evaluate the model's performance on train, first\n",
    "    y_predictions = tree.predict(X_train)\n",
    "\n",
    "    # Produce the classification report on the actual y values and this model's predicted y values\n",
    "    report = classification_report(y_train, y_predictions, output_dict=True)\n",
    "    print(f\"Tree with max depth of {i}\")\n",
    "    print(pd.DataFrame(report))\n",
    "    print()"
   ]
  },
  {
   "cell_type": "code",
   "execution_count": 65,
   "id": "ca3b3b49",
   "metadata": {},
   "outputs": [
    {
     "data": {
      "text/html": [
       "<div>\n",
       "<style scoped>\n",
       "    .dataframe tbody tr th:only-of-type {\n",
       "        vertical-align: middle;\n",
       "    }\n",
       "\n",
       "    .dataframe tbody tr th {\n",
       "        vertical-align: top;\n",
       "    }\n",
       "\n",
       "    .dataframe thead th {\n",
       "        text-align: right;\n",
       "    }\n",
       "</style>\n",
       "<table border=\"1\" class=\"dataframe\">\n",
       "  <thead>\n",
       "    <tr style=\"text-align: right;\">\n",
       "      <th></th>\n",
       "      <th>max_depth</th>\n",
       "      <th>train_accuracy</th>\n",
       "      <th>validate_accuracy</th>\n",
       "      <th>difference</th>\n",
       "    </tr>\n",
       "  </thead>\n",
       "  <tbody>\n",
       "    <tr>\n",
       "      <th>0</th>\n",
       "      <td>1</td>\n",
       "      <td>0.952527</td>\n",
       "      <td>0.953327</td>\n",
       "      <td>-0.000801</td>\n",
       "    </tr>\n",
       "    <tr>\n",
       "      <th>1</th>\n",
       "      <td>2</td>\n",
       "      <td>0.960170</td>\n",
       "      <td>0.960158</td>\n",
       "      <td>0.000013</td>\n",
       "    </tr>\n",
       "    <tr>\n",
       "      <th>2</th>\n",
       "      <td>3</td>\n",
       "      <td>0.963748</td>\n",
       "      <td>0.963310</td>\n",
       "      <td>0.000438</td>\n",
       "    </tr>\n",
       "    <tr>\n",
       "      <th>3</th>\n",
       "      <td>4</td>\n",
       "      <td>0.981111</td>\n",
       "      <td>0.981524</td>\n",
       "      <td>-0.000413</td>\n",
       "    </tr>\n",
       "    <tr>\n",
       "      <th>4</th>\n",
       "      <td>5</td>\n",
       "      <td>0.990731</td>\n",
       "      <td>0.990630</td>\n",
       "      <td>0.000100</td>\n",
       "    </tr>\n",
       "    <tr>\n",
       "      <th>5</th>\n",
       "      <td>6</td>\n",
       "      <td>0.997661</td>\n",
       "      <td>0.998044</td>\n",
       "      <td>-0.000384</td>\n",
       "    </tr>\n",
       "    <tr>\n",
       "      <th>6</th>\n",
       "      <td>7</td>\n",
       "      <td>0.999212</td>\n",
       "      <td>0.999241</td>\n",
       "      <td>-0.000029</td>\n",
       "    </tr>\n",
       "    <tr>\n",
       "      <th>7</th>\n",
       "      <td>8</td>\n",
       "      <td>0.999825</td>\n",
       "      <td>0.999825</td>\n",
       "      <td>0.000000</td>\n",
       "    </tr>\n",
       "    <tr>\n",
       "      <th>8</th>\n",
       "      <td>9</td>\n",
       "      <td>0.999975</td>\n",
       "      <td>0.999942</td>\n",
       "      <td>0.000033</td>\n",
       "    </tr>\n",
       "    <tr>\n",
       "      <th>9</th>\n",
       "      <td>10</td>\n",
       "      <td>0.999987</td>\n",
       "      <td>0.999942</td>\n",
       "      <td>0.000046</td>\n",
       "    </tr>\n",
       "    <tr>\n",
       "      <th>10</th>\n",
       "      <td>11</td>\n",
       "      <td>1.000000</td>\n",
       "      <td>0.999971</td>\n",
       "      <td>0.000029</td>\n",
       "    </tr>\n",
       "    <tr>\n",
       "      <th>11</th>\n",
       "      <td>12</td>\n",
       "      <td>1.000000</td>\n",
       "      <td>0.999971</td>\n",
       "      <td>0.000029</td>\n",
       "    </tr>\n",
       "    <tr>\n",
       "      <th>12</th>\n",
       "      <td>13</td>\n",
       "      <td>1.000000</td>\n",
       "      <td>0.999971</td>\n",
       "      <td>0.000029</td>\n",
       "    </tr>\n",
       "    <tr>\n",
       "      <th>13</th>\n",
       "      <td>14</td>\n",
       "      <td>1.000000</td>\n",
       "      <td>0.999971</td>\n",
       "      <td>0.000029</td>\n",
       "    </tr>\n",
       "    <tr>\n",
       "      <th>14</th>\n",
       "      <td>15</td>\n",
       "      <td>1.000000</td>\n",
       "      <td>0.999971</td>\n",
       "      <td>0.000029</td>\n",
       "    </tr>\n",
       "    <tr>\n",
       "      <th>15</th>\n",
       "      <td>16</td>\n",
       "      <td>1.000000</td>\n",
       "      <td>0.999971</td>\n",
       "      <td>0.000029</td>\n",
       "    </tr>\n",
       "    <tr>\n",
       "      <th>16</th>\n",
       "      <td>17</td>\n",
       "      <td>1.000000</td>\n",
       "      <td>0.999971</td>\n",
       "      <td>0.000029</td>\n",
       "    </tr>\n",
       "    <tr>\n",
       "      <th>17</th>\n",
       "      <td>18</td>\n",
       "      <td>1.000000</td>\n",
       "      <td>0.999971</td>\n",
       "      <td>0.000029</td>\n",
       "    </tr>\n",
       "    <tr>\n",
       "      <th>18</th>\n",
       "      <td>19</td>\n",
       "      <td>1.000000</td>\n",
       "      <td>0.999971</td>\n",
       "      <td>0.000029</td>\n",
       "    </tr>\n",
       "    <tr>\n",
       "      <th>19</th>\n",
       "      <td>20</td>\n",
       "      <td>1.000000</td>\n",
       "      <td>0.999971</td>\n",
       "      <td>0.000029</td>\n",
       "    </tr>\n",
       "    <tr>\n",
       "      <th>20</th>\n",
       "      <td>21</td>\n",
       "      <td>1.000000</td>\n",
       "      <td>0.999971</td>\n",
       "      <td>0.000029</td>\n",
       "    </tr>\n",
       "    <tr>\n",
       "      <th>21</th>\n",
       "      <td>22</td>\n",
       "      <td>1.000000</td>\n",
       "      <td>0.999971</td>\n",
       "      <td>0.000029</td>\n",
       "    </tr>\n",
       "    <tr>\n",
       "      <th>22</th>\n",
       "      <td>23</td>\n",
       "      <td>1.000000</td>\n",
       "      <td>0.999971</td>\n",
       "      <td>0.000029</td>\n",
       "    </tr>\n",
       "    <tr>\n",
       "      <th>23</th>\n",
       "      <td>24</td>\n",
       "      <td>1.000000</td>\n",
       "      <td>0.999971</td>\n",
       "      <td>0.000029</td>\n",
       "    </tr>\n",
       "  </tbody>\n",
       "</table>\n",
       "</div>"
      ],
      "text/plain": [
       "    max_depth  train_accuracy  validate_accuracy  difference\n",
       "0           1        0.952527           0.953327   -0.000801\n",
       "1           2        0.960170           0.960158    0.000013\n",
       "2           3        0.963748           0.963310    0.000438\n",
       "3           4        0.981111           0.981524   -0.000413\n",
       "4           5        0.990731           0.990630    0.000100\n",
       "5           6        0.997661           0.998044   -0.000384\n",
       "6           7        0.999212           0.999241   -0.000029\n",
       "7           8        0.999825           0.999825    0.000000\n",
       "8           9        0.999975           0.999942    0.000033\n",
       "9          10        0.999987           0.999942    0.000046\n",
       "10         11        1.000000           0.999971    0.000029\n",
       "11         12        1.000000           0.999971    0.000029\n",
       "12         13        1.000000           0.999971    0.000029\n",
       "13         14        1.000000           0.999971    0.000029\n",
       "14         15        1.000000           0.999971    0.000029\n",
       "15         16        1.000000           0.999971    0.000029\n",
       "16         17        1.000000           0.999971    0.000029\n",
       "17         18        1.000000           0.999971    0.000029\n",
       "18         19        1.000000           0.999971    0.000029\n",
       "19         20        1.000000           0.999971    0.000029\n",
       "20         21        1.000000           0.999971    0.000029\n",
       "21         22        1.000000           0.999971    0.000029\n",
       "22         23        1.000000           0.999971    0.000029\n",
       "23         24        1.000000           0.999971    0.000029"
      ]
     },
     "execution_count": 65,
     "metadata": {},
     "output_type": "execute_result"
    }
   ],
   "source": [
    "# Let's continue getting loopy, so we can compare in-sample to out-of-sample\n",
    "metrics = []\n",
    "\n",
    "for i in range(1, 25):\n",
    "    # Make the model\n",
    "    tree = DecisionTreeClassifier(max_depth=i, random_state=123)\n",
    "\n",
    "    # Fit the model (on train and only train)\n",
    "    tree = tree.fit(X_train, y_train)\n",
    "\n",
    "    # Use the model\n",
    "    # We'll evaluate the model's performance on train, first\n",
    "    in_sample_accuracy = tree.score(X_train, y_train)\n",
    "    \n",
    "    out_of_sample_accuracy = tree.score(X_validate, y_validate)\n",
    "\n",
    "    output = {\n",
    "        \"max_depth\": i,\n",
    "        \"train_accuracy\": in_sample_accuracy,\n",
    "        \"validate_accuracy\": out_of_sample_accuracy\n",
    "    }\n",
    "    \n",
    "    metrics.append(output)\n",
    "    \n",
    "df = pd.DataFrame(metrics)\n",
    "df[\"difference\"] = df.train_accuracy - df.validate_accuracy\n",
    "df"
   ]
  },
  {
   "cell_type": "markdown",
   "id": "bbe9cc63",
   "metadata": {},
   "source": [
    "## Random forest"
   ]
  },
  {
   "cell_type": "code",
   "execution_count": null,
   "id": "27b7c5eb",
   "metadata": {},
   "outputs": [],
   "source": []
  },
  {
   "cell_type": "code",
   "execution_count": null,
   "id": "9fa0cf6f",
   "metadata": {},
   "outputs": [],
   "source": []
  },
  {
   "cell_type": "code",
   "execution_count": null,
   "id": "397866c8",
   "metadata": {},
   "outputs": [],
   "source": []
  }
 ],
 "metadata": {
  "kernelspec": {
   "display_name": "Python 3 (ipykernel)",
   "language": "python",
   "name": "python3"
  },
  "language_info": {
   "codemirror_mode": {
    "name": "ipython",
    "version": 3
   },
   "file_extension": ".py",
   "mimetype": "text/x-python",
   "name": "python",
   "nbconvert_exporter": "python",
   "pygments_lexer": "ipython3",
   "version": "3.9.12"
  }
 },
 "nbformat": 4,
 "nbformat_minor": 5
}
