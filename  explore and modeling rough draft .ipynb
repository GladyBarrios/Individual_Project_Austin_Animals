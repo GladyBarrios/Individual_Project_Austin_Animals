{
 "cells": [
  {
   "cell_type": "code",
   "execution_count": 8,
   "id": "0e91a522",
   "metadata": {},
   "outputs": [],
   "source": [
    "import warnings\n",
    "warnings.filterwarnings(\"ignore\")\n",
    "\n",
    "import numpy as np\n",
    "import pandas as pd\n",
    "import matplotlib.pyplot as plt\n",
    "import seaborn as sns\n",
    "from scipy import stats\n",
    "from sklearn.model_selection import train_test_split\n",
    "\n",
    "from prepare import train_validate_test_split\n",
    "import prepare"
   ]
  },
  {
   "cell_type": "code",
   "execution_count": 2,
   "id": "2bddaf96",
   "metadata": {},
   "outputs": [],
   "source": [
    "df = prepare.get_animal_data()"
   ]
  },
  {
   "cell_type": "code",
   "execution_count": 3,
   "id": "7f388cfe",
   "metadata": {},
   "outputs": [
    {
     "data": {
      "text/html": [
       "<div>\n",
       "<style scoped>\n",
       "    .dataframe tbody tr th:only-of-type {\n",
       "        vertical-align: middle;\n",
       "    }\n",
       "\n",
       "    .dataframe tbody tr th {\n",
       "        vertical-align: top;\n",
       "    }\n",
       "\n",
       "    .dataframe thead th {\n",
       "        text-align: right;\n",
       "    }\n",
       "</style>\n",
       "<table border=\"1\" class=\"dataframe\">\n",
       "  <thead>\n",
       "    <tr style=\"text-align: right;\">\n",
       "      <th></th>\n",
       "      <th>Name</th>\n",
       "      <th>DateTime</th>\n",
       "      <th>MonthYear</th>\n",
       "      <th>Date of Birth</th>\n",
       "      <th>Outcome Type</th>\n",
       "      <th>Outcome Subtype</th>\n",
       "      <th>Animal Type</th>\n",
       "      <th>Sex upon Outcome</th>\n",
       "      <th>Age upon Outcome</th>\n",
       "      <th>Breed</th>\n",
       "      <th>Color</th>\n",
       "    </tr>\n",
       "    <tr>\n",
       "      <th>Animal ID</th>\n",
       "      <th></th>\n",
       "      <th></th>\n",
       "      <th></th>\n",
       "      <th></th>\n",
       "      <th></th>\n",
       "      <th></th>\n",
       "      <th></th>\n",
       "      <th></th>\n",
       "      <th></th>\n",
       "      <th></th>\n",
       "      <th></th>\n",
       "    </tr>\n",
       "  </thead>\n",
       "  <tbody>\n",
       "    <tr>\n",
       "      <th>A794011</th>\n",
       "      <td>Chunk</td>\n",
       "      <td>05/08/2019 06:20:00 PM</td>\n",
       "      <td>May 2019</td>\n",
       "      <td>05/02/2017</td>\n",
       "      <td>Rto-Adopt</td>\n",
       "      <td>NaN</td>\n",
       "      <td>Cat</td>\n",
       "      <td>Neutered Male</td>\n",
       "      <td>2 years</td>\n",
       "      <td>Domestic Shorthair Mix</td>\n",
       "      <td>Brown Tabby/White</td>\n",
       "    </tr>\n",
       "    <tr>\n",
       "      <th>A776359</th>\n",
       "      <td>Gizmo</td>\n",
       "      <td>07/18/2018 04:02:00 PM</td>\n",
       "      <td>Jul 2018</td>\n",
       "      <td>07/12/2017</td>\n",
       "      <td>Adoption</td>\n",
       "      <td>NaN</td>\n",
       "      <td>Dog</td>\n",
       "      <td>Neutered Male</td>\n",
       "      <td>1 year</td>\n",
       "      <td>Chihuahua Shorthair Mix</td>\n",
       "      <td>White/Brown</td>\n",
       "    </tr>\n",
       "    <tr>\n",
       "      <th>A821648</th>\n",
       "      <td>NaN</td>\n",
       "      <td>08/16/2020 11:38:00 AM</td>\n",
       "      <td>Aug 2020</td>\n",
       "      <td>08/16/2019</td>\n",
       "      <td>Euthanasia</td>\n",
       "      <td>NaN</td>\n",
       "      <td>Other</td>\n",
       "      <td>Unknown</td>\n",
       "      <td>1 year</td>\n",
       "      <td>Raccoon</td>\n",
       "      <td>Gray</td>\n",
       "    </tr>\n",
       "    <tr>\n",
       "      <th>A720371</th>\n",
       "      <td>Moose</td>\n",
       "      <td>02/13/2016 05:59:00 PM</td>\n",
       "      <td>Feb 2016</td>\n",
       "      <td>10/08/2015</td>\n",
       "      <td>Adoption</td>\n",
       "      <td>NaN</td>\n",
       "      <td>Dog</td>\n",
       "      <td>Neutered Male</td>\n",
       "      <td>4 months</td>\n",
       "      <td>Anatol Shepherd/Labrador Retriever</td>\n",
       "      <td>Buff</td>\n",
       "    </tr>\n",
       "    <tr>\n",
       "      <th>A674754</th>\n",
       "      <td>NaN</td>\n",
       "      <td>03/18/2014 11:47:00 AM</td>\n",
       "      <td>Mar 2014</td>\n",
       "      <td>03/12/2014</td>\n",
       "      <td>Transfer</td>\n",
       "      <td>Partner</td>\n",
       "      <td>Cat</td>\n",
       "      <td>Intact Male</td>\n",
       "      <td>6 days</td>\n",
       "      <td>Domestic Shorthair Mix</td>\n",
       "      <td>Orange Tabby</td>\n",
       "    </tr>\n",
       "  </tbody>\n",
       "</table>\n",
       "</div>"
      ],
      "text/plain": [
       "            Name                DateTime MonthYear Date of Birth Outcome Type  \\\n",
       "Animal ID                                                                       \n",
       "A794011    Chunk  05/08/2019 06:20:00 PM  May 2019    05/02/2017    Rto-Adopt   \n",
       "A776359    Gizmo  07/18/2018 04:02:00 PM  Jul 2018    07/12/2017     Adoption   \n",
       "A821648      NaN  08/16/2020 11:38:00 AM  Aug 2020    08/16/2019   Euthanasia   \n",
       "A720371    Moose  02/13/2016 05:59:00 PM  Feb 2016    10/08/2015     Adoption   \n",
       "A674754      NaN  03/18/2014 11:47:00 AM  Mar 2014    03/12/2014     Transfer   \n",
       "\n",
       "          Outcome Subtype Animal Type Sex upon Outcome Age upon Outcome  \\\n",
       "Animal ID                                                                 \n",
       "A794011               NaN         Cat    Neutered Male          2 years   \n",
       "A776359               NaN         Dog    Neutered Male           1 year   \n",
       "A821648               NaN       Other          Unknown           1 year   \n",
       "A720371               NaN         Dog    Neutered Male         4 months   \n",
       "A674754           Partner         Cat      Intact Male           6 days   \n",
       "\n",
       "                                        Breed              Color  \n",
       "Animal ID                                                         \n",
       "A794011                Domestic Shorthair Mix  Brown Tabby/White  \n",
       "A776359               Chihuahua Shorthair Mix        White/Brown  \n",
       "A821648                               Raccoon               Gray  \n",
       "A720371    Anatol Shepherd/Labrador Retriever               Buff  \n",
       "A674754                Domestic Shorthair Mix       Orange Tabby  "
      ]
     },
     "execution_count": 3,
     "metadata": {},
     "output_type": "execute_result"
    }
   ],
   "source": [
    "df.head()"
   ]
  },
  {
   "cell_type": "code",
   "execution_count": 4,
   "id": "9aed777a",
   "metadata": {},
   "outputs": [],
   "source": [
    "df = prepare.prep_animal_data(df)"
   ]
  },
  {
   "cell_type": "code",
   "execution_count": 5,
   "id": "d86ddb58",
   "metadata": {},
   "outputs": [
    {
     "data": {
      "text/html": [
       "<div>\n",
       "<style scoped>\n",
       "    .dataframe tbody tr th:only-of-type {\n",
       "        vertical-align: middle;\n",
       "    }\n",
       "\n",
       "    .dataframe tbody tr th {\n",
       "        vertical-align: top;\n",
       "    }\n",
       "\n",
       "    .dataframe thead th {\n",
       "        text-align: right;\n",
       "    }\n",
       "</style>\n",
       "<table border=\"1\" class=\"dataframe\">\n",
       "  <thead>\n",
       "    <tr style=\"text-align: right;\">\n",
       "      <th></th>\n",
       "      <th>Name</th>\n",
       "      <th>DateTime</th>\n",
       "      <th>MonthYear</th>\n",
       "      <th>DOB</th>\n",
       "      <th>outcome</th>\n",
       "      <th>animal_type</th>\n",
       "      <th>sex</th>\n",
       "      <th>age</th>\n",
       "      <th>Breed</th>\n",
       "      <th>Color</th>\n",
       "      <th>...</th>\n",
       "      <th>animal_type_Bird</th>\n",
       "      <th>animal_type_Cat</th>\n",
       "      <th>animal_type_Dog</th>\n",
       "      <th>animal_type_Livestock</th>\n",
       "      <th>animal_type_Other</th>\n",
       "      <th>sex_Intact Female</th>\n",
       "      <th>sex_Intact Male</th>\n",
       "      <th>sex_Neutered Male</th>\n",
       "      <th>sex_Spayed Female</th>\n",
       "      <th>sex_Unknown</th>\n",
       "    </tr>\n",
       "    <tr>\n",
       "      <th>Animal ID</th>\n",
       "      <th></th>\n",
       "      <th></th>\n",
       "      <th></th>\n",
       "      <th></th>\n",
       "      <th></th>\n",
       "      <th></th>\n",
       "      <th></th>\n",
       "      <th></th>\n",
       "      <th></th>\n",
       "      <th></th>\n",
       "      <th></th>\n",
       "      <th></th>\n",
       "      <th></th>\n",
       "      <th></th>\n",
       "      <th></th>\n",
       "      <th></th>\n",
       "      <th></th>\n",
       "      <th></th>\n",
       "      <th></th>\n",
       "      <th></th>\n",
       "      <th></th>\n",
       "    </tr>\n",
       "  </thead>\n",
       "  <tbody>\n",
       "    <tr>\n",
       "      <th>A794011</th>\n",
       "      <td>Chunk</td>\n",
       "      <td>05/08/2019 06:20:00 PM</td>\n",
       "      <td>May 2019</td>\n",
       "      <td>2017-05-02</td>\n",
       "      <td>Rto-Adopt</td>\n",
       "      <td>Cat</td>\n",
       "      <td>Neutered Male</td>\n",
       "      <td>5</td>\n",
       "      <td>Domestic Shorthair Mix</td>\n",
       "      <td>Brown Tabby/White</td>\n",
       "      <td>...</td>\n",
       "      <td>0</td>\n",
       "      <td>1</td>\n",
       "      <td>0</td>\n",
       "      <td>0</td>\n",
       "      <td>0</td>\n",
       "      <td>0</td>\n",
       "      <td>0</td>\n",
       "      <td>1</td>\n",
       "      <td>0</td>\n",
       "      <td>0</td>\n",
       "    </tr>\n",
       "    <tr>\n",
       "      <th>A776359</th>\n",
       "      <td>Gizmo</td>\n",
       "      <td>07/18/2018 04:02:00 PM</td>\n",
       "      <td>Jul 2018</td>\n",
       "      <td>2017-07-12</td>\n",
       "      <td>Adoption</td>\n",
       "      <td>Dog</td>\n",
       "      <td>Neutered Male</td>\n",
       "      <td>5</td>\n",
       "      <td>Chihuahua Shorthair Mix</td>\n",
       "      <td>White/Brown</td>\n",
       "      <td>...</td>\n",
       "      <td>0</td>\n",
       "      <td>0</td>\n",
       "      <td>1</td>\n",
       "      <td>0</td>\n",
       "      <td>0</td>\n",
       "      <td>0</td>\n",
       "      <td>0</td>\n",
       "      <td>1</td>\n",
       "      <td>0</td>\n",
       "      <td>0</td>\n",
       "    </tr>\n",
       "    <tr>\n",
       "      <th>A821648</th>\n",
       "      <td>No_name</td>\n",
       "      <td>08/16/2020 11:38:00 AM</td>\n",
       "      <td>Aug 2020</td>\n",
       "      <td>2019-08-16</td>\n",
       "      <td>Euthanasia</td>\n",
       "      <td>Other</td>\n",
       "      <td>Unknown</td>\n",
       "      <td>3</td>\n",
       "      <td>Raccoon</td>\n",
       "      <td>Gray</td>\n",
       "      <td>...</td>\n",
       "      <td>0</td>\n",
       "      <td>0</td>\n",
       "      <td>0</td>\n",
       "      <td>0</td>\n",
       "      <td>1</td>\n",
       "      <td>0</td>\n",
       "      <td>0</td>\n",
       "      <td>0</td>\n",
       "      <td>0</td>\n",
       "      <td>1</td>\n",
       "    </tr>\n",
       "    <tr>\n",
       "      <th>A720371</th>\n",
       "      <td>Moose</td>\n",
       "      <td>02/13/2016 05:59:00 PM</td>\n",
       "      <td>Feb 2016</td>\n",
       "      <td>2015-10-08</td>\n",
       "      <td>Adoption</td>\n",
       "      <td>Dog</td>\n",
       "      <td>Neutered Male</td>\n",
       "      <td>7</td>\n",
       "      <td>Anatol Shepherd/Labrador Retriever</td>\n",
       "      <td>Buff</td>\n",
       "      <td>...</td>\n",
       "      <td>0</td>\n",
       "      <td>0</td>\n",
       "      <td>1</td>\n",
       "      <td>0</td>\n",
       "      <td>0</td>\n",
       "      <td>0</td>\n",
       "      <td>0</td>\n",
       "      <td>1</td>\n",
       "      <td>0</td>\n",
       "      <td>0</td>\n",
       "    </tr>\n",
       "    <tr>\n",
       "      <th>A674754</th>\n",
       "      <td>No_name</td>\n",
       "      <td>03/18/2014 11:47:00 AM</td>\n",
       "      <td>Mar 2014</td>\n",
       "      <td>2014-03-12</td>\n",
       "      <td>Transfer</td>\n",
       "      <td>Cat</td>\n",
       "      <td>Intact Male</td>\n",
       "      <td>8</td>\n",
       "      <td>Domestic Shorthair Mix</td>\n",
       "      <td>Orange Tabby</td>\n",
       "      <td>...</td>\n",
       "      <td>0</td>\n",
       "      <td>1</td>\n",
       "      <td>0</td>\n",
       "      <td>0</td>\n",
       "      <td>0</td>\n",
       "      <td>0</td>\n",
       "      <td>1</td>\n",
       "      <td>0</td>\n",
       "      <td>0</td>\n",
       "      <td>0</td>\n",
       "    </tr>\n",
       "  </tbody>\n",
       "</table>\n",
       "<p>5 rows × 33 columns</p>\n",
       "</div>"
      ],
      "text/plain": [
       "              Name                DateTime MonthYear        DOB     outcome  \\\n",
       "Animal ID                                                                     \n",
       "A794011      Chunk  05/08/2019 06:20:00 PM  May 2019 2017-05-02   Rto-Adopt   \n",
       "A776359      Gizmo  07/18/2018 04:02:00 PM  Jul 2018 2017-07-12    Adoption   \n",
       "A821648    No_name  08/16/2020 11:38:00 AM  Aug 2020 2019-08-16  Euthanasia   \n",
       "A720371      Moose  02/13/2016 05:59:00 PM  Feb 2016 2015-10-08    Adoption   \n",
       "A674754    No_name  03/18/2014 11:47:00 AM  Mar 2014 2014-03-12    Transfer   \n",
       "\n",
       "          animal_type            sex  age                               Breed  \\\n",
       "Animal ID                                                                       \n",
       "A794011           Cat  Neutered Male    5              Domestic Shorthair Mix   \n",
       "A776359           Dog  Neutered Male    5             Chihuahua Shorthair Mix   \n",
       "A821648         Other        Unknown    3                             Raccoon   \n",
       "A720371           Dog  Neutered Male    7  Anatol Shepherd/Labrador Retriever   \n",
       "A674754           Cat    Intact Male    8              Domestic Shorthair Mix   \n",
       "\n",
       "                       Color  ...  animal_type_Bird animal_type_Cat  \\\n",
       "Animal ID                     ...                                     \n",
       "A794011    Brown Tabby/White  ...                 0               1   \n",
       "A776359          White/Brown  ...                 0               0   \n",
       "A821648                 Gray  ...                 0               0   \n",
       "A720371                 Buff  ...                 0               0   \n",
       "A674754         Orange Tabby  ...                 0               1   \n",
       "\n",
       "           animal_type_Dog  animal_type_Livestock  animal_type_Other  \\\n",
       "Animal ID                                                              \n",
       "A794011                  0                      0                  0   \n",
       "A776359                  1                      0                  0   \n",
       "A821648                  0                      0                  1   \n",
       "A720371                  1                      0                  0   \n",
       "A674754                  0                      0                  0   \n",
       "\n",
       "           sex_Intact Female  sex_Intact Male  sex_Neutered Male  \\\n",
       "Animal ID                                                          \n",
       "A794011                    0                0                  1   \n",
       "A776359                    0                0                  1   \n",
       "A821648                    0                0                  0   \n",
       "A720371                    0                0                  1   \n",
       "A674754                    0                1                  0   \n",
       "\n",
       "           sex_Spayed Female  sex_Unknown  \n",
       "Animal ID                                  \n",
       "A794011                    0            0  \n",
       "A776359                    0            0  \n",
       "A821648                    0            1  \n",
       "A720371                    0            0  \n",
       "A674754                    0            0  \n",
       "\n",
       "[5 rows x 33 columns]"
      ]
     },
     "execution_count": 5,
     "metadata": {},
     "output_type": "execute_result"
    }
   ],
   "source": [
    "df.head()"
   ]
  },
  {
   "cell_type": "code",
   "execution_count": 6,
   "id": "53d27533",
   "metadata": {
    "scrolled": true
   },
   "outputs": [
    {
     "name": "stdout",
     "output_type": "stream",
     "text": [
      "<class 'pandas.core.frame.DataFrame'>\n",
      "Index: 142750 entries, A794011 to A857750\n",
      "Data columns (total 33 columns):\n",
      " #   Column                 Non-Null Count   Dtype         \n",
      "---  ------                 --------------   -----         \n",
      " 0   Name                   142750 non-null  object        \n",
      " 1   DateTime               142750 non-null  object        \n",
      " 2   MonthYear              142750 non-null  object        \n",
      " 3   DOB                    142750 non-null  datetime64[ns]\n",
      " 4   outcome                142750 non-null  object        \n",
      " 5   animal_type            142750 non-null  object        \n",
      " 6   sex                    142750 non-null  object        \n",
      " 7   age                    142750 non-null  int64         \n",
      " 8   Breed                  142750 non-null  object        \n",
      " 9   Color                  142750 non-null  object        \n",
      " 10  year                   142750 non-null  int64         \n",
      " 11  age_bin                140392 non-null  category      \n",
      " 12  Adoption               142750 non-null  uint8         \n",
      " 13  Died                   142750 non-null  uint8         \n",
      " 14  Disposal               142750 non-null  uint8         \n",
      " 15  Euthanasia             142750 non-null  uint8         \n",
      " 16  Lost                   142750 non-null  uint8         \n",
      " 17  Missing                142750 non-null  uint8         \n",
      " 18  Relocate               142750 non-null  uint8         \n",
      " 19  Return to Owner        142750 non-null  uint8         \n",
      " 20  Rto-Adopt              142750 non-null  uint8         \n",
      " 21  Stolen                 142750 non-null  uint8         \n",
      " 22  Transfer               142750 non-null  uint8         \n",
      " 23  animal_type_Bird       142750 non-null  uint8         \n",
      " 24  animal_type_Cat        142750 non-null  uint8         \n",
      " 25  animal_type_Dog        142750 non-null  uint8         \n",
      " 26  animal_type_Livestock  142750 non-null  uint8         \n",
      " 27  animal_type_Other      142750 non-null  uint8         \n",
      " 28  sex_Intact Female      142750 non-null  uint8         \n",
      " 29  sex_Intact Male        142750 non-null  uint8         \n",
      " 30  sex_Neutered Male      142750 non-null  uint8         \n",
      " 31  sex_Spayed Female      142750 non-null  uint8         \n",
      " 32  sex_Unknown            142750 non-null  uint8         \n",
      "dtypes: category(1), datetime64[ns](1), int64(2), object(8), uint8(21)\n",
      "memory usage: 16.1+ MB\n"
     ]
    }
   ],
   "source": [
    "df.info()"
   ]
  },
  {
   "cell_type": "code",
   "execution_count": null,
   "id": "63f6946c",
   "metadata": {},
   "outputs": [],
   "source": [
    "prepare.prep_animal_data(df)"
   ]
  },
  {
   "cell_type": "code",
   "execution_count": 9,
   "id": "b125cce3",
   "metadata": {},
   "outputs": [
    {
     "data": {
      "text/plain": [
       "((79940, 33), (34260, 33), (28550, 33))"
      ]
     },
     "execution_count": 9,
     "metadata": {},
     "output_type": "execute_result"
    }
   ],
   "source": [
    "train, validate, test = train_validate_test_split(df, target='Euthanasia')\n",
    "train.shape, validate.shape, test.shape"
   ]
  },
  {
   "cell_type": "markdown",
   "id": "1e990307",
   "metadata": {},
   "source": [
    "Initial questions \n",
    "\n",
    "- what sex of animals is more likely to get euthi\n",
    "\n",
    "- what animal type is more lkely to get euthi\n",
    "\n",
    "- Does the age of the animal determine the euthinization\n",
    "\n",
    "- what age are animals more likly to get adopted?\n",
    "\n",
    "- what Breed is more likly to get adopted "
   ]
  },
  {
   "cell_type": "markdown",
   "id": "62b5e5ce",
   "metadata": {},
   "source": [
    "## Question 1 what animal type of animals is more likely to get euthi"
   ]
  },
  {
   "cell_type": "code",
   "execution_count": 12,
   "id": "53a883ba",
   "metadata": {},
   "outputs": [
    {
     "data": {
      "text/plain": [
       "<seaborn.axisgrid.FacetGrid at 0x14f2d6100>"
      ]
     },
     "execution_count": 12,
     "metadata": {},
     "output_type": "execute_result"
    },
    {
     "data": {
      "text/plain": [
       "<Figure size 1080x720 with 0 Axes>"
      ]
     },
     "metadata": {},
     "output_type": "display_data"
    },
    {
     "data": {
      "image/png": "[encoded data removed]",
      "text/plain": [
       "<Figure size 423.75x360 with 1 Axes>"
      ]
     },
     "metadata": {
      "needs_background": "light"
     },
     "output_type": "display_data"
    }
   ],
   "source": [
    "plt.figure(figsize=(15,10))\n",
    "sns.catplot(x=\"animal_type\",hue = 'Euthanasia', data=train, kind='count')"
   ]
  },
  {
   "cell_type": "markdown",
   "id": "d573996e",
   "metadata": {},
   "source": [
    "## Question 1.2 what animal type of animals is more likely to get adopted"
   ]
  },
  {
   "cell_type": "code",
   "execution_count": 14,
   "id": "7ac5f4ba",
   "metadata": {
    "scrolled": true
   },
   "outputs": [
    {
     "data": {
      "text/plain": [
       "<seaborn.axisgrid.FacetGrid at 0x14f147550>"
      ]
     },
     "execution_count": 14,
     "metadata": {},
     "output_type": "execute_result"
    },
    {
     "data": {
      "image/png": "[encoded data removed]",
      "text/plain": [
       "<Figure size 360x360 with 1 Axes>"
      ]
     },
     "metadata": {
      "needs_background": "light"
     },
     "output_type": "display_data"
    }
   ],
   "source": [
    "sns.catplot(x=\"animal_type\", data=train, kind='count')"
   ]
  },
  {
   "cell_type": "code",
   "execution_count": 15,
   "id": "41446794",
   "metadata": {},
   "outputs": [
    {
     "data": {
      "text/plain": [
       "Dog          80072\n",
       "Cat          54430\n",
       "Other         7542\n",
       "Bird           680\n",
       "Livestock       26\n",
       "Name: animal_type, dtype: int64"
      ]
     },
     "execution_count": 15,
     "metadata": {},
     "output_type": "execute_result"
    }
   ],
   "source": [
    "df.animal_type.value_counts()"
   ]
  },
  {
   "cell_type": "code",
   "execution_count": 13,
   "id": "d3d6f95f",
   "metadata": {},
   "outputs": [
    {
     "data": {
      "text/plain": [
       "<seaborn.axisgrid.FacetGrid at 0x14eff1160>"
      ]
     },
     "execution_count": 13,
     "metadata": {},
     "output_type": "execute_result"
    },
    {
     "data": {
      "image/png": "[encoded data removed]",
      "text/plain": [
       "<Figure size 412.5x360 with 1 Axes>"
      ]
     },
     "metadata": {
      "needs_background": "light"
     },
     "output_type": "display_data"
    }
   ],
   "source": [
    "sns.catplot(x=\"animal_type\",hue = 'Adoption', data=train, kind='count')"
   ]
  },
  {
   "cell_type": "code",
   "execution_count": null,
   "id": "e7f8176b",
   "metadata": {},
   "outputs": [],
   "source": []
  },
  {
   "cell_type": "code",
   "execution_count": null,
   "id": "0ec608c3",
   "metadata": {},
   "outputs": [],
   "source": []
  },
  {
   "cell_type": "code",
   "execution_count": null,
   "id": "158bdcea",
   "metadata": {},
   "outputs": [],
   "source": []
  },
  {
   "cell_type": "code",
   "execution_count": null,
   "id": "5a254800",
   "metadata": {},
   "outputs": [],
   "source": []
  },
  {
   "cell_type": "code",
   "execution_count": null,
   "id": "9be13c23",
   "metadata": {},
   "outputs": [],
   "source": []
  },
  {
   "cell_type": "code",
   "execution_count": null,
   "id": "faafe5b4",
   "metadata": {},
   "outputs": [],
   "source": []
  }
 ],
 "metadata": {
  "kernelspec": {
   "display_name": "Python 3 (ipykernel)",
   "language": "python",
   "name": "python3"
  },
  "language_info": {
   "codemirror_mode": {
    "name": "ipython",
    "version": 3
   },
   "file_extension": ".py",
   "mimetype": "text/x-python",
   "name": "python",
   "nbconvert_exporter": "python",
   "pygments_lexer": "ipython3",
   "version": "3.9.12"
  }
 },
 "nbformat": 4,
 "nbformat_minor": 5
}
