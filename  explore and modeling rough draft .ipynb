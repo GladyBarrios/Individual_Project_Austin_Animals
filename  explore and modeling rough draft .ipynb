{
 "cells": [
  {
   "cell_type": "code",
   "execution_count": 1,
   "id": "04dbd886",
   "metadata": {},
   "outputs": [],
   "source": [
    "import warnings\n",
    "warnings.filterwarnings(\"ignore\")\n",
    "\n",
    "import numpy as np\n",
    "import pandas as pd\n",
    "import matplotlib.pyplot as plt\n",
    "import seaborn as sns\n",
    "from scipy import stats\n",
    "from sklearn.model_selection import train_test_split\n",
    "\n",
    "from prepare import train_validate_test_split\n",
    "import prepare\n",
    "\n",
    "from sklearn.model_selection import train_test_split\n",
    "from sklearn.tree import DecisionTreeClassifier, plot_tree\n",
    "from sklearn.metrics import classification_report\n",
    "from sklearn.metrics import confusion_matrix\n",
    "from sklearn.metrics import classification_report, confusion_matrix, plot_confusion_matrix\n",
    "from sklearn.ensemble import RandomForestClassifier\n",
    "from sklearn.neighbors import KNeighborsClassifier\n",
    "from sklearn.linear_model import LogisticRegression\n",
    "from sklearn.feature_selection import SelectKBest, RFE, f_regression, SequentialFeatureSelector\n"
   ]
  },
  {
   "cell_type": "code",
   "execution_count": 2,
   "id": "c1867828",
   "metadata": {},
   "outputs": [],
   "source": [
    "df = prepare.get_animal_data()"
   ]
  },
  {
   "cell_type": "code",
   "execution_count": 3,
   "id": "d78c3df1",
   "metadata": {
    "scrolled": true
   },
   "outputs": [
    {
     "data": {
      "text/html": [
       "<div>\n",
       "<style scoped>\n",
       "    .dataframe tbody tr th:only-of-type {\n",
       "        vertical-align: middle;\n",
       "    }\n",
       "\n",
       "    .dataframe tbody tr th {\n",
       "        vertical-align: top;\n",
       "    }\n",
       "\n",
       "    .dataframe thead th {\n",
       "        text-align: right;\n",
       "    }\n",
       "</style>\n",
       "<table border=\"1\" class=\"dataframe\">\n",
       "  <thead>\n",
       "    <tr style=\"text-align: right;\">\n",
       "      <th></th>\n",
       "      <th>Name</th>\n",
       "      <th>DateTime</th>\n",
       "      <th>MonthYear</th>\n",
       "      <th>Date of Birth</th>\n",
       "      <th>Outcome Type</th>\n",
       "      <th>Outcome Subtype</th>\n",
       "      <th>Animal Type</th>\n",
       "      <th>Sex upon Outcome</th>\n",
       "      <th>Age upon Outcome</th>\n",
       "      <th>Breed</th>\n",
       "      <th>Color</th>\n",
       "    </tr>\n",
       "    <tr>\n",
       "      <th>Animal ID</th>\n",
       "      <th></th>\n",
       "      <th></th>\n",
       "      <th></th>\n",
       "      <th></th>\n",
       "      <th></th>\n",
       "      <th></th>\n",
       "      <th></th>\n",
       "      <th></th>\n",
       "      <th></th>\n",
       "      <th></th>\n",
       "      <th></th>\n",
       "    </tr>\n",
       "  </thead>\n",
       "  <tbody>\n",
       "    <tr>\n",
       "      <th>A794011</th>\n",
       "      <td>Chunk</td>\n",
       "      <td>05/08/2019 06:20:00 PM</td>\n",
       "      <td>May 2019</td>\n",
       "      <td>05/02/2017</td>\n",
       "      <td>Rto-Adopt</td>\n",
       "      <td>NaN</td>\n",
       "      <td>Cat</td>\n",
       "      <td>Neutered Male</td>\n",
       "      <td>2 years</td>\n",
       "      <td>Domestic Shorthair Mix</td>\n",
       "      <td>Brown Tabby/White</td>\n",
       "    </tr>\n",
       "    <tr>\n",
       "      <th>A776359</th>\n",
       "      <td>Gizmo</td>\n",
       "      <td>07/18/2018 04:02:00 PM</td>\n",
       "      <td>Jul 2018</td>\n",
       "      <td>07/12/2017</td>\n",
       "      <td>Adoption</td>\n",
       "      <td>NaN</td>\n",
       "      <td>Dog</td>\n",
       "      <td>Neutered Male</td>\n",
       "      <td>1 year</td>\n",
       "      <td>Chihuahua Shorthair Mix</td>\n",
       "      <td>White/Brown</td>\n",
       "    </tr>\n",
       "    <tr>\n",
       "      <th>A821648</th>\n",
       "      <td>NaN</td>\n",
       "      <td>08/16/2020 11:38:00 AM</td>\n",
       "      <td>Aug 2020</td>\n",
       "      <td>08/16/2019</td>\n",
       "      <td>Euthanasia</td>\n",
       "      <td>NaN</td>\n",
       "      <td>Other</td>\n",
       "      <td>Unknown</td>\n",
       "      <td>1 year</td>\n",
       "      <td>Raccoon</td>\n",
       "      <td>Gray</td>\n",
       "    </tr>\n",
       "    <tr>\n",
       "      <th>A720371</th>\n",
       "      <td>Moose</td>\n",
       "      <td>02/13/2016 05:59:00 PM</td>\n",
       "      <td>Feb 2016</td>\n",
       "      <td>10/08/2015</td>\n",
       "      <td>Adoption</td>\n",
       "      <td>NaN</td>\n",
       "      <td>Dog</td>\n",
       "      <td>Neutered Male</td>\n",
       "      <td>4 months</td>\n",
       "      <td>Anatol Shepherd/Labrador Retriever</td>\n",
       "      <td>Buff</td>\n",
       "    </tr>\n",
       "    <tr>\n",
       "      <th>A674754</th>\n",
       "      <td>NaN</td>\n",
       "      <td>03/18/2014 11:47:00 AM</td>\n",
       "      <td>Mar 2014</td>\n",
       "      <td>03/12/2014</td>\n",
       "      <td>Transfer</td>\n",
       "      <td>Partner</td>\n",
       "      <td>Cat</td>\n",
       "      <td>Intact Male</td>\n",
       "      <td>6 days</td>\n",
       "      <td>Domestic Shorthair Mix</td>\n",
       "      <td>Orange Tabby</td>\n",
       "    </tr>\n",
       "  </tbody>\n",
       "</table>\n",
       "</div>"
      ],
      "text/plain": [
       "            Name                DateTime MonthYear Date of Birth Outcome Type  \\\n",
       "Animal ID                                                                       \n",
       "A794011    Chunk  05/08/2019 06:20:00 PM  May 2019    05/02/2017    Rto-Adopt   \n",
       "A776359    Gizmo  07/18/2018 04:02:00 PM  Jul 2018    07/12/2017     Adoption   \n",
       "A821648      NaN  08/16/2020 11:38:00 AM  Aug 2020    08/16/2019   Euthanasia   \n",
       "A720371    Moose  02/13/2016 05:59:00 PM  Feb 2016    10/08/2015     Adoption   \n",
       "A674754      NaN  03/18/2014 11:47:00 AM  Mar 2014    03/12/2014     Transfer   \n",
       "\n",
       "          Outcome Subtype Animal Type Sex upon Outcome Age upon Outcome  \\\n",
       "Animal ID                                                                 \n",
       "A794011               NaN         Cat    Neutered Male          2 years   \n",
       "A776359               NaN         Dog    Neutered Male           1 year   \n",
       "A821648               NaN       Other          Unknown           1 year   \n",
       "A720371               NaN         Dog    Neutered Male         4 months   \n",
       "A674754           Partner         Cat      Intact Male           6 days   \n",
       "\n",
       "                                        Breed              Color  \n",
       "Animal ID                                                         \n",
       "A794011                Domestic Shorthair Mix  Brown Tabby/White  \n",
       "A776359               Chihuahua Shorthair Mix        White/Brown  \n",
       "A821648                               Raccoon               Gray  \n",
       "A720371    Anatol Shepherd/Labrador Retriever               Buff  \n",
       "A674754                Domestic Shorthair Mix       Orange Tabby  "
      ]
     },
     "execution_count": 3,
     "metadata": {},
     "output_type": "execute_result"
    }
   ],
   "source": [
    "df.head()"
   ]
  },
  {
   "cell_type": "code",
   "execution_count": null,
   "id": "bf3e87a8",
   "metadata": {},
   "outputs": [],
   "source": [
    "df.Color.value_counts()"
   ]
  },
  {
   "cell_type": "code",
   "execution_count": 4,
   "id": "c2ed3d93",
   "metadata": {},
   "outputs": [],
   "source": [
    "df = prepare.prep_animal_data(df)"
   ]
  },
  {
   "cell_type": "code",
   "execution_count": 5,
   "id": "b37b8c6d",
   "metadata": {},
   "outputs": [
    {
     "data": {
      "text/html": [
       "<div>\n",
       "<style scoped>\n",
       "    .dataframe tbody tr th:only-of-type {\n",
       "        vertical-align: middle;\n",
       "    }\n",
       "\n",
       "    .dataframe tbody tr th {\n",
       "        vertical-align: top;\n",
       "    }\n",
       "\n",
       "    .dataframe thead th {\n",
       "        text-align: right;\n",
       "    }\n",
       "</style>\n",
       "<table border=\"1\" class=\"dataframe\">\n",
       "  <thead>\n",
       "    <tr style=\"text-align: right;\">\n",
       "      <th></th>\n",
       "      <th>Name</th>\n",
       "      <th>DateTime</th>\n",
       "      <th>MonthYear</th>\n",
       "      <th>DOB</th>\n",
       "      <th>outcome</th>\n",
       "      <th>animal_type</th>\n",
       "      <th>sex</th>\n",
       "      <th>age_upon_outcome</th>\n",
       "      <th>Breed</th>\n",
       "      <th>Color</th>\n",
       "      <th>...</th>\n",
       "      <th>animal_type_Bird</th>\n",
       "      <th>animal_type_Cat</th>\n",
       "      <th>animal_type_Dog</th>\n",
       "      <th>animal_type_Livestock</th>\n",
       "      <th>animal_type_Other</th>\n",
       "      <th>sex_Intact Female</th>\n",
       "      <th>sex_Intact Male</th>\n",
       "      <th>sex_Neutered Male</th>\n",
       "      <th>sex_Spayed Female</th>\n",
       "      <th>sex_Unknown</th>\n",
       "    </tr>\n",
       "    <tr>\n",
       "      <th>Animal ID</th>\n",
       "      <th></th>\n",
       "      <th></th>\n",
       "      <th></th>\n",
       "      <th></th>\n",
       "      <th></th>\n",
       "      <th></th>\n",
       "      <th></th>\n",
       "      <th></th>\n",
       "      <th></th>\n",
       "      <th></th>\n",
       "      <th></th>\n",
       "      <th></th>\n",
       "      <th></th>\n",
       "      <th></th>\n",
       "      <th></th>\n",
       "      <th></th>\n",
       "      <th></th>\n",
       "      <th></th>\n",
       "      <th></th>\n",
       "      <th></th>\n",
       "      <th></th>\n",
       "    </tr>\n",
       "  </thead>\n",
       "  <tbody>\n",
       "    <tr>\n",
       "      <th>A794011</th>\n",
       "      <td>Chunk</td>\n",
       "      <td>2019-05-08 18:20:00</td>\n",
       "      <td>2019-05-01</td>\n",
       "      <td>2017-05-02</td>\n",
       "      <td>Rto-Adopt</td>\n",
       "      <td>Cat</td>\n",
       "      <td>Neutered Male</td>\n",
       "      <td>2 years</td>\n",
       "      <td>Domestic Shorthair Mix</td>\n",
       "      <td>Brown Tabby/White</td>\n",
       "      <td>...</td>\n",
       "      <td>0</td>\n",
       "      <td>1</td>\n",
       "      <td>0</td>\n",
       "      <td>0</td>\n",
       "      <td>0</td>\n",
       "      <td>0</td>\n",
       "      <td>0</td>\n",
       "      <td>1</td>\n",
       "      <td>0</td>\n",
       "      <td>0</td>\n",
       "    </tr>\n",
       "    <tr>\n",
       "      <th>A776359</th>\n",
       "      <td>Gizmo</td>\n",
       "      <td>2018-07-18 16:02:00</td>\n",
       "      <td>2018-07-01</td>\n",
       "      <td>2017-07-12</td>\n",
       "      <td>Adoption</td>\n",
       "      <td>Dog</td>\n",
       "      <td>Neutered Male</td>\n",
       "      <td>1 year</td>\n",
       "      <td>Chihuahua Shorthair Mix</td>\n",
       "      <td>White/Brown</td>\n",
       "      <td>...</td>\n",
       "      <td>0</td>\n",
       "      <td>0</td>\n",
       "      <td>1</td>\n",
       "      <td>0</td>\n",
       "      <td>0</td>\n",
       "      <td>0</td>\n",
       "      <td>0</td>\n",
       "      <td>1</td>\n",
       "      <td>0</td>\n",
       "      <td>0</td>\n",
       "    </tr>\n",
       "    <tr>\n",
       "      <th>A821648</th>\n",
       "      <td>No_name</td>\n",
       "      <td>2020-08-16 11:38:00</td>\n",
       "      <td>2020-08-01</td>\n",
       "      <td>2019-08-16</td>\n",
       "      <td>Euthanasia</td>\n",
       "      <td>Other</td>\n",
       "      <td>Unknown</td>\n",
       "      <td>1 year</td>\n",
       "      <td>Raccoon</td>\n",
       "      <td>Gray</td>\n",
       "      <td>...</td>\n",
       "      <td>0</td>\n",
       "      <td>0</td>\n",
       "      <td>0</td>\n",
       "      <td>0</td>\n",
       "      <td>1</td>\n",
       "      <td>0</td>\n",
       "      <td>0</td>\n",
       "      <td>0</td>\n",
       "      <td>0</td>\n",
       "      <td>1</td>\n",
       "    </tr>\n",
       "    <tr>\n",
       "      <th>A720371</th>\n",
       "      <td>Moose</td>\n",
       "      <td>2016-02-13 17:59:00</td>\n",
       "      <td>2016-02-01</td>\n",
       "      <td>2015-10-08</td>\n",
       "      <td>Adoption</td>\n",
       "      <td>Dog</td>\n",
       "      <td>Neutered Male</td>\n",
       "      <td>4 months</td>\n",
       "      <td>Anatol Shepherd/Labrador Retriever</td>\n",
       "      <td>Buff</td>\n",
       "      <td>...</td>\n",
       "      <td>0</td>\n",
       "      <td>0</td>\n",
       "      <td>1</td>\n",
       "      <td>0</td>\n",
       "      <td>0</td>\n",
       "      <td>0</td>\n",
       "      <td>0</td>\n",
       "      <td>1</td>\n",
       "      <td>0</td>\n",
       "      <td>0</td>\n",
       "    </tr>\n",
       "    <tr>\n",
       "      <th>A674754</th>\n",
       "      <td>No_name</td>\n",
       "      <td>2014-03-18 11:47:00</td>\n",
       "      <td>2014-03-01</td>\n",
       "      <td>2014-03-12</td>\n",
       "      <td>Transfer</td>\n",
       "      <td>Cat</td>\n",
       "      <td>Intact Male</td>\n",
       "      <td>6 days</td>\n",
       "      <td>Domestic Shorthair Mix</td>\n",
       "      <td>Orange Tabby</td>\n",
       "      <td>...</td>\n",
       "      <td>0</td>\n",
       "      <td>1</td>\n",
       "      <td>0</td>\n",
       "      <td>0</td>\n",
       "      <td>0</td>\n",
       "      <td>0</td>\n",
       "      <td>1</td>\n",
       "      <td>0</td>\n",
       "      <td>0</td>\n",
       "      <td>0</td>\n",
       "    </tr>\n",
       "  </tbody>\n",
       "</table>\n",
       "<p>5 rows × 38 columns</p>\n",
       "</div>"
      ],
      "text/plain": [
       "              Name            DateTime  MonthYear        DOB     outcome  \\\n",
       "Animal ID                                                                  \n",
       "A794011      Chunk 2019-05-08 18:20:00 2019-05-01 2017-05-02   Rto-Adopt   \n",
       "A776359      Gizmo 2018-07-18 16:02:00 2018-07-01 2017-07-12    Adoption   \n",
       "A821648    No_name 2020-08-16 11:38:00 2020-08-01 2019-08-16  Euthanasia   \n",
       "A720371      Moose 2016-02-13 17:59:00 2016-02-01 2015-10-08    Adoption   \n",
       "A674754    No_name 2014-03-18 11:47:00 2014-03-01 2014-03-12    Transfer   \n",
       "\n",
       "          animal_type            sex age_upon_outcome  \\\n",
       "Animal ID                                               \n",
       "A794011           Cat  Neutered Male          2 years   \n",
       "A776359           Dog  Neutered Male           1 year   \n",
       "A821648         Other        Unknown           1 year   \n",
       "A720371           Dog  Neutered Male         4 months   \n",
       "A674754           Cat    Intact Male           6 days   \n",
       "\n",
       "                                        Breed              Color  ...  \\\n",
       "Animal ID                                                         ...   \n",
       "A794011                Domestic Shorthair Mix  Brown Tabby/White  ...   \n",
       "A776359               Chihuahua Shorthair Mix        White/Brown  ...   \n",
       "A821648                               Raccoon               Gray  ...   \n",
       "A720371    Anatol Shepherd/Labrador Retriever               Buff  ...   \n",
       "A674754                Domestic Shorthair Mix       Orange Tabby  ...   \n",
       "\n",
       "           animal_type_Bird  animal_type_Cat animal_type_Dog  \\\n",
       "Animal ID                                                      \n",
       "A794011                   0                1               0   \n",
       "A776359                   0                0               1   \n",
       "A821648                   0                0               0   \n",
       "A720371                   0                0               1   \n",
       "A674754                   0                1               0   \n",
       "\n",
       "           animal_type_Livestock  animal_type_Other sex_Intact Female  \\\n",
       "Animal ID                                                               \n",
       "A794011                        0                  0                 0   \n",
       "A776359                        0                  0                 0   \n",
       "A821648                        0                  1                 0   \n",
       "A720371                        0                  0                 0   \n",
       "A674754                        0                  0                 0   \n",
       "\n",
       "           sex_Intact Male  sex_Neutered Male  sex_Spayed Female  sex_Unknown  \n",
       "Animal ID                                                                      \n",
       "A794011                  0                  1                  0            0  \n",
       "A776359                  0                  1                  0            0  \n",
       "A821648                  0                  0                  0            1  \n",
       "A720371                  0                  1                  0            0  \n",
       "A674754                  1                  0                  0            0  \n",
       "\n",
       "[5 rows x 38 columns]"
      ]
     },
     "execution_count": 5,
     "metadata": {},
     "output_type": "execute_result"
    }
   ],
   "source": [
    "df.head()"
   ]
  },
  {
   "cell_type": "code",
   "execution_count": 6,
   "id": "372d8744",
   "metadata": {
    "scrolled": true
   },
   "outputs": [
    {
     "name": "stdout",
     "output_type": "stream",
     "text": [
      "<class 'pandas.core.frame.DataFrame'>\n",
      "Index: 142750 entries, A794011 to A857750\n",
      "Data columns (total 38 columns):\n",
      " #   Column                 Non-Null Count   Dtype          \n",
      "---  ------                 --------------   -----          \n",
      " 0   Name                   142750 non-null  object         \n",
      " 1   DateTime               142750 non-null  datetime64[ns] \n",
      " 2   MonthYear              142750 non-null  datetime64[ns] \n",
      " 3   DOB                    142750 non-null  datetime64[ns] \n",
      " 4   outcome                142750 non-null  object         \n",
      " 5   animal_type            142750 non-null  object         \n",
      " 6   sex                    142750 non-null  object         \n",
      " 7   age_upon_outcome       142750 non-null  object         \n",
      " 8   Breed                  142750 non-null  object         \n",
      " 9   Color                  142750 non-null  object         \n",
      " 10  year_born              142750 non-null  int64          \n",
      " 11  current_age            142750 non-null  int64          \n",
      " 12  age_bin                140392 non-null  category       \n",
      " 13  year_released          142750 non-null  int64          \n",
      " 14  age_out_years          142750 non-null  int64          \n",
      " 15  Age_upon_out           142750 non-null  timedelta64[ns]\n",
      " 16  days_old               142750 non-null  int64          \n",
      " 17  Adoption               142750 non-null  uint8          \n",
      " 18  Died                   142750 non-null  uint8          \n",
      " 19  Disposal               142750 non-null  uint8          \n",
      " 20  Euthanasia             142750 non-null  uint8          \n",
      " 21  Lost                   142750 non-null  uint8          \n",
      " 22  Missing                142750 non-null  uint8          \n",
      " 23  Relocate               142750 non-null  uint8          \n",
      " 24  Return to Owner        142750 non-null  uint8          \n",
      " 25  Rto-Adopt              142750 non-null  uint8          \n",
      " 26  Stolen                 142750 non-null  uint8          \n",
      " 27  Transfer               142750 non-null  uint8          \n",
      " 28  animal_type_Bird       142750 non-null  uint8          \n",
      " 29  animal_type_Cat        142750 non-null  uint8          \n",
      " 30  animal_type_Dog        142750 non-null  uint8          \n",
      " 31  animal_type_Livestock  142750 non-null  uint8          \n",
      " 32  animal_type_Other      142750 non-null  uint8          \n",
      " 33  sex_Intact Female      142750 non-null  uint8          \n",
      " 34  sex_Intact Male        142750 non-null  uint8          \n",
      " 35  sex_Neutered Male      142750 non-null  uint8          \n",
      " 36  sex_Spayed Female      142750 non-null  uint8          \n",
      " 37  sex_Unknown            142750 non-null  uint8          \n",
      "dtypes: category(1), datetime64[ns](3), int64(5), object(7), timedelta64[ns](1), uint8(21)\n",
      "memory usage: 21.5+ MB\n"
     ]
    }
   ],
   "source": [
    "df.info()"
   ]
  },
  {
   "cell_type": "code",
   "execution_count": 8,
   "id": "3d3f1813",
   "metadata": {},
   "outputs": [],
   "source": [
    "#prepare.prep_animal_data(df)"
   ]
  },
  {
   "cell_type": "code",
   "execution_count": 9,
   "id": "cfd3a64b",
   "metadata": {},
   "outputs": [
    {
     "data": {
      "text/plain": [
       "((79940, 38), (34260, 38), (28550, 38))"
      ]
     },
     "execution_count": 9,
     "metadata": {},
     "output_type": "execute_result"
    }
   ],
   "source": [
    "train, validate, test = train_validate_test_split(df, target='Euthanasia')\n",
    "train.shape, validate.shape, test.shape"
   ]
  },
  {
   "cell_type": "markdown",
   "id": "bb59a79d",
   "metadata": {},
   "source": [
    "Initial questions \n",
    "\n",
    "- what sex of animals is more likely to get euthi\n",
    "\n",
    "- what animal type is more lkely to get euthi\n",
    "\n",
    "- Does the age of the animal determine the euthinization\n",
    "\n",
    "- what age are animals more likly to get adopted?\n",
    "\n",
    "- what Breed is more likly to get adopted \n",
    "\n",
    "\n",
    "\n",
    "-  Some notes from the rubric :\n",
    "You should ask questions of the data using natural language that speaks to the business stakeholders in markdown cells, ideally a header prior to the visualization or statistical test, that you then explore. \n",
    "\n",
    "3+ Statistical tests are utilized correctly (correct variables, conclusions drawn, no assumptions violated, and proper conclusions reached)\n",
    "\n",
    "You may only call out a few of these features in the presentation, but having that there for reference is important in a report. A group of features may have the same reason why, and those can be mentioned together."
   ]
  },
  {
   "cell_type": "markdown",
   "id": "685c2ba3",
   "metadata": {},
   "source": [
    "## Question 1 what animal type of animals is more likely to get euthi"
   ]
  },
  {
   "cell_type": "code",
   "execution_count": 24,
   "id": "000d1d80",
   "metadata": {
    "scrolled": false
   },
   "outputs": [
    {
     "data": {
      "image/png": "[encoded data removed]",
      "text/plain": [
       "<Figure size 1080x720 with 1 Axes>"
      ]
     },
     "metadata": {
      "needs_background": "light"
     },
     "output_type": "display_data"
    }
   ],
   "source": [
    "plt.figure(figsize=(15,10))\n",
    "c = sns.countplot(train['animal_type'],hue=train['Euthanasia'])\n",
    "\n",
    "for p in c.patches:\n",
    "    c.annotate(p.get_height(), \n",
    "                (p.get_x() + p.get_width() / 2.0, \n",
    "                 p.get_height()), \n",
    "                 ha = 'center', \n",
    "                 va = 'center', \n",
    "                 xytext = (2, 10),\n",
    "                 textcoords = 'offset points')"
   ]
  },
  {
   "cell_type": "markdown",
   "id": "e4b342b2",
   "metadata": {},
   "source": [
    "$H_o$ : Animal_type and Euthanasia are independant\n",
    "\n",
    "$H_a$ : There is a relationship between the animal type and Euthinasia"
   ]
  },
  {
   "cell_type": "code",
   "execution_count": null,
   "id": "a66236e0",
   "metadata": {},
   "outputs": [],
   "source": [
    "# Chi sQARED TEST \n",
    "\n",
    "# Let's run a chi squared to compare proportions, to have more confidence\n",
    "alpha = 0.05\n",
    "# Setup a crosstab of observed churn and payment_type \n",
    "#This is the best statistical test becasue we are looking at two categorical variables \n",
    "observed = pd.crosstab(train.animal_type, train.Euthanasia)\n",
    "\n",
    "chi2, p, degf, expected = stats.chi2_contingency(observed)\n",
    "\n",
    "if p < alpha:\n",
    "    print(\"Reject the null hypothesis\")\n",
    "else:\n",
    "    print(\"Fail to reject the null\")\n",
    "   "
   ]
  },
  {
   "cell_type": "markdown",
   "id": "0e5aaccb",
   "metadata": {},
   "source": [
    "## Question 1.2 What animal type is more likely to get adopted?"
   ]
  },
  {
   "cell_type": "code",
   "execution_count": null,
   "id": "753d730b",
   "metadata": {},
   "outputs": [],
   "source": []
  },
  {
   "cell_type": "code",
   "execution_count": 25,
   "id": "ea18830e",
   "metadata": {
    "scrolled": false
   },
   "outputs": [
    {
     "data": {
      "text/plain": [
       "<seaborn.axisgrid.FacetGrid at 0x164f8bac0>"
      ]
     },
     "execution_count": 25,
     "metadata": {},
     "output_type": "execute_result"
    },
    {
     "data": {
      "image/png": "[encoded data removed]",
      "text/plain": [
       "<Figure size 360x360 with 1 Axes>"
      ]
     },
     "metadata": {
      "needs_background": "light"
     },
     "output_type": "display_data"
    }
   ],
   "source": [
    "sns.catplot(x=\"animal_type\", data=train, kind='count')"
   ]
  },
  {
   "cell_type": "code",
   "execution_count": 12,
   "id": "7ac1ae3e",
   "metadata": {},
   "outputs": [
    {
     "data": {
      "text/plain": [
       "Dog          80072\n",
       "Cat          54430\n",
       "Other         7542\n",
       "Bird           680\n",
       "Livestock       26\n",
       "Name: animal_type, dtype: int64"
      ]
     },
     "execution_count": 12,
     "metadata": {},
     "output_type": "execute_result"
    }
   ],
   "source": [
    "df.animal_type.value_counts()"
   ]
  },
  {
   "cell_type": "code",
   "execution_count": 13,
   "id": "9279d4a0",
   "metadata": {
    "scrolled": false
   },
   "outputs": [
    {
     "data": {
      "text/plain": [
       "<seaborn.axisgrid.FacetGrid at 0x1474a3dc0>"
      ]
     },
     "execution_count": 13,
     "metadata": {},
     "output_type": "execute_result"
    },
    {
     "data": {
      "image/png": "[encoded data removed]",
      "text/plain": [
       "<Figure size 412.5x360 with 1 Axes>"
      ]
     },
     "metadata": {
      "needs_background": "light"
     },
     "output_type": "display_data"
    }
   ],
   "source": [
    "sns.catplot(x=\"animal_type\",hue = 'Adoption', data=train, kind='count')"
   ]
  },
  {
   "cell_type": "code",
   "execution_count": 14,
   "id": "d187d4da",
   "metadata": {},
   "outputs": [
    {
     "data": {
      "text/plain": [
       "<seaborn.axisgrid.FacetGrid at 0x103928760>"
      ]
     },
     "execution_count": 14,
     "metadata": {},
     "output_type": "execute_result"
    },
    {
     "data": {
      "text/plain": [
       "<Figure size 864x648 with 0 Axes>"
      ]
     },
     "metadata": {},
     "output_type": "display_data"
    },
    {
     "data": {
      "image/png": "[encoded data removed]",
      "text/plain": [
       "<Figure size 477.75x360 with 1 Axes>"
      ]
     },
     "metadata": {
      "needs_background": "light"
     },
     "output_type": "display_data"
    }
   ],
   "source": [
    "plt.figure(figsize=(12,9))\n",
    "sns.catplot(x=\"animal_type\",hue = 'outcome', data=train, kind='count')"
   ]
  },
  {
   "cell_type": "markdown",
   "id": "ddf20e4b",
   "metadata": {},
   "source": [
    "## QUESTION 2 what sex of animals is more likely to get euthi"
   ]
  },
  {
   "cell_type": "code",
   "execution_count": 15,
   "id": "a5349e66",
   "metadata": {
    "scrolled": false
   },
   "outputs": [
    {
     "data": {
      "image/png": "[encoded data removed]",
      "text/plain": [
       "<Figure size 1080x720 with 1 Axes>"
      ]
     },
     "metadata": {
      "needs_background": "light"
     },
     "output_type": "display_data"
    }
   ],
   "source": [
    "plt.figure(figsize=(15,10))\n",
    "c = sns.countplot(train['sex'],hue=train['Euthanasia'])\n",
    "\n",
    "for p in c.patches:\n",
    "    c.annotate(p.get_height(), \n",
    "                (p.get_x() + p.get_width() / 2.0, \n",
    "                 p.get_height()), \n",
    "                 ha = 'center', \n",
    "                 va = 'center', \n",
    "                 xytext = (2, 10),\n",
    "                 textcoords = 'offset points')"
   ]
  },
  {
   "cell_type": "markdown",
   "id": "d94b0479",
   "metadata": {},
   "source": [
    "$H_o$ : Sex and Euthanasia are independant\n",
    "\n",
    "$H_a$ : There is a relationship between the animal sex and Euthinasia"
   ]
  },
  {
   "cell_type": "code",
   "execution_count": 16,
   "id": "47763806",
   "metadata": {},
   "outputs": [
    {
     "name": "stdout",
     "output_type": "stream",
     "text": [
      "Reject the null hypothesis\n"
     ]
    }
   ],
   "source": [
    "# Chi sQARED TEST \n",
    "\n",
    "# Let's run a chi squared to compare proportions, to have more confidence\n",
    "alpha = 0.05\n",
    "# Setup a crosstab of observed churn and payment_type \n",
    "#This is the best statistical test becasue we are looking at two categorical variables \n",
    "observed = pd.crosstab(train.sex, train.Euthanasia)\n",
    "\n",
    "chi2, p, degf, expected = stats.chi2_contingency(observed)\n",
    "\n",
    "if p < alpha:\n",
    "    print(\"Reject the null hypothesis\")\n",
    "else:\n",
    "    print(\"Fail to reject the null\")\n",
    "   "
   ]
  },
  {
   "cell_type": "markdown",
   "id": "4a6fe5b5",
   "metadata": {},
   "source": [
    "##  Question 3 -At what age are animals more likely to get euthanized ?"
   ]
  },
  {
   "cell_type": "code",
   "execution_count": 21,
   "id": "eed419d6",
   "metadata": {},
   "outputs": [],
   "source": [
    "#df.info()"
   ]
  },
  {
   "cell_type": "code",
   "execution_count": 26,
   "id": "764a0bfd",
   "metadata": {
    "scrolled": false
   },
   "outputs": [
    {
     "data": {
      "text/plain": [
       "<AxesSubplot:xlabel='age_out_years', ylabel='count'>"
      ]
     },
     "execution_count": 26,
     "metadata": {},
     "output_type": "execute_result"
    },
    {
     "data": {
      "image/png": "[encoded data removed]",
      "text/plain": [
       "<Figure size 864x648 with 1 Axes>"
      ]
     },
     "metadata": {
      "needs_background": "light"
     },
     "output_type": "display_data"
    }
   ],
   "source": [
    "plt.figure(figsize=(12,9))\n",
    "sns.countplot(x = train['age_out_years'] ,hue=train['Euthanasia'])"
   ]
  },
  {
   "cell_type": "markdown",
   "id": "7d20990a",
   "metadata": {},
   "source": [
    "$H_o$ : the ages of the animals who are euthanized are equal to the ages of the animals that are not euthanized \n",
    "\n",
    "$H_a$ : the ages of the animals who are euthanized are not equal to the ages of the animals that are not euthanized"
   ]
  },
  {
   "cell_type": "code",
   "execution_count": 27,
   "id": "bcb7a66d",
   "metadata": {},
   "outputs": [
    {
     "ename": "AttributeError",
     "evalue": "'DataFrame' object has no attribute 'age'",
     "output_type": "error",
     "traceback": [
      "\u001b[0;31m---------------------------------------------------------------------------\u001b[0m",
      "\u001b[0;31mAttributeError\u001b[0m                            Traceback (most recent call last)",
      "Input \u001b[0;32mIn [27]\u001b[0m, in \u001b[0;36m<cell line: 1>\u001b[0;34m()\u001b[0m\n\u001b[0;32m----> 1\u001b[0m Euthanasia_sample \u001b[38;5;241m=\u001b[39m \u001b[43mtrain\u001b[49m\u001b[43m[\u001b[49m\u001b[43mtrain\u001b[49m\u001b[38;5;241;43m.\u001b[39;49m\u001b[43mEuthanasia\u001b[49m\u001b[43m \u001b[49m\u001b[38;5;241;43m==\u001b[39;49m\u001b[43m \u001b[49m\u001b[38;5;241;43m1\u001b[39;49m\u001b[43m \u001b[49m\u001b[43m]\u001b[49m\u001b[38;5;241;43m.\u001b[39;49m\u001b[43mage\u001b[49m\n\u001b[1;32m      2\u001b[0m No_Euthanasia_sample \u001b[38;5;241m=\u001b[39m train[train\u001b[38;5;241m.\u001b[39mEuthanasia \u001b[38;5;241m==\u001b[39m \u001b[38;5;241m0\u001b[39m ]\u001b[38;5;241m.\u001b[39mage\n",
      "File \u001b[0;32m/opt/homebrew/anaconda3/lib/python3.9/site-packages/pandas/core/generic.py:5575\u001b[0m, in \u001b[0;36mNDFrame.__getattr__\u001b[0;34m(self, name)\u001b[0m\n\u001b[1;32m   5568\u001b[0m \u001b[38;5;28;01mif\u001b[39;00m (\n\u001b[1;32m   5569\u001b[0m     name \u001b[38;5;129;01mnot\u001b[39;00m \u001b[38;5;129;01min\u001b[39;00m \u001b[38;5;28mself\u001b[39m\u001b[38;5;241m.\u001b[39m_internal_names_set\n\u001b[1;32m   5570\u001b[0m     \u001b[38;5;129;01mand\u001b[39;00m name \u001b[38;5;129;01mnot\u001b[39;00m \u001b[38;5;129;01min\u001b[39;00m \u001b[38;5;28mself\u001b[39m\u001b[38;5;241m.\u001b[39m_metadata\n\u001b[1;32m   5571\u001b[0m     \u001b[38;5;129;01mand\u001b[39;00m name \u001b[38;5;129;01mnot\u001b[39;00m \u001b[38;5;129;01min\u001b[39;00m \u001b[38;5;28mself\u001b[39m\u001b[38;5;241m.\u001b[39m_accessors\n\u001b[1;32m   5572\u001b[0m     \u001b[38;5;129;01mand\u001b[39;00m \u001b[38;5;28mself\u001b[39m\u001b[38;5;241m.\u001b[39m_info_axis\u001b[38;5;241m.\u001b[39m_can_hold_identifiers_and_holds_name(name)\n\u001b[1;32m   5573\u001b[0m ):\n\u001b[1;32m   5574\u001b[0m     \u001b[38;5;28;01mreturn\u001b[39;00m \u001b[38;5;28mself\u001b[39m[name]\n\u001b[0;32m-> 5575\u001b[0m \u001b[38;5;28;01mreturn\u001b[39;00m \u001b[38;5;28;43mobject\u001b[39;49m\u001b[38;5;241;43m.\u001b[39;49m\u001b[38;5;21;43m__getattribute__\u001b[39;49m\u001b[43m(\u001b[49m\u001b[38;5;28;43mself\u001b[39;49m\u001b[43m,\u001b[49m\u001b[43m \u001b[49m\u001b[43mname\u001b[49m\u001b[43m)\u001b[49m\n",
      "\u001b[0;31mAttributeError\u001b[0m: 'DataFrame' object has no attribute 'age'"
     ]
    }
   ],
   "source": [
    "Euthanasia_sample = train[train.Euthanasia == 1 ].age\n",
    "No_Euthanasia_sample = train[train.Euthanasia == 0 ].age"
   ]
  },
  {
   "cell_type": "code",
   "execution_count": null,
   "id": "24c2e2a6",
   "metadata": {},
   "outputs": [],
   "source": [
    "alpha = 0.05\n",
    "#For this I did a T-statistical test becasue we are working with a categorical variable and a quatative variable \n",
    "\n",
    "t, p = stats.ttest_ind(Euthanasia_sample,No_Euthanasia_sample, equal_var=False)\n",
    "\n",
    "if p < alpha:\n",
    "    print(\"We reject the null hypothesis\")\n",
    "\n",
    "else:\n",
    "    print(\"We fail to reject the null hypothesis\")"
   ]
  },
  {
   "cell_type": "markdown",
   "id": "f2dbcecd",
   "metadata": {},
   "source": [
    "# question 4 - what are the diffrent outcomes for the diffrent animal types"
   ]
  },
  {
   "cell_type": "code",
   "execution_count": 29,
   "id": "46be1cdf",
   "metadata": {},
   "outputs": [
    {
     "data": {
      "text/plain": [
       "<AxesSubplot:xlabel='outcome', ylabel='count'>"
      ]
     },
     "execution_count": 29,
     "metadata": {},
     "output_type": "execute_result"
    },
    {
     "data": {
      "image/png": "[encoded data removed]",
      "text/plain": [
       "<Figure size 1008x720 with 1 Axes>"
      ]
     },
     "metadata": {
      "needs_background": "light"
     },
     "output_type": "display_data"
    }
   ],
   "source": [
    "plt.figure(figsize=(14,10))\n",
    "sns.countplot(x = train['outcome'] ,hue=train['animal_type'])"
   ]
  },
  {
   "cell_type": "markdown",
   "id": "e0c8dc4c",
   "metadata": {},
   "source": [
    "$H_o$ : animal type and outcome are independant\n",
    "\n",
    "$H_a$ : There is a relationship between the animal type and independntn"
   ]
  },
  {
   "cell_type": "code",
   "execution_count": null,
   "id": "c844e526",
   "metadata": {},
   "outputs": [],
   "source": [
    "# Chi sQARED TEST \n",
    "\n",
    "# Let's run a chi squared to compare proportions, to have more confidence\n",
    "alpha = 0.05\n",
    "# Setup a crosstab of observed churn and payment_type \n",
    "#This is the best statistical test becasue we are looking at two categorical variables \n",
    "observed = pd.crosstab(train.outcome, train.animal_type)\n",
    "\n",
    "chi2, p, degf, expected = stats.chi2_contingency(observed)\n",
    "\n",
    "if p < alpha:\n",
    "    print(\"Reject the null hypothesis\")\n",
    "else:\n",
    "    print(\"Fail to reject the null\")\n",
    "   "
   ]
  },
  {
   "cell_type": "code",
   "execution_count": null,
   "id": "8cdc5af3",
   "metadata": {},
   "outputs": [],
   "source": [
    "# Question 5"
   ]
  },
  {
   "cell_type": "markdown",
   "id": "f65244f3",
   "metadata": {},
   "source": [
    "$H_o$ : color and euthi are independant\n",
    "\n",
    "$H_a$ : There is a relationship between the color and euthi"
   ]
  },
  {
   "cell_type": "code",
   "execution_count": null,
   "id": "cee6549e",
   "metadata": {},
   "outputs": [],
   "source": [
    "# Chi sQARED TEST \n",
    "\n",
    "# Let's run a chi squared to compare proportions, to have more confidence\n",
    "alpha = 0.05\n",
    "# Setup a crosstab of observed churn and payment_type \n",
    "#This is the best statistical test becasue we are looking at two categorical variables \n",
    "observed = pd.crosstab(train.Color, train.Euthanasia)\n",
    "\n",
    "chi2, p, degf, expected = stats.chi2_contingency(observed)\n",
    "\n",
    "if p < alpha:\n",
    "    print(\"Reject the null hypothesis\")\n",
    "else:\n",
    "    print(\"Fail to reject the null\")\n",
    "   "
   ]
  },
  {
   "cell_type": "code",
   "execution_count": null,
   "id": "8ab31c75",
   "metadata": {},
   "outputs": [],
   "source": [
    "# Question 5 - Is there some sort of relationship between Breed and Euthinization "
   ]
  },
  {
   "cell_type": "code",
   "execution_count": null,
   "id": "4b72e25d",
   "metadata": {},
   "outputs": [],
   "source": [
    "$H_o$ : color and euthi are independant\n",
    "\n",
    "$H_a$ : There is a relationship between the color and euthi"
   ]
  },
  {
   "cell_type": "code",
   "execution_count": 30,
   "id": "6934d2f2",
   "metadata": {},
   "outputs": [
    {
     "name": "stdout",
     "output_type": "stream",
     "text": [
      "Reject the null hypothesis\n"
     ]
    }
   ],
   "source": [
    "# Chi sQARED TEST \n",
    "\n",
    "# Let's run a chi squared to compare proportions, to have more confidence\n",
    "alpha = 0.05\n",
    "# Setup a crosstab of observed churn and payment_type \n",
    "#This is the best statistical test becasue we are looking at two categorical variables \n",
    "observed = pd.crosstab(train.Breed, train.Euthanasia)\n",
    "\n",
    "chi2, p, degf, expected = stats.chi2_contingency(observed)\n",
    "\n",
    "if p < alpha:\n",
    "    print(\"Reject the null hypothesis\")\n",
    "else:\n",
    "    print(\"Fail to reject the null\")"
   ]
  },
  {
   "cell_type": "markdown",
   "id": "17c87778",
   "metadata": {},
   "source": [
    "# Modeling"
   ]
  },
  {
   "cell_type": "markdown",
   "id": "cf220fc4",
   "metadata": {},
   "source": [
    "feature engennering "
   ]
  },
  {
   "cell_type": "code",
   "execution_count": null,
   "id": "e11726a2",
   "metadata": {},
   "outputs": [],
   "source": [
    "# kbest = SelectKBest(f_regression, k=4)\n",
    "# kbest.fit(X_train, y_train)"
   ]
  },
  {
   "cell_type": "code",
   "execution_count": null,
   "id": "bfa297f6",
   "metadata": {},
   "outputs": [],
   "source": [
    "# kbest_results = pd.DataFrame(dict(p=kbest.pvalues_, f=kbest.scores_), index=X_train.columns)\n",
    "# kbest_results"
   ]
  },
  {
   "cell_type": "code",
   "execution_count": null,
   "id": "0e0f1af1",
   "metadata": {},
   "outputs": [],
   "source": [
    "# X_train.columns[kbest.get_support()]"
   ]
  },
  {
   "cell_type": "code",
   "execution_count": null,
   "id": "a28885db",
   "metadata": {},
   "outputs": [],
   "source": [
    "# X_train_transformed = pd.DataFrame(\n",
    "#     kbest.transform(X_train),\n",
    "#     index=X_train.index,\n",
    "#     columns=X_train.columns[kbest.get_support()]\n",
    "# )\n",
    "# X_train_transformed.head()"
   ]
  },
  {
   "cell_type": "markdown",
   "id": "b4e3b8f3",
   "metadata": {},
   "source": [
    "Notes from the rubrick \n",
    "\n",
    "\n",
    "- You clearly communicate how you evaluated and compared models. What metric(s) did you use and why? For example, in one case, you may decide to use precision over accuracy."
   ]
  },
  {
   "cell_type": "code",
   "execution_count": 34,
   "id": "b3165959",
   "metadata": {},
   "outputs": [
    {
     "data": {
      "text/html": [
       "<div>\n",
       "<style scoped>\n",
       "    .dataframe tbody tr th:only-of-type {\n",
       "        vertical-align: middle;\n",
       "    }\n",
       "\n",
       "    .dataframe tbody tr th {\n",
       "        vertical-align: top;\n",
       "    }\n",
       "\n",
       "    .dataframe thead th {\n",
       "        text-align: right;\n",
       "    }\n",
       "</style>\n",
       "<table border=\"1\" class=\"dataframe\">\n",
       "  <thead>\n",
       "    <tr style=\"text-align: right;\">\n",
       "      <th></th>\n",
       "      <th>Name</th>\n",
       "      <th>DateTime</th>\n",
       "      <th>MonthYear</th>\n",
       "      <th>DOB</th>\n",
       "      <th>outcome</th>\n",
       "      <th>animal_type</th>\n",
       "      <th>sex</th>\n",
       "      <th>age_upon_outcome</th>\n",
       "      <th>Breed</th>\n",
       "      <th>Color</th>\n",
       "      <th>year_born</th>\n",
       "      <th>current_age</th>\n",
       "      <th>age_bin</th>\n",
       "      <th>year_released</th>\n",
       "      <th>age_out_years</th>\n",
       "      <th>Age_upon_out</th>\n",
       "      <th>days_old</th>\n",
       "      <th>Adoption</th>\n",
       "      <th>Died</th>\n",
       "      <th>Disposal</th>\n",
       "      <th>Euthanasia</th>\n",
       "      <th>Lost</th>\n",
       "      <th>Missing</th>\n",
       "      <th>Relocate</th>\n",
       "      <th>Return to Owner</th>\n",
       "      <th>Rto-Adopt</th>\n",
       "      <th>Stolen</th>\n",
       "      <th>Transfer</th>\n",
       "      <th>animal_type_Bird</th>\n",
       "      <th>animal_type_Cat</th>\n",
       "      <th>animal_type_Dog</th>\n",
       "      <th>animal_type_Livestock</th>\n",
       "      <th>animal_type_Other</th>\n",
       "      <th>sex_Intact Female</th>\n",
       "      <th>sex_Intact Male</th>\n",
       "      <th>sex_Neutered Male</th>\n",
       "      <th>sex_Spayed Female</th>\n",
       "      <th>sex_Unknown</th>\n",
       "    </tr>\n",
       "    <tr>\n",
       "      <th>Animal ID</th>\n",
       "      <th></th>\n",
       "      <th></th>\n",
       "      <th></th>\n",
       "      <th></th>\n",
       "      <th></th>\n",
       "      <th></th>\n",
       "      <th></th>\n",
       "      <th></th>\n",
       "      <th></th>\n",
       "      <th></th>\n",
       "      <th></th>\n",
       "      <th></th>\n",
       "      <th></th>\n",
       "      <th></th>\n",
       "      <th></th>\n",
       "      <th></th>\n",
       "      <th></th>\n",
       "      <th></th>\n",
       "      <th></th>\n",
       "      <th></th>\n",
       "      <th></th>\n",
       "      <th></th>\n",
       "      <th></th>\n",
       "      <th></th>\n",
       "      <th></th>\n",
       "      <th></th>\n",
       "      <th></th>\n",
       "      <th></th>\n",
       "      <th></th>\n",
       "      <th></th>\n",
       "      <th></th>\n",
       "      <th></th>\n",
       "      <th></th>\n",
       "      <th></th>\n",
       "      <th></th>\n",
       "      <th></th>\n",
       "      <th></th>\n",
       "      <th></th>\n",
       "    </tr>\n",
       "  </thead>\n",
       "  <tbody>\n",
       "    <tr>\n",
       "      <th>A731965</th>\n",
       "      <td>*Elmer</td>\n",
       "      <td>2016-10-26 00:00:00</td>\n",
       "      <td>2016-10-01</td>\n",
       "      <td>2013-07-30</td>\n",
       "      <td>Adoption</td>\n",
       "      <td>Dog</td>\n",
       "      <td>Neutered Male</td>\n",
       "      <td>3 years</td>\n",
       "      <td>Pit Bull Mix</td>\n",
       "      <td>Blue/White</td>\n",
       "      <td>2013</td>\n",
       "      <td>9</td>\n",
       "      <td>over 5yrs</td>\n",
       "      <td>2016</td>\n",
       "      <td>3</td>\n",
       "      <td>1184 days 00:00:00</td>\n",
       "      <td>1184</td>\n",
       "      <td>1</td>\n",
       "      <td>0</td>\n",
       "      <td>0</td>\n",
       "      <td>0</td>\n",
       "      <td>0</td>\n",
       "      <td>0</td>\n",
       "      <td>0</td>\n",
       "      <td>0</td>\n",
       "      <td>0</td>\n",
       "      <td>0</td>\n",
       "      <td>0</td>\n",
       "      <td>0</td>\n",
       "      <td>0</td>\n",
       "      <td>1</td>\n",
       "      <td>0</td>\n",
       "      <td>0</td>\n",
       "      <td>0</td>\n",
       "      <td>0</td>\n",
       "      <td>1</td>\n",
       "      <td>0</td>\n",
       "      <td>0</td>\n",
       "    </tr>\n",
       "    <tr>\n",
       "      <th>A817802</th>\n",
       "      <td>No_name</td>\n",
       "      <td>2020-06-01 15:26:00</td>\n",
       "      <td>2020-06-01</td>\n",
       "      <td>2019-05-26</td>\n",
       "      <td>Transfer</td>\n",
       "      <td>Dog</td>\n",
       "      <td>Neutered Male</td>\n",
       "      <td>1 year</td>\n",
       "      <td>Dachshund/Chihuahua Shorthair</td>\n",
       "      <td>Black</td>\n",
       "      <td>2019</td>\n",
       "      <td>3</td>\n",
       "      <td>below 5yrs</td>\n",
       "      <td>2020</td>\n",
       "      <td>1</td>\n",
       "      <td>372 days 15:26:00</td>\n",
       "      <td>372</td>\n",
       "      <td>0</td>\n",
       "      <td>0</td>\n",
       "      <td>0</td>\n",
       "      <td>0</td>\n",
       "      <td>0</td>\n",
       "      <td>0</td>\n",
       "      <td>0</td>\n",
       "      <td>0</td>\n",
       "      <td>0</td>\n",
       "      <td>0</td>\n",
       "      <td>1</td>\n",
       "      <td>0</td>\n",
       "      <td>0</td>\n",
       "      <td>1</td>\n",
       "      <td>0</td>\n",
       "      <td>0</td>\n",
       "      <td>0</td>\n",
       "      <td>0</td>\n",
       "      <td>1</td>\n",
       "      <td>0</td>\n",
       "      <td>0</td>\n",
       "    </tr>\n",
       "    <tr>\n",
       "      <th>A811391</th>\n",
       "      <td>Holly</td>\n",
       "      <td>2020-01-03 13:08:00</td>\n",
       "      <td>2020-01-01</td>\n",
       "      <td>2011-01-03</td>\n",
       "      <td>Return to Owner</td>\n",
       "      <td>Dog</td>\n",
       "      <td>Intact Female</td>\n",
       "      <td>9 years</td>\n",
       "      <td>Boxer</td>\n",
       "      <td>White</td>\n",
       "      <td>2011</td>\n",
       "      <td>11</td>\n",
       "      <td>over 10yrs</td>\n",
       "      <td>2020</td>\n",
       "      <td>9</td>\n",
       "      <td>3287 days 13:08:00</td>\n",
       "      <td>3287</td>\n",
       "      <td>0</td>\n",
       "      <td>0</td>\n",
       "      <td>0</td>\n",
       "      <td>0</td>\n",
       "      <td>0</td>\n",
       "      <td>0</td>\n",
       "      <td>0</td>\n",
       "      <td>1</td>\n",
       "      <td>0</td>\n",
       "      <td>0</td>\n",
       "      <td>0</td>\n",
       "      <td>0</td>\n",
       "      <td>0</td>\n",
       "      <td>1</td>\n",
       "      <td>0</td>\n",
       "      <td>0</td>\n",
       "      <td>1</td>\n",
       "      <td>0</td>\n",
       "      <td>0</td>\n",
       "      <td>0</td>\n",
       "      <td>0</td>\n",
       "    </tr>\n",
       "    <tr>\n",
       "      <th>A692819</th>\n",
       "      <td>Spider</td>\n",
       "      <td>2016-03-22 12:56:00</td>\n",
       "      <td>2016-03-01</td>\n",
       "      <td>2012-11-26</td>\n",
       "      <td>Euthanasia</td>\n",
       "      <td>Dog</td>\n",
       "      <td>Neutered Male</td>\n",
       "      <td>3 years</td>\n",
       "      <td>American Staffordshire Terrier Mix</td>\n",
       "      <td>Black/White</td>\n",
       "      <td>2012</td>\n",
       "      <td>10</td>\n",
       "      <td>over 5yrs</td>\n",
       "      <td>2016</td>\n",
       "      <td>4</td>\n",
       "      <td>1212 days 12:56:00</td>\n",
       "      <td>1212</td>\n",
       "      <td>0</td>\n",
       "      <td>0</td>\n",
       "      <td>0</td>\n",
       "      <td>1</td>\n",
       "      <td>0</td>\n",
       "      <td>0</td>\n",
       "      <td>0</td>\n",
       "      <td>0</td>\n",
       "      <td>0</td>\n",
       "      <td>0</td>\n",
       "      <td>0</td>\n",
       "      <td>0</td>\n",
       "      <td>0</td>\n",
       "      <td>1</td>\n",
       "      <td>0</td>\n",
       "      <td>0</td>\n",
       "      <td>0</td>\n",
       "      <td>0</td>\n",
       "      <td>1</td>\n",
       "      <td>0</td>\n",
       "      <td>0</td>\n",
       "    </tr>\n",
       "    <tr>\n",
       "      <th>A704896</th>\n",
       "      <td>Drogo</td>\n",
       "      <td>2015-06-16 16:59:00</td>\n",
       "      <td>2015-06-01</td>\n",
       "      <td>2013-06-10</td>\n",
       "      <td>Adoption</td>\n",
       "      <td>Dog</td>\n",
       "      <td>Neutered Male</td>\n",
       "      <td>2 years</td>\n",
       "      <td>Chihuahua Shorthair Mix</td>\n",
       "      <td>Brown/White</td>\n",
       "      <td>2013</td>\n",
       "      <td>9</td>\n",
       "      <td>over 5yrs</td>\n",
       "      <td>2015</td>\n",
       "      <td>2</td>\n",
       "      <td>736 days 16:59:00</td>\n",
       "      <td>736</td>\n",
       "      <td>1</td>\n",
       "      <td>0</td>\n",
       "      <td>0</td>\n",
       "      <td>0</td>\n",
       "      <td>0</td>\n",
       "      <td>0</td>\n",
       "      <td>0</td>\n",
       "      <td>0</td>\n",
       "      <td>0</td>\n",
       "      <td>0</td>\n",
       "      <td>0</td>\n",
       "      <td>0</td>\n",
       "      <td>0</td>\n",
       "      <td>1</td>\n",
       "      <td>0</td>\n",
       "      <td>0</td>\n",
       "      <td>0</td>\n",
       "      <td>0</td>\n",
       "      <td>1</td>\n",
       "      <td>0</td>\n",
       "      <td>0</td>\n",
       "    </tr>\n",
       "  </tbody>\n",
       "</table>\n",
       "</div>"
      ],
      "text/plain": [
       "              Name            DateTime  MonthYear        DOB          outcome  \\\n",
       "Animal ID                                                                       \n",
       "A731965     *Elmer 2016-10-26 00:00:00 2016-10-01 2013-07-30         Adoption   \n",
       "A817802    No_name 2020-06-01 15:26:00 2020-06-01 2019-05-26         Transfer   \n",
       "A811391      Holly 2020-01-03 13:08:00 2020-01-01 2011-01-03  Return to Owner   \n",
       "A692819     Spider 2016-03-22 12:56:00 2016-03-01 2012-11-26       Euthanasia   \n",
       "A704896      Drogo 2015-06-16 16:59:00 2015-06-01 2013-06-10         Adoption   \n",
       "\n",
       "          animal_type            sex age_upon_outcome  \\\n",
       "Animal ID                                               \n",
       "A731965           Dog  Neutered Male          3 years   \n",
       "A817802           Dog  Neutered Male           1 year   \n",
       "A811391           Dog  Intact Female          9 years   \n",
       "A692819           Dog  Neutered Male          3 years   \n",
       "A704896           Dog  Neutered Male          2 years   \n",
       "\n",
       "                                        Breed        Color  year_born  \\\n",
       "Animal ID                                                               \n",
       "A731965                          Pit Bull Mix   Blue/White       2013   \n",
       "A817802         Dachshund/Chihuahua Shorthair        Black       2019   \n",
       "A811391                                 Boxer        White       2011   \n",
       "A692819    American Staffordshire Terrier Mix  Black/White       2012   \n",
       "A704896               Chihuahua Shorthair Mix  Brown/White       2013   \n",
       "\n",
       "           current_age     age_bin  year_released  age_out_years  \\\n",
       "Animal ID                                                          \n",
       "A731965              9   over 5yrs           2016              3   \n",
       "A817802              3  below 5yrs           2020              1   \n",
       "A811391             11  over 10yrs           2020              9   \n",
       "A692819             10   over 5yrs           2016              4   \n",
       "A704896              9   over 5yrs           2015              2   \n",
       "\n",
       "                Age_upon_out  days_old  Adoption  Died  Disposal  Euthanasia  \\\n",
       "Animal ID                                                                      \n",
       "A731965   1184 days 00:00:00      1184         1     0         0           0   \n",
       "A817802    372 days 15:26:00       372         0     0         0           0   \n",
       "A811391   3287 days 13:08:00      3287         0     0         0           0   \n",
       "A692819   1212 days 12:56:00      1212         0     0         0           1   \n",
       "A704896    736 days 16:59:00       736         1     0         0           0   \n",
       "\n",
       "           Lost  Missing  Relocate  Return to Owner  Rto-Adopt  Stolen  \\\n",
       "Animal ID                                                                \n",
       "A731965       0        0         0                0          0       0   \n",
       "A817802       0        0         0                0          0       0   \n",
       "A811391       0        0         0                1          0       0   \n",
       "A692819       0        0         0                0          0       0   \n",
       "A704896       0        0         0                0          0       0   \n",
       "\n",
       "           Transfer  animal_type_Bird  animal_type_Cat  animal_type_Dog  \\\n",
       "Animal ID                                                                 \n",
       "A731965           0                 0                0                1   \n",
       "A817802           1                 0                0                1   \n",
       "A811391           0                 0                0                1   \n",
       "A692819           0                 0                0                1   \n",
       "A704896           0                 0                0                1   \n",
       "\n",
       "           animal_type_Livestock  animal_type_Other  sex_Intact Female  \\\n",
       "Animal ID                                                                \n",
       "A731965                        0                  0                  0   \n",
       "A817802                        0                  0                  0   \n",
       "A811391                        0                  0                  1   \n",
       "A692819                        0                  0                  0   \n",
       "A704896                        0                  0                  0   \n",
       "\n",
       "           sex_Intact Male  sex_Neutered Male  sex_Spayed Female  sex_Unknown  \n",
       "Animal ID                                                                      \n",
       "A731965                  0                  1                  0            0  \n",
       "A817802                  0                  1                  0            0  \n",
       "A811391                  0                  0                  0            0  \n",
       "A692819                  0                  1                  0            0  \n",
       "A704896                  0                  1                  0            0  "
      ]
     },
     "execution_count": 34,
     "metadata": {},
     "output_type": "execute_result"
    }
   ],
   "source": [
    "pd.set_option('display.max_columns', None)\n",
    "train.head()"
   ]
  },
  {
   "cell_type": "code",
   "execution_count": 35,
   "id": "8c3905f3",
   "metadata": {},
   "outputs": [],
   "source": [
    "#df.info()"
   ]
  },
  {
   "cell_type": "markdown",
   "id": "5ef16033",
   "metadata": {},
   "source": [
    "## creating a baseline"
   ]
  },
  {
   "cell_type": "code",
   "execution_count": 68,
   "id": "56672762",
   "metadata": {},
   "outputs": [],
   "source": [
    "X_train = train.drop(columns=['Name','DateTime','MonthYear','age_upon_outcome','DOB', 'age_bin', 'outcome','animal_type','sex','Euthanasia', 'Adoption', 'Died', 'Disposal', 'Lost', 'Missing', 'Relocate', 'Return to Owner', 'Rto-Adopt','Stolen','Transfer','age_out_years','current_age','Age_upon_out','Breed','Color'])\n",
    "y_train = train[['Euthanasia']]\n",
    "\n",
    "X_validate = validate.drop(columns=['Name','DateTime','MonthYear','DOB', 'age_bin','outcome','animal_type','sex','Euthanasia', 'Adoption', 'Died', 'Disposal', 'Lost', 'Missing', 'Relocate', 'Return to Owner', 'Rto-Adopt','Stolen','Transfer','age_out_years','current_age','age_upon_outcome','Age_upon_out','Breed','Color'])\n",
    "y_validate = validate[['Euthanasia']]\n",
    "\n",
    "X_test = test.drop(columns=['Name','DateTime','MonthYear','DOB', 'age_bin','outcome','animal_type','sex','Euthanasia', 'Adoption', 'Died', 'Disposal', 'Lost', 'Missing', 'Relocate', 'Return to Owner', 'Rto-Adopt','Stolen', 'Transfer','age_out_years','current_age','age_upon_outcome','Breed','Color','Age_upon_out'])\n",
    "y_test = test[['Euthanasia']]"
   ]
  },
  {
   "cell_type": "code",
   "execution_count": 69,
   "id": "dc3c3169",
   "metadata": {},
   "outputs": [
    {
     "data": {
      "text/html": [
       "<div>\n",
       "<style scoped>\n",
       "    .dataframe tbody tr th:only-of-type {\n",
       "        vertical-align: middle;\n",
       "    }\n",
       "\n",
       "    .dataframe tbody tr th {\n",
       "        vertical-align: top;\n",
       "    }\n",
       "\n",
       "    .dataframe thead th {\n",
       "        text-align: right;\n",
       "    }\n",
       "</style>\n",
       "<table border=\"1\" class=\"dataframe\">\n",
       "  <thead>\n",
       "    <tr style=\"text-align: right;\">\n",
       "      <th></th>\n",
       "      <th>year_born</th>\n",
       "      <th>year_released</th>\n",
       "      <th>days_old</th>\n",
       "      <th>animal_type_Bird</th>\n",
       "      <th>animal_type_Cat</th>\n",
       "      <th>animal_type_Dog</th>\n",
       "      <th>animal_type_Livestock</th>\n",
       "      <th>animal_type_Other</th>\n",
       "      <th>sex_Intact Female</th>\n",
       "      <th>sex_Intact Male</th>\n",
       "      <th>sex_Neutered Male</th>\n",
       "      <th>sex_Spayed Female</th>\n",
       "      <th>sex_Unknown</th>\n",
       "    </tr>\n",
       "    <tr>\n",
       "      <th>Animal ID</th>\n",
       "      <th></th>\n",
       "      <th></th>\n",
       "      <th></th>\n",
       "      <th></th>\n",
       "      <th></th>\n",
       "      <th></th>\n",
       "      <th></th>\n",
       "      <th></th>\n",
       "      <th></th>\n",
       "      <th></th>\n",
       "      <th></th>\n",
       "      <th></th>\n",
       "      <th></th>\n",
       "    </tr>\n",
       "  </thead>\n",
       "  <tbody>\n",
       "    <tr>\n",
       "      <th>A731965</th>\n",
       "      <td>2013</td>\n",
       "      <td>2016</td>\n",
       "      <td>1184</td>\n",
       "      <td>0</td>\n",
       "      <td>0</td>\n",
       "      <td>1</td>\n",
       "      <td>0</td>\n",
       "      <td>0</td>\n",
       "      <td>0</td>\n",
       "      <td>0</td>\n",
       "      <td>1</td>\n",
       "      <td>0</td>\n",
       "      <td>0</td>\n",
       "    </tr>\n",
       "    <tr>\n",
       "      <th>A817802</th>\n",
       "      <td>2019</td>\n",
       "      <td>2020</td>\n",
       "      <td>372</td>\n",
       "      <td>0</td>\n",
       "      <td>0</td>\n",
       "      <td>1</td>\n",
       "      <td>0</td>\n",
       "      <td>0</td>\n",
       "      <td>0</td>\n",
       "      <td>0</td>\n",
       "      <td>1</td>\n",
       "      <td>0</td>\n",
       "      <td>0</td>\n",
       "    </tr>\n",
       "    <tr>\n",
       "      <th>A811391</th>\n",
       "      <td>2011</td>\n",
       "      <td>2020</td>\n",
       "      <td>3287</td>\n",
       "      <td>0</td>\n",
       "      <td>0</td>\n",
       "      <td>1</td>\n",
       "      <td>0</td>\n",
       "      <td>0</td>\n",
       "      <td>1</td>\n",
       "      <td>0</td>\n",
       "      <td>0</td>\n",
       "      <td>0</td>\n",
       "      <td>0</td>\n",
       "    </tr>\n",
       "    <tr>\n",
       "      <th>A692819</th>\n",
       "      <td>2012</td>\n",
       "      <td>2016</td>\n",
       "      <td>1212</td>\n",
       "      <td>0</td>\n",
       "      <td>0</td>\n",
       "      <td>1</td>\n",
       "      <td>0</td>\n",
       "      <td>0</td>\n",
       "      <td>0</td>\n",
       "      <td>0</td>\n",
       "      <td>1</td>\n",
       "      <td>0</td>\n",
       "      <td>0</td>\n",
       "    </tr>\n",
       "    <tr>\n",
       "      <th>A704896</th>\n",
       "      <td>2013</td>\n",
       "      <td>2015</td>\n",
       "      <td>736</td>\n",
       "      <td>0</td>\n",
       "      <td>0</td>\n",
       "      <td>1</td>\n",
       "      <td>0</td>\n",
       "      <td>0</td>\n",
       "      <td>0</td>\n",
       "      <td>0</td>\n",
       "      <td>1</td>\n",
       "      <td>0</td>\n",
       "      <td>0</td>\n",
       "    </tr>\n",
       "  </tbody>\n",
       "</table>\n",
       "</div>"
      ],
      "text/plain": [
       "           year_born  year_released  days_old  animal_type_Bird  \\\n",
       "Animal ID                                                         \n",
       "A731965         2013           2016      1184                 0   \n",
       "A817802         2019           2020       372                 0   \n",
       "A811391         2011           2020      3287                 0   \n",
       "A692819         2012           2016      1212                 0   \n",
       "A704896         2013           2015       736                 0   \n",
       "\n",
       "           animal_type_Cat  animal_type_Dog  animal_type_Livestock  \\\n",
       "Animal ID                                                            \n",
       "A731965                  0                1                      0   \n",
       "A817802                  0                1                      0   \n",
       "A811391                  0                1                      0   \n",
       "A692819                  0                1                      0   \n",
       "A704896                  0                1                      0   \n",
       "\n",
       "           animal_type_Other  sex_Intact Female  sex_Intact Male  \\\n",
       "Animal ID                                                          \n",
       "A731965                    0                  0                0   \n",
       "A817802                    0                  0                0   \n",
       "A811391                    0                  1                0   \n",
       "A692819                    0                  0                0   \n",
       "A704896                    0                  0                0   \n",
       "\n",
       "           sex_Neutered Male  sex_Spayed Female  sex_Unknown  \n",
       "Animal ID                                                     \n",
       "A731965                    1                  0            0  \n",
       "A817802                    1                  0            0  \n",
       "A811391                    0                  0            0  \n",
       "A692819                    1                  0            0  \n",
       "A704896                    1                  0            0  "
      ]
     },
     "execution_count": 69,
     "metadata": {},
     "output_type": "execute_result"
    }
   ],
   "source": [
    "X_train.head()"
   ]
  },
  {
   "cell_type": "code",
   "execution_count": 70,
   "id": "733deea0",
   "metadata": {},
   "outputs": [
    {
     "data": {
      "text/html": [
       "<div>\n",
       "<style scoped>\n",
       "    .dataframe tbody tr th:only-of-type {\n",
       "        vertical-align: middle;\n",
       "    }\n",
       "\n",
       "    .dataframe tbody tr th {\n",
       "        vertical-align: top;\n",
       "    }\n",
       "\n",
       "    .dataframe thead th {\n",
       "        text-align: right;\n",
       "    }\n",
       "</style>\n",
       "<table border=\"1\" class=\"dataframe\">\n",
       "  <thead>\n",
       "    <tr style=\"text-align: right;\">\n",
       "      <th></th>\n",
       "      <th>year_born</th>\n",
       "      <th>year_released</th>\n",
       "      <th>days_old</th>\n",
       "      <th>animal_type_Bird</th>\n",
       "      <th>animal_type_Cat</th>\n",
       "      <th>animal_type_Dog</th>\n",
       "      <th>animal_type_Livestock</th>\n",
       "      <th>animal_type_Other</th>\n",
       "      <th>sex_Intact Female</th>\n",
       "      <th>sex_Intact Male</th>\n",
       "      <th>sex_Neutered Male</th>\n",
       "      <th>sex_Spayed Female</th>\n",
       "      <th>sex_Unknown</th>\n",
       "    </tr>\n",
       "    <tr>\n",
       "      <th>Animal ID</th>\n",
       "      <th></th>\n",
       "      <th></th>\n",
       "      <th></th>\n",
       "      <th></th>\n",
       "      <th></th>\n",
       "      <th></th>\n",
       "      <th></th>\n",
       "      <th></th>\n",
       "      <th></th>\n",
       "      <th></th>\n",
       "      <th></th>\n",
       "      <th></th>\n",
       "      <th></th>\n",
       "    </tr>\n",
       "  </thead>\n",
       "  <tbody>\n",
       "    <tr>\n",
       "      <th>A853016</th>\n",
       "      <td>2020</td>\n",
       "      <td>2022</td>\n",
       "      <td>730</td>\n",
       "      <td>0</td>\n",
       "      <td>0</td>\n",
       "      <td>1</td>\n",
       "      <td>0</td>\n",
       "      <td>0</td>\n",
       "      <td>1</td>\n",
       "      <td>0</td>\n",
       "      <td>0</td>\n",
       "      <td>0</td>\n",
       "      <td>0</td>\n",
       "    </tr>\n",
       "    <tr>\n",
       "      <th>A734692</th>\n",
       "      <td>2016</td>\n",
       "      <td>2016</td>\n",
       "      <td>66</td>\n",
       "      <td>0</td>\n",
       "      <td>1</td>\n",
       "      <td>0</td>\n",
       "      <td>0</td>\n",
       "      <td>0</td>\n",
       "      <td>0</td>\n",
       "      <td>0</td>\n",
       "      <td>0</td>\n",
       "      <td>1</td>\n",
       "      <td>0</td>\n",
       "    </tr>\n",
       "    <tr>\n",
       "      <th>A726952</th>\n",
       "      <td>2014</td>\n",
       "      <td>2016</td>\n",
       "      <td>732</td>\n",
       "      <td>0</td>\n",
       "      <td>0</td>\n",
       "      <td>1</td>\n",
       "      <td>0</td>\n",
       "      <td>0</td>\n",
       "      <td>0</td>\n",
       "      <td>0</td>\n",
       "      <td>1</td>\n",
       "      <td>0</td>\n",
       "      <td>0</td>\n",
       "    </tr>\n",
       "    <tr>\n",
       "      <th>A707765</th>\n",
       "      <td>2015</td>\n",
       "      <td>2015</td>\n",
       "      <td>84</td>\n",
       "      <td>0</td>\n",
       "      <td>1</td>\n",
       "      <td>0</td>\n",
       "      <td>0</td>\n",
       "      <td>0</td>\n",
       "      <td>0</td>\n",
       "      <td>0</td>\n",
       "      <td>0</td>\n",
       "      <td>1</td>\n",
       "      <td>0</td>\n",
       "    </tr>\n",
       "    <tr>\n",
       "      <th>A726513</th>\n",
       "      <td>2003</td>\n",
       "      <td>2016</td>\n",
       "      <td>4752</td>\n",
       "      <td>0</td>\n",
       "      <td>0</td>\n",
       "      <td>1</td>\n",
       "      <td>0</td>\n",
       "      <td>0</td>\n",
       "      <td>0</td>\n",
       "      <td>1</td>\n",
       "      <td>0</td>\n",
       "      <td>0</td>\n",
       "      <td>0</td>\n",
       "    </tr>\n",
       "  </tbody>\n",
       "</table>\n",
       "</div>"
      ],
      "text/plain": [
       "           year_born  year_released  days_old  animal_type_Bird  \\\n",
       "Animal ID                                                         \n",
       "A853016         2020           2022       730                 0   \n",
       "A734692         2016           2016        66                 0   \n",
       "A726952         2014           2016       732                 0   \n",
       "A707765         2015           2015        84                 0   \n",
       "A726513         2003           2016      4752                 0   \n",
       "\n",
       "           animal_type_Cat  animal_type_Dog  animal_type_Livestock  \\\n",
       "Animal ID                                                            \n",
       "A853016                  0                1                      0   \n",
       "A734692                  1                0                      0   \n",
       "A726952                  0                1                      0   \n",
       "A707765                  1                0                      0   \n",
       "A726513                  0                1                      0   \n",
       "\n",
       "           animal_type_Other  sex_Intact Female  sex_Intact Male  \\\n",
       "Animal ID                                                          \n",
       "A853016                    0                  1                0   \n",
       "A734692                    0                  0                0   \n",
       "A726952                    0                  0                0   \n",
       "A707765                    0                  0                0   \n",
       "A726513                    0                  0                1   \n",
       "\n",
       "           sex_Neutered Male  sex_Spayed Female  sex_Unknown  \n",
       "Animal ID                                                     \n",
       "A853016                    0                  0            0  \n",
       "A734692                    0                  1            0  \n",
       "A726952                    1                  0            0  \n",
       "A707765                    0                  1            0  \n",
       "A726513                    0                  0            0  "
      ]
     },
     "execution_count": 70,
     "metadata": {},
     "output_type": "execute_result"
    }
   ],
   "source": [
    "X_validate.head()"
   ]
  },
  {
   "cell_type": "code",
   "execution_count": 54,
   "id": "a22cae61",
   "metadata": {},
   "outputs": [
    {
     "name": "stdout",
     "output_type": "stream",
     "text": [
      "baseline_accuracy: 0.93\n"
     ]
    }
   ],
   "source": [
    "baseline_accuracy = (train.Euthanasia == 0).mean()\n",
    "print(f\"baseline_accuracy: {round(baseline_accuracy, 2)}\")"
   ]
  },
  {
   "cell_type": "code",
   "execution_count": 55,
   "id": "fb7f3601",
   "metadata": {},
   "outputs": [
    {
     "data": {
      "text/plain": [
       "0    74716\n",
       "1     5224\n",
       "Name: Euthanasia, dtype: int64"
      ]
     },
     "execution_count": 55,
     "metadata": {},
     "output_type": "execute_result"
    }
   ],
   "source": [
    "train.Euthanasia.value_counts()"
   ]
  },
  {
   "cell_type": "code",
   "execution_count": 56,
   "id": "b300ffb7",
   "metadata": {
    "scrolled": true
   },
   "outputs": [],
   "source": [
    "#train.head()"
   ]
  },
  {
   "cell_type": "code",
   "execution_count": 57,
   "id": "e8a21a12",
   "metadata": {
    "scrolled": true
   },
   "outputs": [],
   "source": [
    "#df.info()"
   ]
  },
  {
   "cell_type": "markdown",
   "id": "44cafa63",
   "metadata": {},
   "source": [
    "## Decision Tree "
   ]
  },
  {
   "cell_type": "code",
   "execution_count": 58,
   "id": "b0d3fded",
   "metadata": {},
   "outputs": [
    {
     "data": {
      "text/html": [
       "<div>\n",
       "<style scoped>\n",
       "    .dataframe tbody tr th:only-of-type {\n",
       "        vertical-align: middle;\n",
       "    }\n",
       "\n",
       "    .dataframe tbody tr th {\n",
       "        vertical-align: top;\n",
       "    }\n",
       "\n",
       "    .dataframe thead th {\n",
       "        text-align: right;\n",
       "    }\n",
       "</style>\n",
       "<table border=\"1\" class=\"dataframe\">\n",
       "  <thead>\n",
       "    <tr style=\"text-align: right;\">\n",
       "      <th></th>\n",
       "      <th>year_born</th>\n",
       "      <th>year_released</th>\n",
       "      <th>days_old</th>\n",
       "      <th>animal_type_Bird</th>\n",
       "      <th>animal_type_Cat</th>\n",
       "      <th>animal_type_Dog</th>\n",
       "      <th>animal_type_Livestock</th>\n",
       "      <th>animal_type_Other</th>\n",
       "      <th>sex_Intact Female</th>\n",
       "      <th>sex_Intact Male</th>\n",
       "      <th>sex_Neutered Male</th>\n",
       "      <th>sex_Spayed Female</th>\n",
       "      <th>sex_Unknown</th>\n",
       "    </tr>\n",
       "    <tr>\n",
       "      <th>Animal ID</th>\n",
       "      <th></th>\n",
       "      <th></th>\n",
       "      <th></th>\n",
       "      <th></th>\n",
       "      <th></th>\n",
       "      <th></th>\n",
       "      <th></th>\n",
       "      <th></th>\n",
       "      <th></th>\n",
       "      <th></th>\n",
       "      <th></th>\n",
       "      <th></th>\n",
       "      <th></th>\n",
       "    </tr>\n",
       "  </thead>\n",
       "  <tbody>\n",
       "    <tr>\n",
       "      <th>A731965</th>\n",
       "      <td>2013</td>\n",
       "      <td>2016</td>\n",
       "      <td>1184</td>\n",
       "      <td>0</td>\n",
       "      <td>0</td>\n",
       "      <td>1</td>\n",
       "      <td>0</td>\n",
       "      <td>0</td>\n",
       "      <td>0</td>\n",
       "      <td>0</td>\n",
       "      <td>1</td>\n",
       "      <td>0</td>\n",
       "      <td>0</td>\n",
       "    </tr>\n",
       "    <tr>\n",
       "      <th>A817802</th>\n",
       "      <td>2019</td>\n",
       "      <td>2020</td>\n",
       "      <td>372</td>\n",
       "      <td>0</td>\n",
       "      <td>0</td>\n",
       "      <td>1</td>\n",
       "      <td>0</td>\n",
       "      <td>0</td>\n",
       "      <td>0</td>\n",
       "      <td>0</td>\n",
       "      <td>1</td>\n",
       "      <td>0</td>\n",
       "      <td>0</td>\n",
       "    </tr>\n",
       "    <tr>\n",
       "      <th>A811391</th>\n",
       "      <td>2011</td>\n",
       "      <td>2020</td>\n",
       "      <td>3287</td>\n",
       "      <td>0</td>\n",
       "      <td>0</td>\n",
       "      <td>1</td>\n",
       "      <td>0</td>\n",
       "      <td>0</td>\n",
       "      <td>1</td>\n",
       "      <td>0</td>\n",
       "      <td>0</td>\n",
       "      <td>0</td>\n",
       "      <td>0</td>\n",
       "    </tr>\n",
       "    <tr>\n",
       "      <th>A692819</th>\n",
       "      <td>2012</td>\n",
       "      <td>2016</td>\n",
       "      <td>1212</td>\n",
       "      <td>0</td>\n",
       "      <td>0</td>\n",
       "      <td>1</td>\n",
       "      <td>0</td>\n",
       "      <td>0</td>\n",
       "      <td>0</td>\n",
       "      <td>0</td>\n",
       "      <td>1</td>\n",
       "      <td>0</td>\n",
       "      <td>0</td>\n",
       "    </tr>\n",
       "    <tr>\n",
       "      <th>A704896</th>\n",
       "      <td>2013</td>\n",
       "      <td>2015</td>\n",
       "      <td>736</td>\n",
       "      <td>0</td>\n",
       "      <td>0</td>\n",
       "      <td>1</td>\n",
       "      <td>0</td>\n",
       "      <td>0</td>\n",
       "      <td>0</td>\n",
       "      <td>0</td>\n",
       "      <td>1</td>\n",
       "      <td>0</td>\n",
       "      <td>0</td>\n",
       "    </tr>\n",
       "  </tbody>\n",
       "</table>\n",
       "</div>"
      ],
      "text/plain": [
       "           year_born  year_released  days_old  animal_type_Bird  \\\n",
       "Animal ID                                                         \n",
       "A731965         2013           2016      1184                 0   \n",
       "A817802         2019           2020       372                 0   \n",
       "A811391         2011           2020      3287                 0   \n",
       "A692819         2012           2016      1212                 0   \n",
       "A704896         2013           2015       736                 0   \n",
       "\n",
       "           animal_type_Cat  animal_type_Dog  animal_type_Livestock  \\\n",
       "Animal ID                                                            \n",
       "A731965                  0                1                      0   \n",
       "A817802                  0                1                      0   \n",
       "A811391                  0                1                      0   \n",
       "A692819                  0                1                      0   \n",
       "A704896                  0                1                      0   \n",
       "\n",
       "           animal_type_Other  sex_Intact Female  sex_Intact Male  \\\n",
       "Animal ID                                                          \n",
       "A731965                    0                  0                0   \n",
       "A817802                    0                  0                0   \n",
       "A811391                    0                  1                0   \n",
       "A692819                    0                  0                0   \n",
       "A704896                    0                  0                0   \n",
       "\n",
       "           sex_Neutered Male  sex_Spayed Female  sex_Unknown  \n",
       "Animal ID                                                     \n",
       "A731965                    1                  0            0  \n",
       "A817802                    1                  0            0  \n",
       "A811391                    0                  0            0  \n",
       "A692819                    1                  0            0  \n",
       "A704896                    1                  0            0  "
      ]
     },
     "execution_count": 58,
     "metadata": {},
     "output_type": "execute_result"
    }
   ],
   "source": [
    "X_train.head()\n"
   ]
  },
  {
   "cell_type": "code",
   "execution_count": 71,
   "id": "2e708840",
   "metadata": {},
   "outputs": [],
   "source": [
    "# Make the model\n",
    "tree1 = DecisionTreeClassifier(max_depth=3, random_state=123)\n",
    "\n",
    "# Fit the model (on train and only train)\n",
    "tree1 = tree1.fit(X_train, y_train)\n",
    "\n",
    "# Use the model\n",
    "# We'll evaluate the model's performance on train, first\n",
    "y_predictions = tree1.predict(X_train)"
   ]
  },
  {
   "cell_type": "code",
   "execution_count": 72,
   "id": "5daa4a32",
   "metadata": {},
   "outputs": [
    {
     "data": {
      "image/png": "[encoded data removed]",
      "text/plain": [
       "<Figure size 864x504 with 1 Axes>"
      ]
     },
     "metadata": {
      "needs_background": "light"
     },
     "output_type": "display_data"
    }
   ],
   "source": [
    "plt.figure(figsize=(12, 7))\n",
    "plot_tree(tree1, feature_names=X_train.columns, class_names=['0','1'])\n",
    "plt.show()"
   ]
  },
  {
   "cell_type": "code",
   "execution_count": 73,
   "id": "18d12336",
   "metadata": {},
   "outputs": [
    {
     "name": "stdout",
     "output_type": "stream",
     "text": [
      "Accuracy of Decision Tree classifier on training set: 0.96\n"
     ]
    }
   ],
   "source": [
    "print('Accuracy of Decision Tree classifier on training set: {:.2f}'\n",
    "      .format(tree1.score(X_train, y_train)))"
   ]
  },
  {
   "cell_type": "code",
   "execution_count": 74,
   "id": "a641e36c",
   "metadata": {
    "scrolled": true
   },
   "outputs": [
    {
     "name": "stdout",
     "output_type": "stream",
     "text": [
      "              precision    recall  f1-score   support\n",
      "\n",
      "           0       0.97      0.99      0.98     74716\n",
      "           1       0.82      0.51      0.63      5224\n",
      "\n",
      "    accuracy                           0.96     79940\n",
      "   macro avg       0.89      0.75      0.80     79940\n",
      "weighted avg       0.96      0.96      0.96     79940\n",
      "\n"
     ]
    }
   ],
   "source": [
    "print(classification_report(y_train, y_predictions))"
   ]
  },
  {
   "cell_type": "code",
   "execution_count": 75,
   "id": "df5fcc42",
   "metadata": {},
   "outputs": [
    {
     "data": {
      "text/plain": [
       "<sklearn.metrics._plot.confusion_matrix.ConfusionMatrixDisplay at 0x1447f04f0>"
      ]
     },
     "execution_count": 75,
     "metadata": {},
     "output_type": "execute_result"
    },
    {
     "data": {
      "image/png": "[encoded data removed]",
      "text/plain": [
       "<Figure size 432x288 with 2 Axes>"
      ]
     },
     "metadata": {
      "needs_background": "light"
     },
     "output_type": "display_data"
    }
   ],
   "source": [
    "plot_confusion_matrix(tree1, X_train, y_train)"
   ]
  },
  {
   "cell_type": "code",
   "execution_count": 76,
   "id": "18a2a2f6",
   "metadata": {
    "scrolled": false
   },
   "outputs": [
    {
     "name": "stdout",
     "output_type": "stream",
     "text": [
      "Tree with max depth of 1\n",
      "                      0            1  accuracy     macro avg  weighted avg\n",
      "precision      0.968317     0.669273  0.952527      0.818795      0.948775\n",
      "recall         0.981316     0.540773  0.952527      0.761045      0.952527\n",
      "f1-score       0.974773     0.598200  0.952527      0.786487      0.950164\n",
      "support    74716.000000  5224.000000  0.952527  79940.000000  79940.000000\n",
      "\n",
      "Tree with max depth of 2\n",
      "                      0            1  accuracy     macro avg  weighted avg\n",
      "precision      0.967493     0.797030   0.96017      0.882261      0.956353\n",
      "recall         0.990671     0.523928   0.96017      0.757300      0.960170\n",
      "f1-score       0.978945     0.632248   0.96017      0.805596      0.956289\n",
      "support    74716.000000  5224.000000   0.96017  79940.000000  79940.000000\n",
      "\n",
      "Tree with max depth of 3\n",
      "                      0            1  accuracy     macro avg  weighted avg\n",
      "precision      0.966612     0.815926  0.960458      0.891269      0.956765\n",
      "recall         0.991956     0.509954  0.960458      0.750955      0.960458\n",
      "f1-score       0.979120     0.627636  0.960458      0.803378      0.956151\n",
      "support    74716.000000  5224.000000  0.960458  79940.000000  79940.000000\n",
      "\n",
      "Tree with max depth of 4\n",
      "                      0            1  accuracy     macro avg  weighted avg\n",
      "precision      0.967426     0.808649  0.960721      0.888038      0.957050\n",
      "recall         0.991354     0.522588  0.960721      0.756971      0.960721\n",
      "f1-score       0.979244     0.634884  0.960721      0.807064      0.956740\n",
      "support    74716.000000  5224.000000  0.960721  79940.000000  79940.000000\n",
      "\n",
      "Tree with max depth of 5\n",
      "                      0            1  accuracy     macro avg  weighted avg\n",
      "precision      0.966800     0.830593  0.961308      0.898696      0.957899\n",
      "recall         0.992692     0.512443  0.961308      0.752567      0.961308\n",
      "f1-score       0.979575     0.633834  0.961308      0.806705      0.956981\n",
      "support    74716.000000  5224.000000  0.961308  79940.000000  79940.000000\n",
      "\n",
      "Tree with max depth of 6\n",
      "                      0            1  accuracy     macro avg  weighted avg\n",
      "precision      0.967595     0.826598  0.961746      0.897097      0.958381\n",
      "recall         0.992304     0.524694  0.961746      0.758499      0.961746\n",
      "f1-score       0.979794     0.641920  0.961746      0.810857      0.957714\n",
      "support    74716.000000  5224.000000  0.961746  79940.000000  79940.000000\n",
      "\n",
      "Tree with max depth of 7\n",
      "                      0            1  accuracy     macro avg  weighted avg\n",
      "precision      0.968185     0.834181  0.962584      0.901183      0.959428\n",
      "recall         0.992585     0.533499  0.962584      0.763042      0.962584\n",
      "f1-score       0.980233     0.650788  0.962584      0.815511      0.958704\n",
      "support    74716.000000  5224.000000  0.962584  79940.000000  79940.000000\n",
      "\n",
      "Tree with max depth of 8\n",
      "                      0            1  accuracy     macro avg  weighted avg\n",
      "precision      0.969178     0.834109  0.963373      0.901644      0.960351\n",
      "recall         0.992371     0.548622  0.963373      0.770496      0.963373\n",
      "f1-score       0.980637     0.661894  0.963373      0.821266      0.959808\n",
      "support    74716.000000  5224.000000  0.963373  79940.000000  79940.000000\n",
      "\n",
      "Tree with max depth of 9\n",
      "                      0            1  accuracy     macro avg  weighted avg\n",
      "precision      0.970184     0.840468  0.964498      0.905326      0.961707\n",
      "recall         0.992518     0.563744  0.964498      0.778131      0.964498\n",
      "f1-score       0.981224     0.674840  0.964498      0.828032      0.961202\n",
      "support    74716.000000  5224.000000  0.964498  79940.000000  79940.000000\n",
      "\n",
      "Tree with max depth of 10\n",
      "                      0            1  accuracy     macro avg  weighted avg\n",
      "precision      0.971001     0.845700  0.965424      0.908350      0.962813\n",
      "recall         0.992652     0.575995  0.965424      0.784324      0.965424\n",
      "f1-score       0.981707     0.685265  0.965424      0.833486      0.962335\n",
      "support    74716.000000  5224.000000  0.965424  79940.000000  79940.000000\n",
      "\n",
      "Tree with max depth of 11\n",
      "                      0            1  accuracy     macro avg  weighted avg\n",
      "precision      0.971543     0.860367  0.966612      0.915955      0.964277\n",
      "recall         0.993375     0.583844  0.966612      0.788609      0.966612\n",
      "f1-score       0.982337     0.695632  0.966612      0.838985      0.963602\n",
      "support    74716.000000  5224.000000  0.966612  79940.000000  79940.000000\n",
      "\n",
      "Tree with max depth of 12\n",
      "                      0            1  accuracy     macro avg  weighted avg\n",
      "precision      0.972941     0.862681  0.967888      0.917811      0.965735\n",
      "recall         0.993268     0.604900  0.967888      0.799084      0.967888\n",
      "f1-score       0.982999     0.711151  0.967888      0.847075      0.965234\n",
      "support    74716.000000  5224.000000  0.967888  79940.000000  79940.000000\n",
      "\n",
      "Tree with max depth of 13\n",
      "                      0            1  accuracy     macro avg  weighted avg\n",
      "precision      0.973918     0.869892  0.969077      0.921905      0.967120\n",
      "recall         0.993522     0.619449  0.969077      0.806485      0.969077\n",
      "f1-score       0.983622     0.723614  0.969077      0.853618      0.966631\n",
      "support    74716.000000  5224.000000  0.969077  79940.000000  79940.000000\n",
      "\n",
      "Tree with max depth of 14\n",
      "                      0            1  accuracy     macro avg  weighted avg\n",
      "precision      0.975491     0.873375  0.970578      0.924433      0.968818\n",
      "recall         0.993482     0.642994  0.970578      0.818238      0.970578\n",
      "f1-score       0.984404     0.740684  0.970578      0.862544      0.968477\n",
      "support    74716.000000  5224.000000  0.970578  79940.000000  79940.000000\n",
      "\n",
      "Tree with max depth of 15\n",
      "                      0            1  accuracy     macro avg  weighted avg\n",
      "precision      0.976358     0.881173  0.971729      0.928766      0.970138\n",
      "recall         0.993817     0.655819  0.971729      0.824818      0.971729\n",
      "f1-score       0.985010     0.751975  0.971729      0.868493      0.969781\n",
      "support    74716.000000  5224.000000  0.971729  79940.000000  79940.000000\n",
      "\n",
      "Tree with max depth of 16\n",
      "                      0            1  accuracy     macro avg  weighted avg\n",
      "precision      0.977722     0.885435  0.973117      0.931579      0.971692\n",
      "recall         0.993884     0.676110  0.973117      0.834997      0.973117\n",
      "f1-score       0.985737     0.766743  0.973117      0.876240      0.971426\n",
      "support    74716.000000  5224.000000  0.973117  79940.000000  79940.000000\n",
      "\n",
      "Tree with max depth of 17\n",
      "                      0            1  accuracy     macro avg  weighted avg\n",
      "precision      0.978688     0.886895  0.974018      0.932791      0.972689\n",
      "recall         0.993843     0.690467  0.974018      0.842155      0.974018\n",
      "f1-score       0.986207     0.776450  0.974018      0.881329      0.972500\n",
      "support    74716.000000  5224.000000  0.974018  79940.000000  79940.000000\n",
      "\n",
      "Tree with max depth of 18\n",
      "                      0            1  accuracy     macro avg  weighted avg\n",
      "precision      0.979619     0.890152  0.974994      0.934886      0.973773\n",
      "recall         0.993924     0.704250  0.974994      0.849087      0.974994\n",
      "f1-score       0.986720     0.786363  0.974994      0.886541      0.973627\n",
      "support    74716.000000  5224.000000  0.974994  79940.000000  79940.000000\n",
      "\n",
      "Tree with max depth of 19\n",
      "                      0            1  accuracy     macro avg  weighted avg\n",
      "precision      0.980553     0.894160   0.97602      0.937356      0.974907\n",
      "recall         0.994057     0.718032   0.97602      0.856045      0.976020\n",
      "f1-score       0.987259     0.796475   0.97602      0.891867      0.974792\n",
      "support    74716.000000  5224.000000   0.97602  79940.000000  79940.000000\n",
      "\n",
      "Tree with max depth of 20\n",
      "                      0            1  accuracy     macro avg  weighted avg\n",
      "precision      0.981665     0.893781  0.976945      0.937723      0.975922\n",
      "recall         0.993897     0.734495  0.976945      0.864196      0.976945\n",
      "f1-score       0.987743     0.806347  0.976945      0.897045      0.975889\n",
      "support    74716.000000  5224.000000  0.976945  79940.000000  79940.000000\n",
      "\n"
     ]
    }
   ],
   "source": [
    "# Let's get loopy\n",
    "for i in range(1, 21):\n",
    "    # Make the model\n",
    "    tree = DecisionTreeClassifier(max_depth=i, random_state=123)\n",
    "\n",
    "    # Fit the model (on train and only train)\n",
    "    tree = tree.fit(X_train, y_train)\n",
    "\n",
    "    # Use the model\n",
    "    # We'll evaluate the model's performance on train, first\n",
    "    y_predictions = tree.predict(X_train)\n",
    "\n",
    "    # Produce the classification report on the actual y values and this model's predicted y values\n",
    "    report = classification_report(y_train, y_predictions, output_dict=True)\n",
    "    print(f\"Tree with max depth of {i}\")\n",
    "    print(pd.DataFrame(report))\n",
    "    print()"
   ]
  },
  {
   "cell_type": "code",
   "execution_count": 77,
   "id": "0cbdd3fb",
   "metadata": {
    "scrolled": false
   },
   "outputs": [
    {
     "data": {
      "text/html": [
       "<div>\n",
       "<style scoped>\n",
       "    .dataframe tbody tr th:only-of-type {\n",
       "        vertical-align: middle;\n",
       "    }\n",
       "\n",
       "    .dataframe tbody tr th {\n",
       "        vertical-align: top;\n",
       "    }\n",
       "\n",
       "    .dataframe thead th {\n",
       "        text-align: right;\n",
       "    }\n",
       "</style>\n",
       "<table border=\"1\" class=\"dataframe\">\n",
       "  <thead>\n",
       "    <tr style=\"text-align: right;\">\n",
       "      <th></th>\n",
       "      <th>max_depth</th>\n",
       "      <th>train_accuracy</th>\n",
       "      <th>validate_accuracy</th>\n",
       "      <th>difference</th>\n",
       "    </tr>\n",
       "  </thead>\n",
       "  <tbody>\n",
       "    <tr>\n",
       "      <th>0</th>\n",
       "      <td>1</td>\n",
       "      <td>0.952527</td>\n",
       "      <td>0.953327</td>\n",
       "      <td>-0.000801</td>\n",
       "    </tr>\n",
       "    <tr>\n",
       "      <th>1</th>\n",
       "      <td>2</td>\n",
       "      <td>0.960170</td>\n",
       "      <td>0.960158</td>\n",
       "      <td>0.000013</td>\n",
       "    </tr>\n",
       "    <tr>\n",
       "      <th>2</th>\n",
       "      <td>3</td>\n",
       "      <td>0.960458</td>\n",
       "      <td>0.959982</td>\n",
       "      <td>0.000475</td>\n",
       "    </tr>\n",
       "    <tr>\n",
       "      <th>3</th>\n",
       "      <td>4</td>\n",
       "      <td>0.960721</td>\n",
       "      <td>0.960450</td>\n",
       "      <td>0.000271</td>\n",
       "    </tr>\n",
       "    <tr>\n",
       "      <th>4</th>\n",
       "      <td>5</td>\n",
       "      <td>0.961308</td>\n",
       "      <td>0.960654</td>\n",
       "      <td>0.000655</td>\n",
       "    </tr>\n",
       "    <tr>\n",
       "      <th>5</th>\n",
       "      <td>6</td>\n",
       "      <td>0.961746</td>\n",
       "      <td>0.961325</td>\n",
       "      <td>0.000421</td>\n",
       "    </tr>\n",
       "    <tr>\n",
       "      <th>6</th>\n",
       "      <td>7</td>\n",
       "      <td>0.962584</td>\n",
       "      <td>0.961296</td>\n",
       "      <td>0.001288</td>\n",
       "    </tr>\n",
       "    <tr>\n",
       "      <th>7</th>\n",
       "      <td>8</td>\n",
       "      <td>0.963373</td>\n",
       "      <td>0.960887</td>\n",
       "      <td>0.002485</td>\n",
       "    </tr>\n",
       "    <tr>\n",
       "      <th>8</th>\n",
       "      <td>9</td>\n",
       "      <td>0.964498</td>\n",
       "      <td>0.961062</td>\n",
       "      <td>0.003436</td>\n",
       "    </tr>\n",
       "    <tr>\n",
       "      <th>9</th>\n",
       "      <td>10</td>\n",
       "      <td>0.965424</td>\n",
       "      <td>0.960800</td>\n",
       "      <td>0.004624</td>\n",
       "    </tr>\n",
       "    <tr>\n",
       "      <th>10</th>\n",
       "      <td>11</td>\n",
       "      <td>0.966612</td>\n",
       "      <td>0.961354</td>\n",
       "      <td>0.005258</td>\n",
       "    </tr>\n",
       "    <tr>\n",
       "      <th>11</th>\n",
       "      <td>12</td>\n",
       "      <td>0.967888</td>\n",
       "      <td>0.961238</td>\n",
       "      <td>0.006651</td>\n",
       "    </tr>\n",
       "    <tr>\n",
       "      <th>12</th>\n",
       "      <td>13</td>\n",
       "      <td>0.969077</td>\n",
       "      <td>0.960829</td>\n",
       "      <td>0.008248</td>\n",
       "    </tr>\n",
       "    <tr>\n",
       "      <th>13</th>\n",
       "      <td>14</td>\n",
       "      <td>0.970578</td>\n",
       "      <td>0.959837</td>\n",
       "      <td>0.010741</td>\n",
       "    </tr>\n",
       "    <tr>\n",
       "      <th>14</th>\n",
       "      <td>15</td>\n",
       "      <td>0.971729</td>\n",
       "      <td>0.959515</td>\n",
       "      <td>0.012213</td>\n",
       "    </tr>\n",
       "    <tr>\n",
       "      <th>15</th>\n",
       "      <td>16</td>\n",
       "      <td>0.973117</td>\n",
       "      <td>0.958085</td>\n",
       "      <td>0.015032</td>\n",
       "    </tr>\n",
       "    <tr>\n",
       "      <th>16</th>\n",
       "      <td>17</td>\n",
       "      <td>0.974018</td>\n",
       "      <td>0.956976</td>\n",
       "      <td>0.017042</td>\n",
       "    </tr>\n",
       "    <tr>\n",
       "      <th>17</th>\n",
       "      <td>18</td>\n",
       "      <td>0.974994</td>\n",
       "      <td>0.956363</td>\n",
       "      <td>0.018631</td>\n",
       "    </tr>\n",
       "    <tr>\n",
       "      <th>18</th>\n",
       "      <td>19</td>\n",
       "      <td>0.976020</td>\n",
       "      <td>0.956100</td>\n",
       "      <td>0.019919</td>\n",
       "    </tr>\n",
       "    <tr>\n",
       "      <th>19</th>\n",
       "      <td>20</td>\n",
       "      <td>0.976945</td>\n",
       "      <td>0.955196</td>\n",
       "      <td>0.021750</td>\n",
       "    </tr>\n",
       "    <tr>\n",
       "      <th>20</th>\n",
       "      <td>21</td>\n",
       "      <td>0.977433</td>\n",
       "      <td>0.954991</td>\n",
       "      <td>0.022442</td>\n",
       "    </tr>\n",
       "    <tr>\n",
       "      <th>21</th>\n",
       "      <td>22</td>\n",
       "      <td>0.977896</td>\n",
       "      <td>0.954349</td>\n",
       "      <td>0.023547</td>\n",
       "    </tr>\n",
       "    <tr>\n",
       "      <th>22</th>\n",
       "      <td>23</td>\n",
       "      <td>0.978346</td>\n",
       "      <td>0.953882</td>\n",
       "      <td>0.024464</td>\n",
       "    </tr>\n",
       "    <tr>\n",
       "      <th>23</th>\n",
       "      <td>24</td>\n",
       "      <td>0.978797</td>\n",
       "      <td>0.953415</td>\n",
       "      <td>0.025382</td>\n",
       "    </tr>\n",
       "  </tbody>\n",
       "</table>\n",
       "</div>"
      ],
      "text/plain": [
       "    max_depth  train_accuracy  validate_accuracy  difference\n",
       "0           1        0.952527           0.953327   -0.000801\n",
       "1           2        0.960170           0.960158    0.000013\n",
       "2           3        0.960458           0.959982    0.000475\n",
       "3           4        0.960721           0.960450    0.000271\n",
       "4           5        0.961308           0.960654    0.000655\n",
       "5           6        0.961746           0.961325    0.000421\n",
       "6           7        0.962584           0.961296    0.001288\n",
       "7           8        0.963373           0.960887    0.002485\n",
       "8           9        0.964498           0.961062    0.003436\n",
       "9          10        0.965424           0.960800    0.004624\n",
       "10         11        0.966612           0.961354    0.005258\n",
       "11         12        0.967888           0.961238    0.006651\n",
       "12         13        0.969077           0.960829    0.008248\n",
       "13         14        0.970578           0.959837    0.010741\n",
       "14         15        0.971729           0.959515    0.012213\n",
       "15         16        0.973117           0.958085    0.015032\n",
       "16         17        0.974018           0.956976    0.017042\n",
       "17         18        0.974994           0.956363    0.018631\n",
       "18         19        0.976020           0.956100    0.019919\n",
       "19         20        0.976945           0.955196    0.021750\n",
       "20         21        0.977433           0.954991    0.022442\n",
       "21         22        0.977896           0.954349    0.023547\n",
       "22         23        0.978346           0.953882    0.024464\n",
       "23         24        0.978797           0.953415    0.025382"
      ]
     },
     "execution_count": 77,
     "metadata": {},
     "output_type": "execute_result"
    }
   ],
   "source": [
    "# Let's continue getting loopy, so we can compare in-sample to out-of-sample\n",
    "metrics = []\n",
    "\n",
    "for i in range(1, 25):\n",
    "    # Make the model\n",
    "    tree = DecisionTreeClassifier(max_depth=i, random_state=123)\n",
    "\n",
    "    # Fit the model (on train and only train)\n",
    "    tree = tree.fit(X_train, y_train)\n",
    "\n",
    "    # Use the model\n",
    "    # We'll evaluate the model's performance on train, first\n",
    "    in_sample_accuracy = tree.score(X_train, y_train)\n",
    "    \n",
    "    out_of_sample_accuracy = tree.score(X_validate, y_validate)\n",
    "\n",
    "    output = {\n",
    "        \"max_depth\": i,\n",
    "        \"train_accuracy\": in_sample_accuracy,\n",
    "        \"validate_accuracy\": out_of_sample_accuracy\n",
    "    }\n",
    "    \n",
    "    metrics.append(output)\n",
    "    \n",
    "df = pd.DataFrame(metrics)\n",
    "df[\"difference\"] = df.train_accuracy - df.validate_accuracy\n",
    "df"
   ]
  },
  {
   "cell_type": "markdown",
   "id": "c2ac739b",
   "metadata": {},
   "source": [
    "## This is the best model with a max depth of 3"
   ]
  },
  {
   "cell_type": "code",
   "execution_count": null,
   "id": "72d8584a",
   "metadata": {},
   "outputs": [],
   "source": []
  },
  {
   "cell_type": "markdown",
   "id": "740f9eb8",
   "metadata": {},
   "source": [
    "## Random forest"
   ]
  },
  {
   "cell_type": "code",
   "execution_count": 78,
   "id": "dadfe62a",
   "metadata": {},
   "outputs": [],
   "source": [
    "rf = RandomForestClassifier(max_depth=3, \n",
    "                            random_state=123)\n"
   ]
  },
  {
   "cell_type": "code",
   "execution_count": 79,
   "id": "983cb205",
   "metadata": {},
   "outputs": [
    {
     "data": {
      "text/plain": [
       "RandomForestClassifier(max_depth=3, random_state=123)"
      ]
     },
     "execution_count": 79,
     "metadata": {},
     "output_type": "execute_result"
    }
   ],
   "source": [
    "rf.fit(X_train, y_train)"
   ]
  },
  {
   "cell_type": "code",
   "execution_count": 80,
   "id": "eb5b18de",
   "metadata": {},
   "outputs": [
    {
     "name": "stdout",
     "output_type": "stream",
     "text": [
      "[1.03926211e-02 6.74027090e-03 2.69059441e-02 1.06083261e-03\n",
      " 6.50956869e-02 4.99591091e-02 1.18448660e-05 4.50902682e-01\n",
      " 5.17711134e-03 1.30410592e-02 2.91256835e-02 5.18735772e-02\n",
      " 2.89713577e-01]\n"
     ]
    }
   ],
   "source": [
    "print(rf.feature_importances_)"
   ]
  },
  {
   "cell_type": "code",
   "execution_count": 81,
   "id": "66a3ad5e",
   "metadata": {},
   "outputs": [
    {
     "data": {
      "text/plain": [
       "array([0, 0, 0, ..., 0, 0, 0], dtype=uint8)"
      ]
     },
     "execution_count": 81,
     "metadata": {},
     "output_type": "execute_result"
    }
   ],
   "source": [
    "y_pred = rf.predict(X_train)\n",
    "y_pred"
   ]
  },
  {
   "cell_type": "code",
   "execution_count": 82,
   "id": "d465d05e",
   "metadata": {},
   "outputs": [
    {
     "data": {
      "text/plain": [
       "array([[0.97512909, 0.02487091],\n",
       "       [0.97765543, 0.02234457],\n",
       "       [0.95253544, 0.04746456],\n",
       "       ...,\n",
       "       [0.97620071, 0.02379929],\n",
       "       [0.96607814, 0.03392186],\n",
       "       [0.9740638 , 0.0259362 ]])"
      ]
     },
     "execution_count": 82,
     "metadata": {},
     "output_type": "execute_result"
    }
   ],
   "source": [
    "y_pred_proba = rf.predict_proba(X_train)\n",
    "y_pred_proba"
   ]
  },
  {
   "cell_type": "code",
   "execution_count": 83,
   "id": "28e36a9b",
   "metadata": {},
   "outputs": [
    {
     "name": "stdout",
     "output_type": "stream",
     "text": [
      "Accuracy of random forest classifier on training set: 0.96\n"
     ]
    }
   ],
   "source": [
    "print('Accuracy of random forest classifier on training set: {:.2f}'\n",
    "     .format(rf.score(X_train, y_train)))"
   ]
  },
  {
   "cell_type": "code",
   "execution_count": 84,
   "id": "9c7bbdd6",
   "metadata": {},
   "outputs": [
    {
     "name": "stdout",
     "output_type": "stream",
     "text": [
      "[[74019   697]\n",
      " [ 2487  2737]]\n"
     ]
    }
   ],
   "source": [
    "print(confusion_matrix(y_train, y_pred))"
   ]
  },
  {
   "cell_type": "code",
   "execution_count": 85,
   "id": "fb81da39",
   "metadata": {},
   "outputs": [
    {
     "name": "stdout",
     "output_type": "stream",
     "text": [
      "              precision    recall  f1-score   support\n",
      "\n",
      "           0       0.97      0.99      0.98     74716\n",
      "           1       0.80      0.52      0.63      5224\n",
      "\n",
      "    accuracy                           0.96     79940\n",
      "   macro avg       0.88      0.76      0.81     79940\n",
      "weighted avg       0.96      0.96      0.96     79940\n",
      "\n"
     ]
    }
   ],
   "source": [
    "print(classification_report(y_train, y_pred))"
   ]
  },
  {
   "cell_type": "code",
   "execution_count": 86,
   "id": "98ad84f3",
   "metadata": {},
   "outputs": [],
   "source": [
    "#validate"
   ]
  },
  {
   "cell_type": "code",
   "execution_count": 87,
   "id": "515c03a4",
   "metadata": {
    "scrolled": true
   },
   "outputs": [
    {
     "name": "stdout",
     "output_type": "stream",
     "text": [
      "Accuracy of random forest classifier on test set: 0.96\n"
     ]
    }
   ],
   "source": [
    "print('Accuracy of random forest classifier on test set: {:.2f}'\n",
    "     .format(rf.score(X_validate, y_validate)))"
   ]
  },
  {
   "cell_type": "code",
   "execution_count": 88,
   "id": "8072a114",
   "metadata": {
    "scrolled": false
   },
   "outputs": [
    {
     "name": "stdout",
     "output_type": "stream",
     "text": [
      "Random Forest with max depth of 1\n",
      "                      0       1  accuracy     macro avg  weighted avg\n",
      "precision      0.934651     0.0  0.934651      0.467325      0.873572\n",
      "recall         1.000000     0.0  0.934651      0.500000      0.934651\n",
      "f1-score       0.966222     0.0  0.934651      0.483111      0.903080\n",
      "support    74716.000000  5224.0  0.934651  79940.000000  79940.000000\n",
      "\n",
      "Random Forest with max depth of 2\n",
      "                      0            1  accuracy     macro avg  weighted avg\n",
      "precision      0.961441     0.829394  0.956968      0.895418      0.952812\n",
      "recall         0.993817     0.429939  0.956968      0.711878      0.956968\n",
      "f1-score       0.977361     0.566314  0.956968      0.771837      0.950499\n",
      "support    74716.000000  5224.000000  0.956968  79940.000000  79940.000000\n",
      "\n",
      "Random Forest with max depth of 3\n",
      "                      0            1  accuracy     macro avg  weighted avg\n",
      "precision      0.967493     0.797030   0.96017      0.882261      0.956353\n",
      "recall         0.990671     0.523928   0.96017      0.757300      0.960170\n",
      "f1-score       0.978945     0.632248   0.96017      0.805596      0.956289\n",
      "support    74716.000000  5224.000000   0.96017  79940.000000  79940.000000\n",
      "\n",
      "Random Forest with max depth of 4\n",
      "                      0            1  accuracy     macro avg  weighted avg\n",
      "precision      0.967493     0.797030   0.96017      0.882261      0.956353\n",
      "recall         0.990671     0.523928   0.96017      0.757300      0.960170\n",
      "f1-score       0.978945     0.632248   0.96017      0.805596      0.956289\n",
      "support    74716.000000  5224.000000   0.96017  79940.000000  79940.000000\n",
      "\n",
      "Random Forest with max depth of 5\n",
      "                      0            1  accuracy     macro avg  weighted avg\n",
      "precision      0.967485     0.806785  0.960671      0.887135      0.956984\n",
      "recall         0.991233     0.523545  0.960671      0.757389      0.960671\n",
      "f1-score       0.979215     0.635013  0.960671      0.807114      0.956722\n",
      "support    74716.000000  5224.000000  0.960671  79940.000000  79940.000000\n",
      "\n",
      "Random Forest with max depth of 6\n",
      "                      0            1  accuracy     macro avg  weighted avg\n",
      "precision      0.967426     0.808410  0.960708      0.887918      0.957034\n",
      "recall         0.991341     0.522588  0.960708      0.756964      0.960708\n",
      "f1-score       0.979237     0.634810  0.960708      0.807023      0.956729\n",
      "support    74716.000000  5224.000000  0.960708  79940.000000  79940.000000\n",
      "\n",
      "Random Forest with max depth of 7\n",
      "                      0            1  accuracy     macro avg  weighted avg\n",
      "precision      0.967560     0.813539  0.961071      0.890550      0.957495\n",
      "recall         0.991595     0.524502  0.961071      0.758049      0.961071\n",
      "f1-score       0.979430     0.637803  0.961071      0.808616      0.957105\n",
      "support    74716.000000  5224.000000  0.961071  79940.000000  79940.000000\n",
      "\n",
      "Random Forest with max depth of 8\n",
      "                      0            1  accuracy     macro avg  weighted avg\n",
      "precision      0.967966     0.816014  0.961509      0.891990      0.958036\n",
      "recall         0.991635     0.530628  0.961509      0.761131      0.961509\n",
      "f1-score       0.979657     0.643081  0.961509      0.811369      0.957662\n",
      "support    74716.000000  5224.000000  0.961509  79940.000000  79940.000000\n",
      "\n",
      "Random Forest with max depth of 9\n",
      "                      0            1  accuracy     macro avg  weighted avg\n",
      "precision      0.968586     0.818630  0.962122      0.893608      0.958786\n",
      "recall         0.991635     0.540008  0.962122      0.765821      0.962122\n",
      "f1-score       0.979975     0.650750  0.962122      0.815362      0.958460\n",
      "support    74716.000000  5224.000000  0.962122  79940.000000  79940.000000\n",
      "\n"
     ]
    }
   ],
   "source": [
    "for i in range(1, 10):\n",
    "    # Make the model\n",
    "    rf = RandomForestClassifier(max_depth=i, random_state=123)\n",
    "\n",
    "    # Fit the model (on train and only train)\n",
    "    rftree = rf.fit(X_train, y_train)\n",
    "\n",
    "    # Use the model\n",
    "    # We'll evaluate the model's performance on train, first\n",
    "    rfy_predictions = rftree.predict(X_train)\n",
    "\n",
    "    # Produce the classification report on the actual y values and this model's predicted y values\n",
    "    report = classification_report(y_train, rfy_predictions, output_dict=True)\n",
    "    print(f\"Random Forest with max depth of {i}\")\n",
    "    print(pd.DataFrame(report))\n",
    "    print()"
   ]
  },
  {
   "cell_type": "markdown",
   "id": "8956926f",
   "metadata": {},
   "source": [
    "##  KNN modeling"
   ]
  },
  {
   "cell_type": "code",
   "execution_count": 89,
   "id": "6bba2171",
   "metadata": {},
   "outputs": [
    {
     "name": "stdout",
     "output_type": "stream",
     "text": [
      "baseline_accuracy: 0.93\n"
     ]
    }
   ],
   "source": [
    "baseline_accuracy = (train.Euthanasia == 0).mean()\n",
    "print(f\"baseline_accuracy: {round(baseline_accuracy, 2)}\")"
   ]
  },
  {
   "cell_type": "code",
   "execution_count": 90,
   "id": "c263f6f9",
   "metadata": {},
   "outputs": [],
   "source": [
    "knn1 = KNeighborsClassifier(n_neighbors=3, weights='uniform')"
   ]
  },
  {
   "cell_type": "code",
   "execution_count": 91,
   "id": "c6b6f255",
   "metadata": {},
   "outputs": [
    {
     "data": {
      "text/plain": [
       "KNeighborsClassifier(n_neighbors=3)"
      ]
     },
     "execution_count": 91,
     "metadata": {},
     "output_type": "execute_result"
    }
   ],
   "source": [
    "knn1.fit(X_train, y_train)"
   ]
  },
  {
   "cell_type": "code",
   "execution_count": 92,
   "id": "fcbf3ec4",
   "metadata": {},
   "outputs": [
    {
     "data": {
      "text/plain": [
       "array([0, 0, 0, 0, 0], dtype=uint8)"
      ]
     },
     "execution_count": 92,
     "metadata": {},
     "output_type": "execute_result"
    }
   ],
   "source": [
    "y_pred = knn1.predict(X_train)\n",
    "y_pred[:5]"
   ]
  },
  {
   "cell_type": "code",
   "execution_count": 93,
   "id": "5095bb05",
   "metadata": {},
   "outputs": [
    {
     "data": {
      "text/html": [
       "<div>\n",
       "<style scoped>\n",
       "    .dataframe tbody tr th:only-of-type {\n",
       "        vertical-align: middle;\n",
       "    }\n",
       "\n",
       "    .dataframe tbody tr th {\n",
       "        vertical-align: top;\n",
       "    }\n",
       "\n",
       "    .dataframe thead th {\n",
       "        text-align: right;\n",
       "    }\n",
       "</style>\n",
       "<table border=\"1\" class=\"dataframe\">\n",
       "  <thead>\n",
       "    <tr style=\"text-align: right;\">\n",
       "      <th></th>\n",
       "      <th>Euthanasia</th>\n",
       "    </tr>\n",
       "    <tr>\n",
       "      <th>Animal ID</th>\n",
       "      <th></th>\n",
       "    </tr>\n",
       "  </thead>\n",
       "  <tbody>\n",
       "    <tr>\n",
       "      <th>A731965</th>\n",
       "      <td>0</td>\n",
       "    </tr>\n",
       "    <tr>\n",
       "      <th>A817802</th>\n",
       "      <td>0</td>\n",
       "    </tr>\n",
       "    <tr>\n",
       "      <th>A811391</th>\n",
       "      <td>0</td>\n",
       "    </tr>\n",
       "    <tr>\n",
       "      <th>A692819</th>\n",
       "      <td>1</td>\n",
       "    </tr>\n",
       "    <tr>\n",
       "      <th>A704896</th>\n",
       "      <td>0</td>\n",
       "    </tr>\n",
       "  </tbody>\n",
       "</table>\n",
       "</div>"
      ],
      "text/plain": [
       "           Euthanasia\n",
       "Animal ID            \n",
       "A731965             0\n",
       "A817802             0\n",
       "A811391             0\n",
       "A692819             1\n",
       "A704896             0"
      ]
     },
     "execution_count": 93,
     "metadata": {},
     "output_type": "execute_result"
    }
   ],
   "source": [
    "y_train[:5]"
   ]
  },
  {
   "cell_type": "code",
   "execution_count": 94,
   "id": "d8b64fca",
   "metadata": {},
   "outputs": [
    {
     "data": {
      "text/plain": [
       "array([[1.        , 0.        ],\n",
       "       [1.        , 0.        ],\n",
       "       [1.        , 0.        ],\n",
       "       [0.66666667, 0.33333333],\n",
       "       [1.        , 0.        ]])"
      ]
     },
     "execution_count": 94,
     "metadata": {},
     "output_type": "execute_result"
    }
   ],
   "source": [
    "y_pred_proba = knn1.predict_proba(X_train)\n",
    "y_pred_proba[:5]"
   ]
  },
  {
   "cell_type": "code",
   "execution_count": 95,
   "id": "158d214c",
   "metadata": {},
   "outputs": [
    {
     "name": "stdout",
     "output_type": "stream",
     "text": [
      "Accuracy of KNN classifier on training set: 0.97\n"
     ]
    }
   ],
   "source": [
    "print('Accuracy of KNN classifier on training set: {:.2f}'\n",
    "     .format(knn1.score(X_train, y_train)))"
   ]
  },
  {
   "cell_type": "code",
   "execution_count": 96,
   "id": "66175a42",
   "metadata": {},
   "outputs": [
    {
     "name": "stdout",
     "output_type": "stream",
     "text": [
      "[[74023   693]\n",
      " [ 1921  3303]]\n"
     ]
    }
   ],
   "source": [
    "print(confusion_matrix(y_train, y_pred))"
   ]
  },
  {
   "cell_type": "code",
   "execution_count": 97,
   "id": "71ba88b7",
   "metadata": {},
   "outputs": [
    {
     "data": {
      "text/plain": [
       "<sklearn.metrics._plot.confusion_matrix.ConfusionMatrixDisplay at 0x164ce5100>"
      ]
     },
     "execution_count": 97,
     "metadata": {},
     "output_type": "execute_result"
    },
    {
     "data": {
      "image/png": "[encoded data removed]",
      "text/plain": [
       "<Figure size 432x288 with 2 Axes>"
      ]
     },
     "metadata": {
      "needs_background": "light"
     },
     "output_type": "display_data"
    }
   ],
   "source": [
    "plot_confusion_matrix(knn1, X_train, y_train)"
   ]
  },
  {
   "cell_type": "code",
   "execution_count": 98,
   "id": "7f19af56",
   "metadata": {},
   "outputs": [
    {
     "name": "stdout",
     "output_type": "stream",
     "text": [
      "Accuracy of KNN (k=3) classifier on validate set: 0.96\n"
     ]
    }
   ],
   "source": [
    "print('Accuracy of KNN (k=3) classifier on validate set: {:.2f}'\n",
    "     .format(knn1.score(X_validate, y_validate)))"
   ]
  },
  {
   "cell_type": "code",
   "execution_count": 99,
   "id": "b80eac72",
   "metadata": {},
   "outputs": [
    {
     "data": {
      "image/png": "[encoded data removed]",
      "text/plain": [
       "<Figure size 1152x648 with 1 Axes>"
      ]
     },
     "metadata": {
      "needs_background": "light"
     },
     "output_type": "display_data"
    }
   ],
   "source": [
    "metrics = []\n",
    "\n",
    "# loop through different values of k\n",
    "for k in range(1, 21):\n",
    "            \n",
    "    # define the thing\n",
    "    knn = KNeighborsClassifier(n_neighbors=k)\n",
    "    \n",
    "    # fit the thing (remmeber only fit on training data)\n",
    "    knn.fit(X_train, y_train)\n",
    "    \n",
    "    # use the thing (calculate accuracy)\n",
    "    train_accuracy = knn.score(X_train, y_train)\n",
    "    validate_accuracy = knn.score(X_validate, y_validate)\n",
    "    \n",
    "    output = {\n",
    "        \"k\": k,\n",
    "        \"train_accuracy\": train_accuracy,\n",
    "        \"validate_accuracy\": validate_accuracy\n",
    "    }\n",
    "    \n",
    "    metrics.append(output)\n",
    "\n",
    "# make a dataframe\n",
    "results = pd.DataFrame(metrics)\n",
    "\n",
    "# plot the data\n",
    "results.set_index('k').plot(figsize = (16,9))\n",
    "plt.ylabel('Accuracy')\n",
    "plt.xticks(np.arange(0,21,1))\n",
    "plt.grid()"
   ]
  },
  {
   "cell_type": "code",
   "execution_count": 100,
   "id": "ba3871fe",
   "metadata": {},
   "outputs": [],
   "source": [
    "knn6 = KNeighborsClassifier(n_neighbors=6, weights='uniform')"
   ]
  },
  {
   "cell_type": "code",
   "execution_count": 101,
   "id": "3eb2a177",
   "metadata": {},
   "outputs": [
    {
     "data": {
      "text/plain": [
       "KNeighborsClassifier(n_neighbors=6)"
      ]
     },
     "execution_count": 101,
     "metadata": {},
     "output_type": "execute_result"
    }
   ],
   "source": [
    "knn6.fit(X_train, y_train)"
   ]
  },
  {
   "cell_type": "code",
   "execution_count": 102,
   "id": "c6f2ae08",
   "metadata": {},
   "outputs": [
    {
     "name": "stdout",
     "output_type": "stream",
     "text": [
      "Accuracy of KNN classifier on training set: 0.96\n"
     ]
    }
   ],
   "source": [
    "print('Accuracy of KNN classifier on training set: {:.2f}'\n",
    "     .format(knn6.score(X_train, y_train)))"
   ]
  },
  {
   "cell_type": "code",
   "execution_count": 103,
   "id": "4516ab73",
   "metadata": {},
   "outputs": [
    {
     "name": "stdout",
     "output_type": "stream",
     "text": [
      "Accuracy of KNN classifier on training set: 0.96\n"
     ]
    }
   ],
   "source": [
    "print('Accuracy of KNN classifier on training set: {:.2f}'\n",
    "     .format(knn6.score(X_validate, y_validate)))"
   ]
  },
  {
   "cell_type": "code",
   "execution_count": null,
   "id": "024fdf9f",
   "metadata": {},
   "outputs": [],
   "source": []
  },
  {
   "cell_type": "markdown",
   "id": "2402bcbb",
   "metadata": {},
   "source": [
    "## Logistic Regression model"
   ]
  },
  {
   "cell_type": "code",
   "execution_count": 104,
   "id": "a2c7bf5b",
   "metadata": {},
   "outputs": [],
   "source": [
    "logit = LogisticRegression(C=1, random_state=123)"
   ]
  },
  {
   "cell_type": "code",
   "execution_count": 105,
   "id": "973bf0c9",
   "metadata": {},
   "outputs": [
    {
     "data": {
      "text/plain": [
       "LogisticRegression(C=1, random_state=123)"
      ]
     },
     "execution_count": 105,
     "metadata": {},
     "output_type": "execute_result"
    }
   ],
   "source": [
    "#  fit the model on train data\n",
    "logit.fit(X_train, y_train)"
   ]
  },
  {
   "cell_type": "code",
   "execution_count": 106,
   "id": "2a42a43c",
   "metadata": {},
   "outputs": [],
   "source": [
    "y_pred = logit.predict(X_train)"
   ]
  },
  {
   "cell_type": "code",
   "execution_count": 107,
   "id": "583338ef",
   "metadata": {},
   "outputs": [
    {
     "data": {
      "text/plain": [
       "array([0, 0, 0, ..., 0, 0, 0], dtype=uint8)"
      ]
     },
     "execution_count": 107,
     "metadata": {},
     "output_type": "execute_result"
    }
   ],
   "source": [
    "y_pred"
   ]
  },
  {
   "cell_type": "code",
   "execution_count": 108,
   "id": "11bd9f9a",
   "metadata": {},
   "outputs": [
    {
     "data": {
      "text/plain": [
       "array([[0.98769235, 0.01230765],\n",
       "       [0.99206451, 0.00793549],\n",
       "       [0.85482696, 0.14517304],\n",
       "       [0.9872834 , 0.0127166 ],\n",
       "       [0.9902753 , 0.0097247 ],\n",
       "       [0.96867295, 0.03132705],\n",
       "       [0.93981761, 0.06018239],\n",
       "       [0.9753486 , 0.0246514 ],\n",
       "       [0.992358  , 0.007642  ],\n",
       "       [0.95070313, 0.04929687]])"
      ]
     },
     "execution_count": 108,
     "metadata": {},
     "output_type": "execute_result"
    }
   ],
   "source": [
    "# look at probability of being in certain class for each observation\n",
    "logit.predict_proba(X_train)[:10]"
   ]
  },
  {
   "cell_type": "code",
   "execution_count": 109,
   "id": "ffc4c5db",
   "metadata": {
    "scrolled": false
   },
   "outputs": [
    {
     "name": "stdout",
     "output_type": "stream",
     "text": [
      "              precision    recall  f1-score   support\n",
      "\n",
      "           0       0.97      0.99      0.98     74716\n",
      "           1       0.78      0.53      0.63      5224\n",
      "\n",
      "    accuracy                           0.96     79940\n",
      "   macro avg       0.87      0.76      0.81     79940\n",
      "weighted avg       0.96      0.96      0.96     79940\n",
      "\n"
     ]
    }
   ],
   "source": [
    "print(classification_report(y_train, y_pred))"
   ]
  },
  {
   "cell_type": "code",
   "execution_count": null,
   "id": "41d33920",
   "metadata": {},
   "outputs": [],
   "source": []
  },
  {
   "cell_type": "code",
   "execution_count": 110,
   "id": "43f7a647",
   "metadata": {},
   "outputs": [],
   "source": [
    "# i tried .05, 2 ,.5 and they all said 96%"
   ]
  },
  {
   "cell_type": "code",
   "execution_count": 111,
   "id": "ec324529",
   "metadata": {},
   "outputs": [],
   "source": [
    "logit1 = LogisticRegression(C=0.05, random_state=123)"
   ]
  },
  {
   "cell_type": "code",
   "execution_count": 112,
   "id": "027fd352",
   "metadata": {},
   "outputs": [
    {
     "data": {
      "text/plain": [
       "LogisticRegression(C=0.05, random_state=123)"
      ]
     },
     "execution_count": 112,
     "metadata": {},
     "output_type": "execute_result"
    }
   ],
   "source": [
    "logit1.fit(X_train, y_train)"
   ]
  },
  {
   "cell_type": "code",
   "execution_count": 113,
   "id": "05deb393",
   "metadata": {},
   "outputs": [],
   "source": [
    "y_pred1 = logit1.predict(X_train)"
   ]
  },
  {
   "cell_type": "code",
   "execution_count": 114,
   "id": "f612304a",
   "metadata": {},
   "outputs": [
    {
     "data": {
      "text/plain": [
       "array([0, 0, 0, ..., 0, 0, 0], dtype=uint8)"
      ]
     },
     "execution_count": 114,
     "metadata": {},
     "output_type": "execute_result"
    }
   ],
   "source": [
    "y_pred1"
   ]
  },
  {
   "cell_type": "code",
   "execution_count": 115,
   "id": "e0c19819",
   "metadata": {},
   "outputs": [
    {
     "data": {
      "text/plain": [
       "array([[0.98686438, 0.01313562],\n",
       "       [0.99143653, 0.00856347],\n",
       "       [0.85830681, 0.14169319],\n",
       "       [0.98642687, 0.01357313],\n",
       "       [0.98955746, 0.01044254],\n",
       "       [0.96733594, 0.03266406],\n",
       "       [0.94019078, 0.05980922],\n",
       "       [0.97413558, 0.02586442],\n",
       "       [0.99162407, 0.00837593],\n",
       "       [0.95078189, 0.04921811]])"
      ]
     },
     "execution_count": 115,
     "metadata": {},
     "output_type": "execute_result"
    }
   ],
   "source": [
    "logit1.predict_proba(X_train)[:10]"
   ]
  },
  {
   "cell_type": "code",
   "execution_count": 116,
   "id": "a0fb7481",
   "metadata": {},
   "outputs": [
    {
     "name": "stdout",
     "output_type": "stream",
     "text": [
      "              precision    recall  f1-score   support\n",
      "\n",
      "           0       0.97      0.99      0.98     74716\n",
      "           1       0.78      0.53      0.63      5224\n",
      "\n",
      "    accuracy                           0.96     79940\n",
      "   macro avg       0.88      0.76      0.81     79940\n",
      "weighted avg       0.96      0.96      0.96     79940\n",
      "\n"
     ]
    }
   ],
   "source": [
    "print(classification_report(y_train, y_pred1))"
   ]
  },
  {
   "cell_type": "code",
   "execution_count": null,
   "id": "cd32dce0",
   "metadata": {},
   "outputs": [],
   "source": []
  }
 ],
 "metadata": {
  "kernelspec": {
   "display_name": "Python 3 (ipykernel)",
   "language": "python",
   "name": "python3"
  },
  "language_info": {
   "codemirror_mode": {
    "name": "ipython",
    "version": 3
   },
   "file_extension": ".py",
   "mimetype": "text/x-python",
   "name": "python",
   "nbconvert_exporter": "python",
   "pygments_lexer": "ipython3",
   "version": "3.9.12"
  }
 },
 "nbformat": 4,
 "nbformat_minor": 5
}
